{
 "cells": [
  {
   "cell_type": "code",
   "execution_count": 2,
   "id": "8f9101bb-5a6e-4b60-9ab5-a655fd843ede",
   "metadata": {},
   "outputs": [],
   "source": [
    "import vertexai\n",
    "from vertexai.language_models import ChatModel, InputOutputTextPair\n",
    "\n",
    "import os\n",
    "\n",
    "# Set the GOOGLE_APPLICATION_CREDENTIALS environment variable to the path of the JSON key file.\n",
    "os.environ[\"GOOGLE_APPLICATION_CREDENTIALS\"] = \"llm-sa2.json\"\n",
    "\n",
    "\n"
   ]
  },
  {
   "cell_type": "code",
   "execution_count": 3,
   "id": "ca297e66-4f7b-4bee-9aea-d93b69297d11",
   "metadata": {},
   "outputs": [],
   "source": [
    "PROJECT_ID = \"llm-project-401322\"\n",
    "LOCATION = \"us-central1\""
   ]
  },
  {
   "cell_type": "code",
   "execution_count": 4,
   "id": "bff7ffe5-cb90-4917-930e-79617e0e25a3",
   "metadata": {},
   "outputs": [],
   "source": [
    "vertexai.init(project=PROJECT_ID, location=LOCATION)\n"
   ]
  },
  {
   "cell_type": "code",
   "execution_count": 4,
   "id": "246151c2-3ac9-47c1-8864-8763a1f0e7fb",
   "metadata": {},
   "outputs": [],
   "source": [
    "\n"
   ]
  },
  {
   "cell_type": "code",
   "execution_count": 5,
   "id": "8319dc6e-d9d8-4074-9656-831d7c556472",
   "metadata": {},
   "outputs": [],
   "source": [
    "parameters = {\n",
    "\n",
    "\"max_output_tokens\": 1024,\n",
    "\"temperature\": 0.2,\n",
    "\"top_p\": 0.8,\n",
    "\"top_k\": 40\n",
    "}\n",
    "\n",
    "\n",
    "# Temperature: 0.7\n",
    "# Top-k: 40\n",
    "# Top-p: 0.9"
   ]
  },
  {
   "cell_type": "code",
   "execution_count": null,
   "id": "26fcf2ad-1e85-4227-a611-4a5468576144",
   "metadata": {},
   "outputs": [],
   "source": []
  },
  {
   "cell_type": "code",
   "execution_count": 6,
   "id": "51604cef-a6be-4862-a08a-140ac23c8e67",
   "metadata": {},
   "outputs": [],
   "source": [
    "chat_model = ChatModel.from_pretrained(\"chat-bison\")\n",
    "\n",
    "chat = chat_model.start_chat(\n",
    "context=\"\"\"<p>**Job Description: Quantitative Analytics Manager/Modeler**</p>\n",
    "<h1 id=\\\"overview\\\">Overview:</h1>\n",
    "<p>We are looking for a skilled Sr. Quantitative Modeler/ Machine\n",
    "Learning Engineer to join our dynamic team. The ideal candidate will\n",
    "have a deep understanding of statistical and machine learning models, as\n",
    "well as a proven track record of implementing and optimizing them for\n",
    "real-world applications. You will work closely with cross-functional\n",
    "teams, and your expertise will be pivotal in driving innovation through\n",
    "modeling and technological solutions.</p>\n",
    "<h1 id=\\\"key-responsibilities\\\">Key Responsibilities:</h1>\n",
    "<p>1. <strong>Design and Implementation:</strong> Develop, implement,\n",
    "and optimize production-ready code for statistical and machine learning\n",
    "models. Ensure that these models are robust, scalable, and efficient for\n",
    "real-world applications.</p>\n",
    "<p>2. <strong>Modeling and Technological solutions:</strong>\n",
    "Conceptualize and architect software solutions tailored for advanced\n",
    "modeling and analytics tasks. This involves understanding the specific\n",
    "requirements of the model, ensuring that the software is modular,\n",
    "scalable, and integrates well with existing systems.</p>\n",
    "<p>2. <strong>Modeling Automation and Deployment:</strong> Design,\n",
    "automate, and deploy a seamless machine learning pipeline to ensure\n",
    "smooth transition from development to production environments.</p>\n",
    "<p>3. <strong>Cross-Functional Collaboration:</strong> Work closely with\n",
    "cross-functional teams, including product managers, software engineers,\n",
    "and data scientists. Provide technical expertise on projects that\n",
    "require data-driven solutions.</p>\n",
    "<p>4. <strong>Cloud Solutions:</strong> Implement machine learning and\n",
    "data engineering solutions predominantly in Google Cloud. Experience\n",
    "with Google Cloud products such as BigQuery, Cloud ML Engine, and\n",
    "Dataflow will be a significant advantage.</p>\n",
    "<p>5. <strong>Continuous Learning:</strong> Stay updated with the latest\n",
    "industry trends in data engineering, machine learning, and cloud\n",
    "computing. Leverage new technologies and methodologies to drive\n",
    "continuous innovation.</p>\n",
    "<p><img src=\\\"media/image1.png\\\" style=\\\"width:6.5in;height:4.40833in\\\"\n",
    "alt=\\\"A screenshot of a computer Description automatically generated\\\" /></p>\n",
    "<h1 id=\\\"required-qualifications-and-skills\\\"> Required Qualifications and\n",
    "Skills </h1>\n",
    "<ul>\n",
    "<li><blockquote>\n",
    "<p>Bachelor\\'s or Master\\'s degree in Data Science, Computer Science,\n",
    "Statistics, Mathematics, or a related field. A Ph.D. is a plus.</p>\n",
    "</blockquote></li>\n",
    "<li><blockquote>\n",
    "<p>7+ years of experience in data science, analytics, or a similar role,\n",
    "with a proven track record of delivering impactful results. </p>\n",
    "</blockquote></li>\n",
    "<li><blockquote>\n",
    "<p>Strong expertise in machine learning, statistical modeling, and data\n",
    "mining techniques.</p>\n",
    "</blockquote></li>\n",
    "<li><blockquote>\n",
    "<p>Proficiency in programming languages such as Python, R, Java, and\n",
    "C++, with experience in Python Flask for web application\n",
    "development.</p>\n",
    "</blockquote></li>\n",
    "<li><blockquote>\n",
    "<p>Experience with data manipulation and visualization tools (e.g., SQL,\n",
    "Pandas, Tableau).</p>\n",
    "</blockquote></li>\n",
    "<li><blockquote>\n",
    "<p>Experience with big data technologies such as Hadoop, Spark, and\n",
    "cloud computing platforms (e.g., AWS, GCP, Azure) is a plus.</p>\n",
    "</blockquote></li>\n",
    "<li><blockquote>\n",
    "<p>Understanding and experience with MLOps and DevOps pipelines is a\n",
    "plus</p>\n",
    "</blockquote></li>\n",
    "<li><blockquote>\n",
    "<p>Exceptional problem-solving and critical-thinking skills, with the\n",
    "ability to break down complex problems into manageable components.</p>\n",
    "</blockquote></li>\n",
    "<li><blockquote>\n",
    "<p>Strong communication and interpersonal skills, with the ability to\n",
    "explain technical concepts to non-technical audiences and drive\n",
    "collaboration across teams.</p>\n",
    "</blockquote></li>\n",
    "</ul>\n",
    "\"\"\",\n",
    ")\n",
    "response = chat.send_message(\"\"\"can you summarize the context of this html response in 4 bullet points. Use link for immages as appropriate. Provide response stricktly in markdown markup\"\"\", **parameters)\n",
    "print(f\"Response from Model: {response.text}\")"
   ]
  },
  {
   "cell_type": "code",
   "execution_count": 9,
   "id": "d2719d28-d3a4-49fb-9f08-f9694b638763",
   "metadata": {},
   "outputs": [
    {
     "name": "stdout",
     "output_type": "stream",
     "text": [
      "Response from Model:  - The job requires a skilled Sr. Quantitative Modeler/ Machine\n",
      "Learning Engineer with 7+ years of experience.\n",
      "\n",
      "\n",
      "- Key responsibilities include designing and implementing production-ready code for statistical and machine learning models, working closely with cross-functional teams, and implementing machine learning and data engineering solutions predominantly in Google Cloud.\n",
      "\n",
      "\n",
      "- Required qualifications and skills include a Bachelor's or Master's degree in Data Science, Computer Science, Statistics, Mathematics, or a related field, strong expertise in machine learning, statistical modeling, and data mining techniques, and proficiency in programming languages such as Python, R, Java, and C++.\n",
      "\n",
      "\n",
      "- Experience with data manipulation and visualization tools (e.g., SQL, Pandas, Tableau), big data technologies such as Hadoop, Spark, and cloud computing platforms (e.g., AWS, GCP, Azure), and MLOps and DevOps pipelines is a plus.\n",
      "\n"
     ]
    }
   ],
   "source": []
  },
  {
   "cell_type": "code",
   "execution_count": 8,
   "id": "a024d5fe-ce12-4ac8-8053-4360e114d4ab",
   "metadata": {},
   "outputs": [
    {
     "name": "stdout",
     "output_type": "stream",
     "text": [
      "Response from Model:  <ul><li>The job requires a skilled Sr. Quantitative Modeler/ Machine\n",
      "Learning Engineer with 7+ years of experience.</li>\n",
      "<li>Key responsibilities include designing and implementing production-ready code for statistical and machine learning models, working closely with cross-functional teams, and implementing machine learning and data engineering solutions predominantly in Google Cloud.</li>\n",
      "<li>Required qualifications and skills include a Bachelor's or Master's degree in Data Science, Computer Science, Statistics, Mathematics, or a related field, strong expertise in machine learning, statistical modeling, and data mining techniques, and proficiency in programming languages such as Python, R, Java, and C++.</li>\n",
      "<li>Experience with data manipulation and visualization tools (e.g., SQL, Pandas, Tableau), big data technologies such as Hadoop, Spark, and cloud computing platforms (e.g., AWS, GCP, Azure), and MLOps and DevOps pipelines is a plus.</li></ul>\n"
     ]
    }
   ],
   "source": [
    "response = chat.send_message(\"\"\"can you summarize the context of this html response in 4 bullet points. Use link for immages as appropriate. Provide strickly html markup in yoru response\"\"\", **parameters)\n",
    "print(f\"Response from Model: {response.text}\")"
   ]
  },
  {
   "cell_type": "code",
   "execution_count": 16,
   "id": "ab27a74b-6906-41e3-9d7f-1ab3768d76f4",
   "metadata": {},
   "outputs": [
    {
     "data": {
      "text/plain": [
       "4"
      ]
     },
     "execution_count": 16,
     "metadata": {},
     "output_type": "execute_result"
    }
   ],
   "source": [
    "len(chat.message_history)"
   ]
  },
  {
   "cell_type": "code",
   "execution_count": null,
   "id": "82d8b26f-5ad8-4134-955d-d206415511ad",
   "metadata": {},
   "outputs": [],
   "source": [
    "response = chat.send_message(\"\"\"Instread of providing as html markup I want you to provide the previous message in markdown markup\"\"\", **parameters)"
   ]
  },
  {
   "cell_type": "code",
   "execution_count": 18,
   "id": "7f3a6486-ff5b-4a53-9640-3c6d85dbd069",
   "metadata": {},
   "outputs": [
    {
     "name": "stdout",
     "output_type": "stream",
     "text": [
      " <ul><li>The job requires a skilled Sr. Quantitative Modeler/ Machine\n",
      "Learning Engineer with a deep understanding of statistical and machine learning models, as well as a proven track record of implementing and optimizing them for\n",
      "real-world applications.</li>\n",
      "<li>Key responsibilities include designing and implementing production-ready code for statistical and machine learning models, conceptualizing and architecting software solutions for advanced\n",
      "modeling and analytics tasks, automating and deploying a seamless machine learning pipeline, working closely with cross-functional teams, and implementing machine learning and\n",
      "data engineering solutions predominantly in Google Cloud.</li>\n",
      "<li>Required qualifications and skills include a Bachelor's or Master's degree in Data Science, Computer Science,\n",
      "Statistics, Mathematics, or a related field, 7+ years of experience in data science, analytics, or a similar role, strong expertise in machine learning, statistical modeling, and data\n",
      "mining techniques, proficiency in programming languages such as Python, R, Java, and\n",
      "C++, experience with data manipulation and visualization tools, experience with big data technologies such as Hadoop, Spark, and\n",
      "cloud computing platforms, and exceptional problem-solving and critical-thinking skills.</li>\n",
      "<li><img src=\"media/image1.png\" style=\"width:6.5in;height:4.40833in\"\n",
      "alt=\"A screenshot of a computer Description automatically generated\" /></li>\n",
      "\n",
      "</ul>\n"
     ]
    }
   ],
   "source": [
    "print(response.text)"
   ]
  },
  {
   "cell_type": "code",
   "execution_count": 20,
   "id": "1ee4022a-9040-48d7-8595-1ae98f0e605a",
   "metadata": {},
   "outputs": [
    {
     "data": {
      "text/plain": [
       "[ChatMessage(content='can you summarize the context of this  html response in 4 bullet points. Use link for immages as appropriate. Provide strickly html markup in yoru response', author='user'),\n",
       " ChatMessage(content=' <ul><li>The job requires a skilled Sr. Quantitative Modeler/ Machine\\nLearning Engineer with a deep understanding of statistical and machine learning models, as well as a proven track record of implementing and optimizing them for\\nreal-world applications.</li>\\n<li>Key responsibilities include designing and implementing production-ready code for statistical and machine learning models, conceptualizing and architecting software solutions for advanced\\nmodeling and analytics tasks, automating and deploying a seamless machine learning pipeline, working closely with cross-functional teams, and implementing machine learning and\\ndata engineering solutions predominantly in Google Cloud.</li>\\n<li>Required qualifications and skills include a Bachelor\\'s or Master\\'s degree in Data Science, Computer Science,\\nStatistics, Mathematics, or a related field, 7+ years of experience in data science, analytics, or a similar role, strong expertise in machine learning, statistical modeling, and data\\nmining techniques, proficiency in programming languages such as Python, R, Java, and\\nC++, experience with data manipulation and visualization tools, experience with big data technologies such as Hadoop, Spark, and\\ncloud computing platforms, and exceptional problem-solving and critical-thinking skills.</li>\\n<li><img src=\"media/image1.png\" style=\"width:6.5in;height:4.40833in\"\\nalt=\"A screenshot of a computer Description automatically generated\" /></li>\\n\\n</ul>', author='bot'),\n",
       " ChatMessage(content='Provide it in markdown', author='user'),\n",
       " ChatMessage(content=' <ul><li>The job requires a skilled Sr. Quantitative Modeler/ Machine\\nLearning Engineer with a deep understanding of statistical and machine learning models, as well as a proven track record of implementing and optimizing them for\\nreal-world applications.</li>\\n<li>Key responsibilities include designing and implementing production-ready code for statistical and machine learning models, conceptualizing and architecting software solutions for advanced\\nmodeling and analytics tasks, automating and deploying a seamless machine learning pipeline, working closely with cross-functional teams, and implementing machine learning and\\ndata engineering solutions predominantly in Google Cloud.</li>\\n<li>Required qualifications and skills include a Bachelor\\'s or Master\\'s degree in Data Science, Computer Science,\\nStatistics, Mathematics, or a related field, 7+ years of experience in data science, analytics, or a similar role, strong expertise in machine learning, statistical modeling, and data\\nmining techniques, proficiency in programming languages such as Python, R, Java, and\\nC++, experience with data manipulation and visualization tools, experience with big data technologies such as Hadoop, Spark, and\\ncloud computing platforms, and exceptional problem-solving and critical-thinking skills.</li>\\n<li><img src=\"media/image1.png\" style=\"width:6.5in;height:4.40833in\"\\nalt=\"A screenshot of a computer Description automatically generated\" /></li>\\n\\n</ul>', author='bot'),\n",
       " ChatMessage(content='Instread of providing as html markup I want you to provide the previous message in markdown markup', author='user'),\n",
       " ChatMessage(content=' <ul><li>The job requires a skilled Sr. Quantitative Modeler/ Machine\\nLearning Engineer with a deep understanding of statistical and machine learning models, as well as a proven track record of implementing and optimizing them for\\nreal-world applications.</li>\\n<li>Key responsibilities include designing and implementing production-ready code for statistical and machine learning models, conceptualizing and architecting software solutions for advanced\\nmodeling and analytics tasks, automating and deploying a seamless machine learning pipeline, working closely with cross-functional teams, and implementing machine learning and\\ndata engineering solutions predominantly in Google Cloud.</li>\\n<li>Required qualifications and skills include a Bachelor\\'s or Master\\'s degree in Data Science, Computer Science,\\nStatistics, Mathematics, or a related field, 7+ years of experience in data science, analytics, or a similar role, strong expertise in machine learning, statistical modeling, and data\\nmining techniques, proficiency in programming languages such as Python, R, Java, and\\nC++, experience with data manipulation and visualization tools, experience with big data technologies such as Hadoop, Spark, and\\ncloud computing platforms, and exceptional problem-solving and critical-thinking skills.</li>\\n<li><img src=\"media/image1.png\" style=\"width:6.5in;height:4.40833in\"\\nalt=\"A screenshot of a computer Description automatically generated\" /></li>\\n\\n</ul>', author='bot')]"
      ]
     },
     "execution_count": 20,
     "metadata": {},
     "output_type": "execute_result"
    }
   ],
   "source": [
    "chat.message_history"
   ]
  },
  {
   "cell_type": "code",
   "execution_count": 3,
   "id": "3cde3d14-7275-4133-8364-3af0131ec4a6",
   "metadata": {},
   "outputs": [
    {
     "data": {
      "text/plain": [
       "0.025"
      ]
     },
     "execution_count": 3,
     "metadata": {},
     "output_type": "execute_result"
    }
   ],
   "source": [
    "0.0005 * 48000/1000 + 0.0005 * 2000/1000"
   ]
  },
  {
   "cell_type": "markdown",
   "id": "c9c39e09-53ff-42e0-8773-278a6fccc262",
   "metadata": {},
   "source": [
    "# Using 32k model for summary"
   ]
  },
  {
   "cell_type": "code",
   "execution_count": 9,
   "id": "ac8c0973-c80d-4e46-8105-868ad32de461",
   "metadata": {},
   "outputs": [],
   "source": [
    "from vertexai.language_models import TextGenerationModel\n"
   ]
  },
  {
   "cell_type": "code",
   "execution_count": 6,
   "id": "fc3682ea-c332-4740-a987-8069fe14bae2",
   "metadata": {},
   "outputs": [],
   "source": [
    "from pdfminer.high_level import extract_text\n",
    "textpdf = extract_text('documents/2022 Annual Letter - Chamath Palihapitiya.pdf')"
   ]
  },
  {
   "cell_type": "code",
   "execution_count": null,
   "id": "8e5aed68-971e-40b9-9a78-3551fcaf72f1",
   "metadata": {},
   "outputs": [],
   "source": [
    "# vertexai.init(project=\"llm-project-401322\", location=\"us-central1\")\n",
    "chat_model = ChatModel.from_pretrained(\"chat-bison\")"
   ]
  },
  {
   "cell_type": "code",
   "execution_count": 95,
   "id": "8df48438-ca23-4bc3-af05-86676ffbf470",
   "metadata": {},
   "outputs": [],
   "source": [
    "\n"
   ]
  },
  {
   "cell_type": "code",
   "execution_count": 22,
   "id": "107a8b3d-6792-4ecc-a708-c5f0fc391666",
   "metadata": {},
   "outputs": [],
   "source": [
    "parameters = {\n",
    "\"max_output_tokens\": 2000,\n",
    "\"temperature\": 0.2,\n",
    "\"top_p\": 0.8,\n",
    "\"top_k\": 40\n",
    "}"
   ]
  },
  {
   "cell_type": "code",
   "execution_count": 197,
   "id": "7e02864b-446d-4e4b-98e3-7248b927ae33",
   "metadata": {},
   "outputs": [],
   "source": [
    "def chunk_text(text, char_limit):\n",
    "words = text.split(' ')\n",
    "chunks = []\n",
    "current_chunk = ''\n",
    "\n",
    "for word in words:\n",
    "if len(current_chunk + word) <= char_limit:\n",
    "current_chunk += ' ' + word\n",
    "else:\n",
    "chunks.append(current_chunk)\n",
    "current_chunk = word\n",
    "chunks.append(current_chunk) # add the last chunk\n",
    "\n",
    "return chunks\n",
    "\n",
    "\n",
    "def overlapping_chunks(text, chunk_size, overlap_size):\n",
    "chunks = []\n",
    "text_length = len(text)\n",
    "\n",
    "# Starting index for the next chunk\n",
    "idx = 0\n",
    "\n",
    "while idx < text_length:\n",
    "# Calculate the end index for the current chunk\n",
    "end_idx = min(idx + chunk_size, text_length)\n",
    "\n",
    "chunks.append(text[idx:end_idx])\n",
    "\n",
    "# Move the starting index for the next chunk, considering the overlap\n",
    "idx += chunk_size - overlap_size\n",
    "\n",
    "return chunks\n",
    "\n",
    "def summarize_chunks(text, model, parameters):\n",
    "CHAR_LIMIT = 24000 # well below the max to ensure we don't exceed the token limit\n",
    "chunks = chunk_text(text, CHAR_LIMIT)\n",
    "\n",
    "summarized_chunks = []\n",
    "for chunk in chunks:\n",
    "chat = model.start_chat(context=f\"Summarize the following text into a concise format:\")\n",
    "response = chat.send_message(chunk, **parameters)\n",
    "summarized_chunks.append(response.text) # appending summarized content for each chunk\n",
    "\n",
    "return ' '.join(summarized_chunks)\n",
    "\n"
   ]
  },
  {
   "cell_type": "code",
   "execution_count": 196,
   "id": "5ce8bf37-604d-4a40-a7c3-c68f2b65bee8",
   "metadata": {},
   "outputs": [],
   "source": [
    "# chunks[2]"
   ]
  },
  {
   "cell_type": "code",
   "execution_count": 12,
   "id": "c237426e-eab8-4277-8313-a2070a9c84e4",
   "metadata": {},
   "outputs": [],
   "source": [
    "chat = chat_model.start_chat(context=f\"Summarize the following text into a concise format:\")\n"
   ]
  },
  {
   "cell_type": "code",
   "execution_count": null,
   "id": "51a50e63-149c-4503-8de8-fd2fa6ba2206",
   "metadata": {},
   "outputs": [],
   "source": [
    "text = textpdf\n",
    "CHAR_LIMIT = 12000 # well below the max to ensure we don't exceed the token limit\n",
    "chunks = overlapping_chunks(text, CHAR_LIMIT, overlap_size = 4000)\n",
    "chunks"
   ]
  },
  {
   "cell_type": "code",
   "execution_count": 80,
   "id": "d771e2d1-d37f-4499-b546-9ab131e58995",
   "metadata": {},
   "outputs": [],
   "source": [
    "\n",
    "# summarized_chunks = []\n",
    "# for chunk in chunks:\n",
    "# response = chat.send_message(chunk, **parameters)\n",
    "# summarized_chunks.append(response.text) # appending summarized content for each chunk\n"
   ]
  },
  {
   "cell_type": "code",
   "execution_count": 88,
   "id": "b27c4780-c5bf-4d77-8465-cf7efaf97f7b",
   "metadata": {},
   "outputs": [
    {
     "data": {
      "text/plain": [
       "3285"
      ]
     },
     "execution_count": 88,
     "metadata": {},
     "output_type": "execute_result"
    }
   ],
   "source": [
    "texttosummarize = \"\"\"\n",
    "\"8/11/23, 6:36 PM\\n\\n2022 Annual Letter - Chamath Palihapitiya\\n\\n2022 Annual Letter\\n\\nCHAMATH PALIHAPITIYA\\n\\nAPR 4, 2023\\n\\n23\\n\\n1\\n\\nShare\\n\\nSocial Capital Performance Summary\\n\\nTo the supporters and friends of Social Capital:\\n\\nhttps://chamath.substack.com/p/2022-annual-letter#footnote-anchor-4-108054412\\n\\n1/27\\n\\n\\x0c8/11/23, 6:36 PM\\n\\n2022 Annual Letter - Chamath Palihapitiya\\n\\nThis is the fifth of our annual letters in which we discuss our observations and\\n\\nreflections of the year passed, how they’ve shaped our investment views, and\\n\\nother ideas on technology, markets, and our mission to build the future.\\n\\nSince we started Social Capital in 2011, our work has touched many different parts\\n\\nof the technology ecosystem, from investing in Bitcoin and SaaS in the early 2010s\\n\\nto our more recent bets in deep tech, life sciences, and energy transition.\\n\\nAs an organization, we have tried to be flexible in how we allocate and deploy\\n\\ncapital, whether it’s investing across stages from seed to growth, funding strategic\\n\\nacquisitions and seeking M&A opportunities for our portfolio, anchoring IPOs and\\n\\nmaking public market investments, or enabling access to the public markets via\\n\\nSPACs.\\n\\nWith each opportunity we weigh the risks with the information at the time, and if\\n\\nwe believe an opportunity is priced correctly, we take the risk. At times this has\\n\\nmeant forging our own path and investing across stages and asset classes, which\\n\\ncan sometimes be a lonely road. But we’ve also tried to create room for others to\\n\\neither partner alongside us or copy something that works. Ultimately, our\\n\\ninvestments are judged on whether they worked or not from time of entry to time\\n\\nof exit.\\n\\nAll of this said, while this approach has led us to explore different areas of\\n\\ntechnology and a range of capital raising tools, we believe there has been a\\n\\ncommon theme that has defined our work over the past 12 years: partnering with\\n\\nambitious, independent thinkers who as founders are building companies from\\n\\nfirst principles. Ideally, when everything converges, we have historically been able\\n\\nto achieve both meaningful societal progress and meaningful commercial\\n\\noutcomes.\\n\\nBuilding companies in an age of austerity\\n\\nCurrently, we find ourselves navigating one of the most complicated environments\\n\\nof the past 20\\x00 years of technology investing.\\n\\nhttps://chamath.substack.com/p/2022-annual-letter#footnote-anchor-4-108054412\\n\\n2/27\\n\\n\\x0c8/11/23, 6:36 PM\\n\\n2022 Annual Letter - Chamath Palihapitiya\\n\\nIn our 2021 annual letter, we wrote that the formula for successful technology\\n\\ninvesting must include founders who have the discipline to be hyper-focused on\\n\\nthe things that will help their businesses succeed, balanced with the ability to\\n\\nignore noise and distractions, no matter how difficult or unpopular. When done\\n\\nwell, these specific founders have shown great ability to deliver outsized\\n\\noutcomes for their customers, employees, and investors.\\n\\nHowever, on the cusp of a generation-defining economic regime change, many of\\n\\nus hadn’t adequately considered a key factor, which up until 2022 has been often\\n\\nforgotten or overlooked: austerity.\\n\\nAs we enter a sustained period of non-zero interest rates, discipline of mission\\n\\nmust now also intersect with discipline of management and operation.\n",
    "\"\"\"\n",
    "len(texttosummarize)\n"
   ]
  },
  {
   "cell_type": "code",
   "execution_count": 81,
   "id": "bab58319-7757-4f00-b1a0-13d8d8830f43",
   "metadata": {},
   "outputs": [],
   "source": [
    "chat = chat_model.start_chat(**parameters)"
   ]
  },
  {
   "cell_type": "markdown",
   "id": "b96ddd2e-f0ae-4e09-83e2-59ba2147fc45",
   "metadata": {},
   "source": [
    "# Option 1"
   ]
  },
  {
   "cell_type": "code",
   "execution_count": 125,
   "id": "016fbb83-362f-4b56-86e5-dc7e7ceafa3b",
   "metadata": {},
   "outputs": [],
   "source": [
    "chat_model = TextGenerationModel.from_pretrained(\"text-bison\")\n",
    "\n",
    "response = chat_model.predict(\n",
    "f\"\"\"Summarize the following text. Explain it to non-business audience and add context where need to clarify concepts. Do not use more then 500 words:\n",
    "context: {chunks[0]}\"\"\" , **parameters\n",
    ")"
   ]
  },
  {
   "cell_type": "code",
   "execution_count": 163,
   "id": "f0073de0-f519-413a-9508-bdfbf814f9fe",
   "metadata": {},
   "outputs": [],
   "source": [
    "# print(response.text) "
   ]
  },
  {
   "cell_type": "markdown",
   "id": "1af4a844-3568-433c-b204-9b12eb2f6455",
   "metadata": {},
   "source": [
    "# Option 2"
   ]
  },
  {
   "cell_type": "code",
   "execution_count": null,
   "id": "1fb6f237-de58-4cb4-89d4-b2e8629ee0a2",
   "metadata": {},
   "outputs": [],
   "source": [
    "chat_model = TextGenerationModel.from_pretrained(\"text-bison\")"
   ]
  },
  {
   "cell_type": "code",
   "execution_count": null,
   "id": "99d2d151-bd73-40f8-a5b3-0e7b3c2e6629",
   "metadata": {},
   "outputs": [],
   "source": [
    "response = chat_model.predict(\n",
    "f\"\"\"You are financial and economics analyst. Provide the summary of the following text:\n",
    "\n",
    "context: {chunks[0]}\"\"\" , **parameters\n",
    ")"
   ]
  },
  {
   "cell_type": "code",
   "execution_count": 177,
   "id": "8cb46a4b-3e73-4b77-aaf5-b2a68b76cfe6",
   "metadata": {},
   "outputs": [],
   "source": [
    "# \n",
    "parameters = {\n",
    "\"max_output_tokens\": 2000,\n",
    "\"temperature\": 0.2,\n",
    "\"top_p\": 0.8,\n",
    "\"top_k\": 40\n",
    "}"
   ]
  },
  {
   "cell_type": "markdown",
   "id": "1754d17a-1864-4303-860b-4b4b77cdd255",
   "metadata": {},
   "source": [
    "\n",
    "* f\"\"\"You are financial and economics analyst. Provide the detailed summary of the following text:\"\"\"\n",
    "* f\"\"\"You are financial and economics analyst. Provide the summary of the following text:\"\"\" # Good\n",
    "* f\"\"\"You are financial and economics analyst. Explain and elaborate on the following text:\"\"\"\n",
    "* f\"\"\"You are financial and economics analyst. Explain and elaborate on the following text:\"\"\"\n",
    "* Condense and refine the following summarized text.\n",
    "* Provide a detailed review-style summary of the following article, mentioning key points the author makes: # good summary but it gets cut in the second step a lot"
   ]
  },
  {
   "cell_type": "code",
   "execution_count": 254,
   "id": "e0205f78-45d2-4785-9bb6-d6a536b3a8d0",
   "metadata": {},
   "outputs": [],
   "source": [
    "text = textpdf\n",
    "CHAR_LIMIT = 18000 # well below the max to ensure we don't exceed the token limit\n",
    "chunks = overlapping_chunks(text, CHAR_LIMIT, overlap_size=6000)\n",
    "\n",
    "summarized_chunks = []\n",
    "for chunk in chunks:\n",
    "\n",
    "response = chat_model.predict(f\"\"\"You are financial and economics analyst. You are financial and economics analyst. Provide the summary of the following text:\\n{chunk}\"\"\" , **parameters)\n",
    "summarized_chunks.append(response.text)"
   ]
  },
  {
   "cell_type": "code",
   "execution_count": 259,
   "id": "28f43a93-aeb5-4f87-a002-d0e1b15e513f",
   "metadata": {},
   "outputs": [],
   "source": []
  },
  {
   "cell_type": "code",
   "execution_count": 263,
   "id": "53e160d5-bcb8-4d5a-8904-9fdbdb1848d0",
   "metadata": {},
   "outputs": [],
   "source": [
    "# summary = \"\\n\".join(summarized_chunks)\n",
    "# print(summary)"
   ]
  },
  {
   "cell_type": "code",
   "execution_count": 200,
   "id": "27ed639d-d1b2-4992-8ad1-6948feeab1b5",
   "metadata": {},
   "outputs": [],
   "source": [
    "summary = \"\\n\".join(summarized_chunks)\n",
    "response = chat_model.predict(f\"\"\"Curate the following text as you are writing an article. Add section headers for each logical section. Provide the response in HTML markup:{summary}\"\"\" , **parameters)"
   ]
  },
  {
   "cell_type": "code",
   "execution_count": 248,
   "id": "7c6c807f-5de7-4a5c-95eb-d1cca8d264f7",
   "metadata": {},
   "outputs": [],
   "source": [
    "parameters = {\n",
    "\"max_output_tokens\": 2000,\n",
    "\"temperature\": 0.7,\n",
    "\"top_p\": 0.6,\n",
    "\"top_k\": 40\n",
    "}"
   ]
  },
  {
   "cell_type": "code",
   "execution_count": 249,
   "id": "786b3db2-1da0-4d97-a5bf-ce947aa9433f",
   "metadata": {},
   "outputs": [],
   "source": [
    "summary = \"\\n\".join(summarized_chunks)\n",
    "response = chat_model.predict(f\"\"\"The following text is the combination of the individual summaries for a large article. Use bullet point where needed to improve readability. Every piece of information is important.\n",
    "Organize the following text into logical sections, making sure that no information is lost in the process. \n",
    "Add headers for each section and provide the response in HTML markup:\n",
    "\n",
    "{summary}\"\"\" , **parameters)"
   ]
  },
  {
   "cell_type": "markdown",
   "id": "5e90ac03-5787-4007-a1c8-373e5bc6b6d5",
   "metadata": {},
   "source": [
    "# Bullet point format \n",
    "\n",
    "I like it"
   ]
  },
  {
   "cell_type": "code",
   "execution_count": 255,
   "id": "a90cbe95-ae1a-4715-82b0-902cf59a80ed",
   "metadata": {},
   "outputs": [],
   "source": [
    "summary = \"\\n\".join(summarized_chunks)\n",
    "response = chat_model.predict(f\"\"\"The following text is the combination of the individual summaries for a large article. Every piece of information is important.\n",
    "Organize the following text into logical sections and add header to each section. Use bullet point format in this summary. \n",
    "Provide the response in HTML markup:\n",
    "\n",
    "{summary}\"\"\" , **parameters)"
   ]
  },
  {
   "cell_type": "code",
   "execution_count": 258,
   "id": "93c5f4e5-98f0-4bb1-bfea-9ffa8bd15f8a",
   "metadata": {},
   "outputs": [
    {
     "data": {
      "text/plain": [
       " <!DOCTYPE html>\n",
       "<html>\n",
       "<head>\n",
       "  <title>2022 Annual Letter - Chamath Palihapitiya</title>\n",
       "</head>\n",
       "\n",
       "<body>\n",
       "  <h1>2022 Annual Letter - Chamath Palihapitiya</h1>\n",
       "\n",
       "  <h2>Economic Climate and Outlook for 2023</h2>\n",
       "  <ul>\n",
       "    <li>The Federal Reserve has raised interest rates in an effort to combat inflation.</li>\n",
       "    <li>This has led to a decline in stock prices and a slowdown in economic growth.</li>\n",
       "    <li>The author believes that the economy is likely to enter a recession in 2023.</li>\n",
       "    <li>This will lead to further declines in stock prices.</li>\n",
       "    <li>However, the author also believes that there are some bright spots in the economy, such as the continued growth of the technology sector.</li>\n",
       "  </ul>\n",
       "\n",
       "  <h2>Advice to Investors</h2>\n",
       "  <ul>\n",
       "    <li>Focus on companies with strong fundamentals.</li>\n",
       "    <li>Avoid investing in companies that are overvalued.</li>\n",
       "  </ul>\n",
       "\n",
       "  <h2>Recent Bets</h2>\n",
       "  <ul>\n",
       "    <li>Palmetto: A company that is developing a new type of solar panel.</li>\n",
       "    <li>Mitra Chem: A company that is developing a new type of battery.</li>\n",
       "    <li>Swarm: A company that is developing a new type of drone.</li>\n",
       "    <li>Saildrone: A company that is developing a new type of autonomous sailboat.</li>\n",
       "    <li>Early Is Good: A company that is developing a new type of cancer treatment.</li>\n",
       "  </ul>\n",
       "\n",
       "  <h2>Conclusion</h2>\n",
       "  <ul>\n",
       "    <li>Palihapitiya is focused and grinding everyday.</li>\n",
       "    <li>He is excited to see what the future holds.</li>\n",
       "  </ul>\n",
       "\n",
       "  <h2>Email from Emmanuel Gunaratnam to Chamath Palihapitiya</h2>\n",
       "  <ul>\n",
       "    <li>Gunaratnam expresses his admiration for Palihapitiya.</li>\n",
       "    <li>He mentions that he had previously written to Palihapitiya about the economic crisis in Sri Lanka.</li>\n",
       "    <li>He also mentions that he had tried to contact Palihapitiya when he brought the Google Loon project to Sri Lanka, but that it was too late.</li>\n",
       "    <li>Gunaratnam then offers his services as a retired career banker and current employee of the Consulate of Iceland in Sri Lanka.</li>\n",
       "  </ul>\n",
       "</body>\n",
       "</html>"
      ]
     },
     "execution_count": 258,
     "metadata": {},
     "output_type": "execute_result"
    }
   ],
   "source": [
    "response"
   ]
  },
  {
   "cell_type": "code",
   "execution_count": 256,
   "id": "0a8d74b7-4baa-4cc4-96b2-a6c1d8908c3a",
   "metadata": {},
   "outputs": [
    {
     "name": "stdout",
     "output_type": "stream",
     "text": [
      "2045\n",
      "3065\n"
     ]
    }
   ],
   "source": [
    "print(len(response.text))\n",
    "print(len(summary))\n",
    "# print(summary)"
   ]
  },
  {
   "cell_type": "code",
   "execution_count": 257,
   "id": "b45079c3-8374-4fc0-983e-3264874bdeff",
   "metadata": {},
   "outputs": [
    {
     "data": {},
     "metadata": {},
     "output_type": "display_data"
    },
    {
     "data": {
      "application/vnd.holoviews_exec.v0+json": "",
      "text/html": [
       "<div id='451f4c14-98be-4fa4-9991-e20a3ce8d82a'>\n",
       "  <div id=\"d63499f6-d018-4667-ab5d-854e882b45fe\" data-root-id=\"451f4c14-98be-4fa4-9991-e20a3ce8d82a\" style=\"display: contents;\"></div>\n",
       "</div>\n",
       "<script type=\"application/javascript\">(function(root) {\n",
       "  var docs_json = {\"c9f7a061-a658-46df-832a-d964a3e7e73f\":{\"version\":\"3.1.1\",\"title\":\"Bokeh Application\",\"defs\":[{\"type\":\"model\",\"name\":\"ReactiveHTML1\"},{\"type\":\"model\",\"name\":\"FlexBox1\",\"properties\":[{\"name\":\"align_content\",\"kind\":\"Any\",\"default\":\"flex-start\"},{\"name\":\"align_items\",\"kind\":\"Any\",\"default\":\"flex-start\"},{\"name\":\"flex_direction\",\"kind\":\"Any\",\"default\":\"row\"},{\"name\":\"flex_wrap\",\"kind\":\"Any\",\"default\":\"wrap\"},{\"name\":\"justify_content\",\"kind\":\"Any\",\"default\":\"flex-start\"}]},{\"type\":\"model\",\"name\":\"FloatPanel1\",\"properties\":[{\"name\":\"config\",\"kind\":\"Any\",\"default\":{\"type\":\"map\"}},{\"name\":\"contained\",\"kind\":\"Any\",\"default\":true},{\"name\":\"position\",\"kind\":\"Any\",\"default\":\"right-top\"},{\"name\":\"offsetx\",\"kind\":\"Any\",\"default\":null},{\"name\":\"offsety\",\"kind\":\"Any\",\"default\":null},{\"name\":\"theme\",\"kind\":\"Any\",\"default\":\"primary\"},{\"name\":\"status\",\"kind\":\"Any\",\"default\":\"normalized\"}]},{\"type\":\"model\",\"name\":\"GridStack1\",\"properties\":[{\"name\":\"mode\",\"kind\":\"Any\",\"default\":\"warn\"},{\"name\":\"ncols\",\"kind\":\"Any\",\"default\":null},{\"name\":\"nrows\",\"kind\":\"Any\",\"default\":null},{\"name\":\"allow_resize\",\"kind\":\"Any\",\"default\":true},{\"name\":\"allow_drag\",\"kind\":\"Any\",\"default\":true},{\"name\":\"state\",\"kind\":\"Any\",\"default\":[]}]},{\"type\":\"model\",\"name\":\"drag1\",\"properties\":[{\"name\":\"slider_width\",\"kind\":\"Any\",\"default\":5},{\"name\":\"slider_color\",\"kind\":\"Any\",\"default\":\"black\"},{\"name\":\"value\",\"kind\":\"Any\",\"default\":50}]},{\"type\":\"model\",\"name\":\"click1\",\"properties\":[{\"name\":\"terminal_output\",\"kind\":\"Any\",\"default\":\"\"},{\"name\":\"debug_name\",\"kind\":\"Any\",\"default\":\"\"},{\"name\":\"clears\",\"kind\":\"Any\",\"default\":0}]},{\"type\":\"model\",\"name\":\"FastWrapper1\",\"properties\":[{\"name\":\"object\",\"kind\":\"Any\",\"default\":null},{\"name\":\"style\",\"kind\":\"Any\",\"default\":null}]},{\"type\":\"model\",\"name\":\"NotificationAreaBase1\",\"properties\":[{\"name\":\"js_events\",\"kind\":\"Any\",\"default\":{\"type\":\"map\"}},{\"name\":\"position\",\"kind\":\"Any\",\"default\":\"bottom-right\"},{\"name\":\"_clear\",\"kind\":\"Any\",\"default\":0}]},{\"type\":\"model\",\"name\":\"NotificationArea1\",\"properties\":[{\"name\":\"js_events\",\"kind\":\"Any\",\"default\":{\"type\":\"map\"}},{\"name\":\"notifications\",\"kind\":\"Any\",\"default\":[]},{\"name\":\"position\",\"kind\":\"Any\",\"default\":\"bottom-right\"},{\"name\":\"_clear\",\"kind\":\"Any\",\"default\":0},{\"name\":\"types\",\"kind\":\"Any\",\"default\":[{\"type\":\"map\",\"entries\":[[\"type\",\"warning\"],[\"background\",\"#ffc107\"],[\"icon\",{\"type\":\"map\",\"entries\":[[\"className\",\"fas fa-exclamation-triangle\"],[\"tagName\",\"i\"],[\"color\",\"white\"]]}]]},{\"type\":\"map\",\"entries\":[[\"type\",\"info\"],[\"background\",\"#007bff\"],[\"icon\",{\"type\":\"map\",\"entries\":[[\"className\",\"fas fa-info-circle\"],[\"tagName\",\"i\"],[\"color\",\"white\"]]}]]}]}]},{\"type\":\"model\",\"name\":\"Notification\",\"properties\":[{\"name\":\"background\",\"kind\":\"Any\",\"default\":null},{\"name\":\"duration\",\"kind\":\"Any\",\"default\":3000},{\"name\":\"icon\",\"kind\":\"Any\",\"default\":null},{\"name\":\"message\",\"kind\":\"Any\",\"default\":\"\"},{\"name\":\"notification_type\",\"kind\":\"Any\",\"default\":null},{\"name\":\"_destroyed\",\"kind\":\"Any\",\"default\":false}]},{\"type\":\"model\",\"name\":\"TemplateActions1\",\"properties\":[{\"name\":\"open_modal\",\"kind\":\"Any\",\"default\":0},{\"name\":\"close_modal\",\"kind\":\"Any\",\"default\":0}]},{\"type\":\"model\",\"name\":\"BootstrapTemplateActions1\",\"properties\":[{\"name\":\"open_modal\",\"kind\":\"Any\",\"default\":0},{\"name\":\"close_modal\",\"kind\":\"Any\",\"default\":0}]},{\"type\":\"model\",\"name\":\"MaterialTemplateActions1\",\"properties\":[{\"name\":\"open_modal\",\"kind\":\"Any\",\"default\":0},{\"name\":\"close_modal\",\"kind\":\"Any\",\"default\":0}]}],\"roots\":[{\"type\":\"object\",\"name\":\"panel.models.markup.HTML\",\"id\":\"451f4c14-98be-4fa4-9991-e20a3ce8d82a\",\"attributes\":{\"stylesheets\":[\"\\n:host(.pn-loading.pn-arc):before, .pn-loading.pn-arc:before {\\n  background-image: url(\\\"data:image/svg+xml;base64,PHN2ZyB4bWxucz0iaHR0cDovL3d3dy53My5vcmcvMjAwMC9zdmciIHN0eWxlPSJtYXJnaW46IGF1dG87IGJhY2tncm91bmQ6IG5vbmU7IGRpc3BsYXk6IGJsb2NrOyBzaGFwZS1yZW5kZXJpbmc6IGF1dG87IiB2aWV3Qm94PSIwIDAgMTAwIDEwMCIgcHJlc2VydmVBc3BlY3RSYXRpbz0ieE1pZFlNaWQiPiAgPGNpcmNsZSBjeD0iNTAiIGN5PSI1MCIgZmlsbD0ibm9uZSIgc3Ryb2tlPSIjYzNjM2MzIiBzdHJva2Utd2lkdGg9IjEwIiByPSIzNSIgc3Ryb2tlLWRhc2hhcnJheT0iMTY0LjkzMzYxNDMxMzQ2NDE1IDU2Ljk3Nzg3MTQzNzgyMTM4Ij4gICAgPGFuaW1hdGVUcmFuc2Zvcm0gYXR0cmlidXRlTmFtZT0idHJhbnNmb3JtIiB0eXBlPSJyb3RhdGUiIHJlcGVhdENvdW50PSJpbmRlZmluaXRlIiBkdXI9IjFzIiB2YWx1ZXM9IjAgNTAgNTA7MzYwIDUwIDUwIiBrZXlUaW1lcz0iMDsxIj48L2FuaW1hdGVUcmFuc2Zvcm0+ICA8L2NpcmNsZT48L3N2Zz4=\\\");\\n  background-size: auto calc(min(50%, 400px));\\n}\",{\"type\":\"object\",\"name\":\"ImportedStyleSheet\",\"id\":\"687f6820-2969-49a4-ab89-0e50f0f9f747\",\"attributes\":{\"url\":\"https://cdn.holoviz.org/panel/1.2.3/dist/css/loading.css\"}},{\"type\":\"object\",\"name\":\"ImportedStyleSheet\",\"id\":\"b2f7dc68-1389-4f7f-a9e1-8f4a02814f4c\",\"attributes\":{\"url\":\"https://cdn.holoviz.org/panel/1.2.3/dist/bundled/theme/default.css\"}},{\"type\":\"object\",\"name\":\"ImportedStyleSheet\",\"id\":\"07733ed7-1466-4704-aade-c540e4dffa07\",\"attributes\":{\"url\":\"https://cdn.holoviz.org/panel/1.2.3/dist/bundled/theme/native.css\"}}],\"margin\":[5,10],\"align\":\"start\",\"text\":\" &lt;!DOCTYPE html&gt;\\n&lt;html&gt;\\n&lt;head&gt;\\n  &lt;title&gt;2022 Annual Letter - Chamath Palihapitiya&lt;/title&gt;\\n&lt;/head&gt;\\n\\n&lt;body&gt;\\n  &lt;h1&gt;2022 Annual Letter - Chamath Palihapitiya&lt;/h1&gt;\\n\\n  &lt;h2&gt;Economic Climate and Outlook for 2023&lt;/h2&gt;\\n  &lt;ul&gt;\\n    &lt;li&gt;The Federal Reserve has raised interest rates in an effort to combat inflation.&lt;/li&gt;\\n    &lt;li&gt;This has led to a decline in stock prices and a slowdown in economic growth.&lt;/li&gt;\\n    &lt;li&gt;The author believes that the economy is likely to enter a recession in 2023.&lt;/li&gt;\\n    &lt;li&gt;This will lead to further declines in stock prices.&lt;/li&gt;\\n    &lt;li&gt;However, the author also believes that there are some bright spots in the economy, such as the continued growth of the technology sector.&lt;/li&gt;\\n  &lt;/ul&gt;\\n\\n  &lt;h2&gt;Advice to Investors&lt;/h2&gt;\\n  &lt;ul&gt;\\n    &lt;li&gt;Focus on companies with strong fundamentals.&lt;/li&gt;\\n    &lt;li&gt;Avoid investing in companies that are overvalued.&lt;/li&gt;\\n  &lt;/ul&gt;\\n\\n  &lt;h2&gt;Recent Bets&lt;/h2&gt;\\n  &lt;ul&gt;\\n    &lt;li&gt;Palmetto: A company that is developing a new type of solar panel.&lt;/li&gt;\\n    &lt;li&gt;Mitra Chem: A company that is developing a new type of battery.&lt;/li&gt;\\n    &lt;li&gt;Swarm: A company that is developing a new type of drone.&lt;/li&gt;\\n    &lt;li&gt;Saildrone: A company that is developing a new type of autonomous sailboat.&lt;/li&gt;\\n    &lt;li&gt;Early Is Good: A company that is developing a new type of cancer treatment.&lt;/li&gt;\\n  &lt;/ul&gt;\\n\\n  &lt;h2&gt;Conclusion&lt;/h2&gt;\\n  &lt;ul&gt;\\n    &lt;li&gt;Palihapitiya is focused and grinding everyday.&lt;/li&gt;\\n    &lt;li&gt;He is excited to see what the future holds.&lt;/li&gt;\\n  &lt;/ul&gt;\\n\\n  &lt;h2&gt;Email from Emmanuel Gunaratnam to Chamath Palihapitiya&lt;/h2&gt;\\n  &lt;ul&gt;\\n    &lt;li&gt;Gunaratnam expresses his admiration for Palihapitiya.&lt;/li&gt;\\n    &lt;li&gt;He mentions that he had previously written to Palihapitiya about the economic crisis in Sri Lanka.&lt;/li&gt;\\n    &lt;li&gt;He also mentions that he had tried to contact Palihapitiya when he brought the Google Loon project to Sri Lanka, but that it was too late.&lt;/li&gt;\\n    &lt;li&gt;Gunaratnam then offers his services as a retired career banker and current employee of the Consulate of Iceland in Sri Lanka.&lt;/li&gt;\\n  &lt;/ul&gt;\\n&lt;/body&gt;\\n&lt;/html&gt;\",\"disable_math\":true}},{\"type\":\"object\",\"name\":\"panel.models.comm_manager.CommManager\",\"id\":\"3f92af3b-affe-48f8-8237-01182e5f666a\",\"attributes\":{\"plot_id\":\"451f4c14-98be-4fa4-9991-e20a3ce8d82a\",\"comm_id\":\"2de42ac8ee5c477fb972f277fcd508f7\",\"client_comm_id\":\"a697270b5ec54653bb1188a297b50207\"}}],\"callbacks\":{\"type\":\"map\"}}};\n",
       "  var render_items = [{\"docid\":\"c9f7a061-a658-46df-832a-d964a3e7e73f\",\"roots\":{\"451f4c14-98be-4fa4-9991-e20a3ce8d82a\":\"d63499f6-d018-4667-ab5d-854e882b45fe\"},\"root_ids\":[\"451f4c14-98be-4fa4-9991-e20a3ce8d82a\"]}];\n",
       "  var docs = Object.values(docs_json)\n",
       "  if (!docs) {\n",
       "    return\n",
       "  }\n",
       "  const py_version = docs[0].version.replace('rc', '-rc.').replace('.dev', '-dev.')\n",
       "  const is_dev = py_version.indexOf(\"+\") !== -1 || py_version.indexOf(\"-\") !== -1\n",
       "  function embed_document(root) {\n",
       "    var Bokeh = get_bokeh(root)\n",
       "    Bokeh.embed.embed_items_notebook(docs_json, render_items);\n",
       "    for (const render_item of render_items) {\n",
       "      for (const root_id of render_item.root_ids) {\n",
       "\tconst id_el = document.getElementById(root_id)\n",
       "\tif (id_el.children.length && (id_el.children[0].className === 'bk-root')) {\n",
       "\t  const root_el = id_el.children[0]\n",
       "\t  root_el.id = root_el.id + '-rendered'\n",
       "\t}\n",
       "      }\n",
       "    }\n",
       "  }\n",
       "  function get_bokeh(root) {\n",
       "    if (root.Bokeh === undefined) {\n",
       "      return null\n",
       "    } else if (root.Bokeh.version !== py_version && !is_dev) {\n",
       "      if (root.Bokeh.versions === undefined || !root.Bokeh.versions.has(py_version)) {\n",
       "\treturn null\n",
       "      }\n",
       "      return root.Bokeh.versions.get(py_version);\n",
       "    } else if (root.Bokeh.version === py_version) {\n",
       "      return root.Bokeh\n",
       "    }\n",
       "    return null\n",
       "  }\n",
       "  function is_loaded(root) {\n",
       "    var Bokeh = get_bokeh(root)\n",
       "    return (Bokeh != null && Bokeh.Panel !== undefined)\n",
       "  }\n",
       "  if (is_loaded(root)) {\n",
       "    embed_document(root);\n",
       "  } else {\n",
       "    var attempts = 0;\n",
       "    var timer = setInterval(function(root) {\n",
       "      if (is_loaded(root)) {\n",
       "        clearInterval(timer);\n",
       "        embed_document(root);\n",
       "      } else if (document.readyState == \"complete\") {\n",
       "        attempts++;\n",
       "        if (attempts > 200) {\n",
       "          clearInterval(timer);\n",
       "\t  var Bokeh = get_bokeh(root)\n",
       "\t  if (Bokeh == null || Bokeh.Panel == null) {\n",
       "            console.warn(\"Panel: ERROR: Unable to run Panel code because Bokeh or Panel library is missing\");\n",
       "\t  } else {\n",
       "\t    console.warn(\"Panel: WARNING: Attempting to render but not all required libraries could be resolved.\")\n",
       "\t    embed_document(root)\n",
       "\t  }\n",
       "        }\n",
       "      }\n",
       "    }, 25, root)\n",
       "  }\n",
       "})(window);</script>"
      ],
      "text/plain": [
       "HTML(str)"
      ]
     },
     "execution_count": 257,
     "metadata": {
      "application/vnd.holoviews_exec.v0+json": {
       "id": "451f4c14-98be-4fa4-9991-e20a3ce8d82a"
      }
     },
     "output_type": "execute_result"
    }
   ],
   "source": [
    "# import panel as pn\n",
    "# pn.extension()\n",
    "pn.pane.HTML(response.text)"
   ]
  },
  {
   "cell_type": "code",
   "execution_count": 238,
   "id": "375c0b5f-2f68-468e-876c-fff752a0f681",
   "metadata": {},
   "outputs": [
    {
     "data": {},
     "metadata": {},
     "output_type": "display_data"
    },
    {
     "data": {
      "application/vnd.holoviews_exec.v0+json": "",
      "text/html": [
       "<div id='581b6cdb-156b-4d77-b631-20a18fc839cd'>\n",
       "  <div id=\"efc2eaa4-a7dd-4c0c-97f8-107e60973d05\" data-root-id=\"581b6cdb-156b-4d77-b631-20a18fc839cd\" style=\"display: contents;\"></div>\n",
       "</div>\n",
       "<script type=\"application/javascript\">(function(root) {\n",
       "  var docs_json = {\"79022006-f0a3-4137-9ec1-f60bd06cc97a\":{\"version\":\"3.1.1\",\"title\":\"Bokeh Application\",\"defs\":[{\"type\":\"model\",\"name\":\"ReactiveHTML1\"},{\"type\":\"model\",\"name\":\"FlexBox1\",\"properties\":[{\"name\":\"align_content\",\"kind\":\"Any\",\"default\":\"flex-start\"},{\"name\":\"align_items\",\"kind\":\"Any\",\"default\":\"flex-start\"},{\"name\":\"flex_direction\",\"kind\":\"Any\",\"default\":\"row\"},{\"name\":\"flex_wrap\",\"kind\":\"Any\",\"default\":\"wrap\"},{\"name\":\"justify_content\",\"kind\":\"Any\",\"default\":\"flex-start\"}]},{\"type\":\"model\",\"name\":\"FloatPanel1\",\"properties\":[{\"name\":\"config\",\"kind\":\"Any\",\"default\":{\"type\":\"map\"}},{\"name\":\"contained\",\"kind\":\"Any\",\"default\":true},{\"name\":\"position\",\"kind\":\"Any\",\"default\":\"right-top\"},{\"name\":\"offsetx\",\"kind\":\"Any\",\"default\":null},{\"name\":\"offsety\",\"kind\":\"Any\",\"default\":null},{\"name\":\"theme\",\"kind\":\"Any\",\"default\":\"primary\"},{\"name\":\"status\",\"kind\":\"Any\",\"default\":\"normalized\"}]},{\"type\":\"model\",\"name\":\"GridStack1\",\"properties\":[{\"name\":\"mode\",\"kind\":\"Any\",\"default\":\"warn\"},{\"name\":\"ncols\",\"kind\":\"Any\",\"default\":null},{\"name\":\"nrows\",\"kind\":\"Any\",\"default\":null},{\"name\":\"allow_resize\",\"kind\":\"Any\",\"default\":true},{\"name\":\"allow_drag\",\"kind\":\"Any\",\"default\":true},{\"name\":\"state\",\"kind\":\"Any\",\"default\":[]}]},{\"type\":\"model\",\"name\":\"drag1\",\"properties\":[{\"name\":\"slider_width\",\"kind\":\"Any\",\"default\":5},{\"name\":\"slider_color\",\"kind\":\"Any\",\"default\":\"black\"},{\"name\":\"value\",\"kind\":\"Any\",\"default\":50}]},{\"type\":\"model\",\"name\":\"click1\",\"properties\":[{\"name\":\"terminal_output\",\"kind\":\"Any\",\"default\":\"\"},{\"name\":\"debug_name\",\"kind\":\"Any\",\"default\":\"\"},{\"name\":\"clears\",\"kind\":\"Any\",\"default\":0}]},{\"type\":\"model\",\"name\":\"FastWrapper1\",\"properties\":[{\"name\":\"object\",\"kind\":\"Any\",\"default\":null},{\"name\":\"style\",\"kind\":\"Any\",\"default\":null}]},{\"type\":\"model\",\"name\":\"NotificationAreaBase1\",\"properties\":[{\"name\":\"js_events\",\"kind\":\"Any\",\"default\":{\"type\":\"map\"}},{\"name\":\"position\",\"kind\":\"Any\",\"default\":\"bottom-right\"},{\"name\":\"_clear\",\"kind\":\"Any\",\"default\":0}]},{\"type\":\"model\",\"name\":\"NotificationArea1\",\"properties\":[{\"name\":\"js_events\",\"kind\":\"Any\",\"default\":{\"type\":\"map\"}},{\"name\":\"notifications\",\"kind\":\"Any\",\"default\":[]},{\"name\":\"position\",\"kind\":\"Any\",\"default\":\"bottom-right\"},{\"name\":\"_clear\",\"kind\":\"Any\",\"default\":0},{\"name\":\"types\",\"kind\":\"Any\",\"default\":[{\"type\":\"map\",\"entries\":[[\"type\",\"warning\"],[\"background\",\"#ffc107\"],[\"icon\",{\"type\":\"map\",\"entries\":[[\"className\",\"fas fa-exclamation-triangle\"],[\"tagName\",\"i\"],[\"color\",\"white\"]]}]]},{\"type\":\"map\",\"entries\":[[\"type\",\"info\"],[\"background\",\"#007bff\"],[\"icon\",{\"type\":\"map\",\"entries\":[[\"className\",\"fas fa-info-circle\"],[\"tagName\",\"i\"],[\"color\",\"white\"]]}]]}]}]},{\"type\":\"model\",\"name\":\"Notification\",\"properties\":[{\"name\":\"background\",\"kind\":\"Any\",\"default\":null},{\"name\":\"duration\",\"kind\":\"Any\",\"default\":3000},{\"name\":\"icon\",\"kind\":\"Any\",\"default\":null},{\"name\":\"message\",\"kind\":\"Any\",\"default\":\"\"},{\"name\":\"notification_type\",\"kind\":\"Any\",\"default\":null},{\"name\":\"_destroyed\",\"kind\":\"Any\",\"default\":false}]},{\"type\":\"model\",\"name\":\"TemplateActions1\",\"properties\":[{\"name\":\"open_modal\",\"kind\":\"Any\",\"default\":0},{\"name\":\"close_modal\",\"kind\":\"Any\",\"default\":0}]},{\"type\":\"model\",\"name\":\"BootstrapTemplateActions1\",\"properties\":[{\"name\":\"open_modal\",\"kind\":\"Any\",\"default\":0},{\"name\":\"close_modal\",\"kind\":\"Any\",\"default\":0}]},{\"type\":\"model\",\"name\":\"MaterialTemplateActions1\",\"properties\":[{\"name\":\"open_modal\",\"kind\":\"Any\",\"default\":0},{\"name\":\"close_modal\",\"kind\":\"Any\",\"default\":0}]}],\"roots\":[{\"type\":\"object\",\"name\":\"panel.models.markup.HTML\",\"id\":\"581b6cdb-156b-4d77-b631-20a18fc839cd\",\"attributes\":{\"stylesheets\":[\"\\n:host(.pn-loading.pn-arc):before, .pn-loading.pn-arc:before {\\n  background-image: url(\\\"data:image/svg+xml;base64,PHN2ZyB4bWxucz0iaHR0cDovL3d3dy53My5vcmcvMjAwMC9zdmciIHN0eWxlPSJtYXJnaW46IGF1dG87IGJhY2tncm91bmQ6IG5vbmU7IGRpc3BsYXk6IGJsb2NrOyBzaGFwZS1yZW5kZXJpbmc6IGF1dG87IiB2aWV3Qm94PSIwIDAgMTAwIDEwMCIgcHJlc2VydmVBc3BlY3RSYXRpbz0ieE1pZFlNaWQiPiAgPGNpcmNsZSBjeD0iNTAiIGN5PSI1MCIgZmlsbD0ibm9uZSIgc3Ryb2tlPSIjYzNjM2MzIiBzdHJva2Utd2lkdGg9IjEwIiByPSIzNSIgc3Ryb2tlLWRhc2hhcnJheT0iMTY0LjkzMzYxNDMxMzQ2NDE1IDU2Ljk3Nzg3MTQzNzgyMTM4Ij4gICAgPGFuaW1hdGVUcmFuc2Zvcm0gYXR0cmlidXRlTmFtZT0idHJhbnNmb3JtIiB0eXBlPSJyb3RhdGUiIHJlcGVhdENvdW50PSJpbmRlZmluaXRlIiBkdXI9IjFzIiB2YWx1ZXM9IjAgNTAgNTA7MzYwIDUwIDUwIiBrZXlUaW1lcz0iMDsxIj48L2FuaW1hdGVUcmFuc2Zvcm0+ICA8L2NpcmNsZT48L3N2Zz4=\\\");\\n  background-size: auto calc(min(50%, 400px));\\n}\",{\"type\":\"object\",\"name\":\"ImportedStyleSheet\",\"id\":\"61ed356a-6d26-4833-9641-d4f55082f0e0\",\"attributes\":{\"url\":\"https://cdn.holoviz.org/panel/1.2.3/dist/css/loading.css\"}},{\"type\":\"object\",\"name\":\"ImportedStyleSheet\",\"id\":\"9842770f-4556-4557-8a94-b51bf51bf75b\",\"attributes\":{\"url\":\"https://cdn.holoviz.org/panel/1.2.3/dist/bundled/theme/default.css\"}},{\"type\":\"object\",\"name\":\"ImportedStyleSheet\",\"id\":\"1aca1ca1-4336-4292-83c8-22aaf4f1b741\",\"attributes\":{\"url\":\"https://cdn.holoviz.org/panel/1.2.3/dist/bundled/theme/native.css\"}}],\"margin\":[5,10],\"align\":\"start\",\"text\":\"\\n&lt;!DOCTYPE html&gt;\\n&lt;html lang=&quot;en&quot;&gt;\\n&lt;head&gt;\\n    &lt;meta charset=&quot;UTF-8&quot;&gt;\\n    &lt;title&gt;Summary of Chamath Palihapitiya&#x27;s 2022 Annual Letter&lt;/title&gt;\\n&lt;/head&gt;\\n&lt;body&gt;\\n\\n&lt;h1&gt;Chamath Palihapitiya&#x27;s 2022 Annual Letter&lt;/h1&gt;\\n\\n&lt;h2&gt;Economic and Technological Landscape&lt;/h2&gt;\\n&lt;ul&gt;\\n    &lt;li&gt;End of the zero-interest-rate policy (ZIRP) era.&lt;/li&gt;\\n    &lt;li&gt;Impact of the war in Ukraine on energy markets.&lt;/li&gt;\\n    &lt;li&gt;Resurgence of &quot;value&quot; stocks over &quot;growth&quot; stocks.&lt;/li&gt;\\n    &lt;li&gt;Decline in valuations for growth assets like tech, biotech, SPACs, and other negative cash flow businesses due to higher discount rates and downward earnings revisions.&lt;/li&gt;\\n    &lt;li&gt;Incremental returns on technology are higher in an inflationary environment.&lt;/li&gt;\\n&lt;/ul&gt;\\n\\n&lt;h2&gt;Future Trends and Themes&lt;/h2&gt;\\n&lt;ul&gt;\\n    &lt;li&gt;Two core themes for the 2020s: marginal cost of energy and compute going to zero.&lt;/li&gt;\\n    &lt;li&gt;Potential of solar energy, wind, and natural gas as abundant and affordable energy sources.&lt;/li&gt;\\n    &lt;li&gt;Shift from Moore&#x27;s Law and CPUs to parallelism powered by GPUs, ASICs, and FPGAs as key drivers of innovation.&lt;/li&gt;\\n&lt;/ul&gt;\\n\\n&lt;h2&gt;Market Conditions and Predictions&lt;/h2&gt;\\n&lt;ul&gt;\\n    &lt;li&gt;&quot;Perfect storm&quot; factors leading to 2022&#x27;s market downturn.&lt;/li&gt;\\n    &lt;li&gt;Potential further decline if the U.S. enters a recession.&lt;/li&gt;\\n    &lt;li&gt;Upcoming decade to be defined by applications of computer science in energy and life sciences.&lt;/li&gt;\\n    &lt;li&gt;Unprecedented opportunities due to costs of energy and compute trending towards zero.&lt;/li&gt;\\n&lt;/ul&gt;\\n\\n&lt;h2&gt;Investment Focus and Highlights&lt;/h2&gt;\\n&lt;ul&gt;\\n    &lt;li&gt;Emphasis on profitability and cost-cutting in challenging tech landscape.&lt;/li&gt;\\n    &lt;li&gt;Need for venture capitalists to actively support portfolio companies.&lt;/li&gt;\\n    &lt;li&gt;Discussion on recent investments including Palmetto, Mitra Chem, Swarm, Saildrone, and Early Is Good.&lt;/li&gt;\\n    &lt;li&gt;Alignment with energy transition, life sciences, and deep tech focus.&lt;/li&gt;\\n&lt;/ul&gt;\\n\\n&lt;h2&gt;Performance of Social Capital Investment Firm&lt;/h2&gt;\\n&lt;ul&gt;\\n    &lt;li&gt;Challenges faced in 2022, including global economic downturn and tech company collapses.&lt;/li&gt;\\n    &lt;li&gt;Positive returns achieved despite challenges.&lt;/li&gt;\\n    &lt;li&gt;Success attributed to long-term investing and risk-taking with early-stage companies.&lt;/li&gt;\\n    &lt;li&gt;Successful investments in OpenAI, SpaceX, and SoFi highlighted.&lt;/li&gt;\\n    &lt;li&gt;Future focus on artificial intelligence and emerging technologies.&lt;/li&gt;\\n    &lt;li&gt;Gratitude expressed to investors and employees, with optimism for future success.&lt;/li&gt;\\n&lt;/ul&gt;\\n\\n&lt;h2&gt;Economy, Technology, and Society Insights&lt;/h2&gt;\\n&lt;ul&gt;\\n    &lt;li&gt;Current economic system viewed as &quot;rigged&quot; against the middle class.&lt;/li&gt;\\n    &lt;li&gt;Emphasis on investing in technology for financial security.&lt;/li&gt;\\n    &lt;li&gt;Potential dangers and regulatory needs for artificial intelligence.&lt;/li&gt;\\n    &lt;li&gt;Argument that society is in a time of &quot;mass delusion&quot; with a need for independent thought.&lt;/li&gt;\\n&lt;/ul&gt;\\n\\n&lt;/body&gt;\\n&lt;/html&gt;\\n\\n\",\"disable_math\":true}},{\"type\":\"object\",\"name\":\"panel.models.comm_manager.CommManager\",\"id\":\"1ca823ba-4aff-4f74-a285-3bb4f7ecd69d\",\"attributes\":{\"plot_id\":\"581b6cdb-156b-4d77-b631-20a18fc839cd\",\"comm_id\":\"b40ef89f3181414db8a44100c480ad3b\",\"client_comm_id\":\"3796b782b4844be1a434269b1dc686bc\"}}],\"callbacks\":{\"type\":\"map\"}}};\n",
       "  var render_items = [{\"docid\":\"79022006-f0a3-4137-9ec1-f60bd06cc97a\",\"roots\":{\"581b6cdb-156b-4d77-b631-20a18fc839cd\":\"efc2eaa4-a7dd-4c0c-97f8-107e60973d05\"},\"root_ids\":[\"581b6cdb-156b-4d77-b631-20a18fc839cd\"]}];\n",
       "  var docs = Object.values(docs_json)\n",
       "  if (!docs) {\n",
       "    return\n",
       "  }\n",
       "  const py_version = docs[0].version.replace('rc', '-rc.').replace('.dev', '-dev.')\n",
       "  const is_dev = py_version.indexOf(\"+\") !== -1 || py_version.indexOf(\"-\") !== -1\n",
       "  function embed_document(root) {\n",
       "    var Bokeh = get_bokeh(root)\n",
       "    Bokeh.embed.embed_items_notebook(docs_json, render_items);\n",
       "    for (const render_item of render_items) {\n",
       "      for (const root_id of render_item.root_ids) {\n",
       "\tconst id_el = document.getElementById(root_id)\n",
       "\tif (id_el.children.length && (id_el.children[0].className === 'bk-root')) {\n",
       "\t  const root_el = id_el.children[0]\n",
       "\t  root_el.id = root_el.id + '-rendered'\n",
       "\t}\n",
       "      }\n",
       "    }\n",
       "  }\n",
       "  function get_bokeh(root) {\n",
       "    if (root.Bokeh === undefined) {\n",
       "      return null\n",
       "    } else if (root.Bokeh.version !== py_version && !is_dev) {\n",
       "      if (root.Bokeh.versions === undefined || !root.Bokeh.versions.has(py_version)) {\n",
       "\treturn null\n",
       "      }\n",
       "      return root.Bokeh.versions.get(py_version);\n",
       "    } else if (root.Bokeh.version === py_version) {\n",
       "      return root.Bokeh\n",
       "    }\n",
       "    return null\n",
       "  }\n",
       "  function is_loaded(root) {\n",
       "    var Bokeh = get_bokeh(root)\n",
       "    return (Bokeh != null && Bokeh.Panel !== undefined)\n",
       "  }\n",
       "  if (is_loaded(root)) {\n",
       "    embed_document(root);\n",
       "  } else {\n",
       "    var attempts = 0;\n",
       "    var timer = setInterval(function(root) {\n",
       "      if (is_loaded(root)) {\n",
       "        clearInterval(timer);\n",
       "        embed_document(root);\n",
       "      } else if (document.readyState == \"complete\") {\n",
       "        attempts++;\n",
       "        if (attempts > 200) {\n",
       "          clearInterval(timer);\n",
       "\t  var Bokeh = get_bokeh(root)\n",
       "\t  if (Bokeh == null || Bokeh.Panel == null) {\n",
       "            console.warn(\"Panel: ERROR: Unable to run Panel code because Bokeh or Panel library is missing\");\n",
       "\t  } else {\n",
       "\t    console.warn(\"Panel: WARNING: Attempting to render but not all required libraries could be resolved.\")\n",
       "\t    embed_document(root)\n",
       "\t  }\n",
       "        }\n",
       "      }\n",
       "    }, 25, root)\n",
       "  }\n",
       "})(window);</script>"
      ],
      "text/plain": [
       "HTML(str)"
      ]
     },
     "execution_count": 238,
     "metadata": {
      "application/vnd.holoviews_exec.v0+json": {
       "id": "581b6cdb-156b-4d77-b631-20a18fc839cd"
      }
     },
     "output_type": "execute_result"
    }
   ],
   "source": [
    "chatGPTResponse = \"\"\"\n",
    "<!DOCTYPE html>\n",
    "<html lang=\"en\">\n",
    "<head>\n",
    "<meta charset=\"UTF-8\">\n",
    "<title>Summary of Chamath Palihapitiya's 2022 Annual Letter</title>\n",
    "</head>\n",
    "<body>\n",
    "\n",
    "<h1>Chamath Palihapitiya's 2022 Annual Letter</h1>\n",
    "\n",
    "<h2>Economic and Technological Landscape</h2>\n",
    "<ul>\n",
    "<li>End of the zero-interest-rate policy (ZIRP) era.</li>\n",
    "<li>Impact of the war in Ukraine on energy markets.</li>\n",
    "<li>Resurgence of \"value\" stocks over \"growth\" stocks.</li>\n",
    "<li>Decline in valuations for growth assets like tech, biotech, SPACs, and other negative cash flow businesses due to higher discount rates and downward earnings revisions.</li>\n",
    "<li>Incremental returns on technology are higher in an inflationary environment.</li>\n",
    "</ul>\n",
    "\n",
    "<h2>Future Trends and Themes</h2>\n",
    "<ul>\n",
    "<li>Two core themes for the 2020s: marginal cost of energy and compute going to zero.</li>\n",
    "<li>Potential of solar energy, wind, and natural gas as abundant and affordable energy sources.</li>\n",
    "<li>Shift from Moore's Law and CPUs to parallelism powered by GPUs, ASICs, and FPGAs as key drivers of innovation.</li>\n",
    "</ul>\n",
    "\n",
    "<h2>Market Conditions and Predictions</h2>\n",
    "<ul>\n",
    "<li>\"Perfect storm\" factors leading to 2022's market downturn.</li>\n",
    "<li>Potential further decline if the U.S. enters a recession.</li>\n",
    "<li>Upcoming decade to be defined by applications of computer science in energy and life sciences.</li>\n",
    "<li>Unprecedented opportunities due to costs of energy and compute trending towards zero.</li>\n",
    "</ul>\n",
    "\n",
    "<h2>Investment Focus and Highlights</h2>\n",
    "<ul>\n",
    "<li>Emphasis on profitability and cost-cutting in challenging tech landscape.</li>\n",
    "<li>Need for venture capitalists to actively support portfolio companies.</li>\n",
    "<li>Discussion on recent investments including Palmetto, Mitra Chem, Swarm, Saildrone, and Early Is Good.</li>\n",
    "<li>Alignment with energy transition, life sciences, and deep tech focus.</li>\n",
    "</ul>\n",
    "\n",
    "<h2>Performance of Social Capital Investment Firm</h2>\n",
    "<ul>\n",
    "<li>Challenges faced in 2022, including global economic downturn and tech company collapses.</li>\n",
    "<li>Positive returns achieved despite challenges.</li>\n",
    "<li>Success attributed to long-term investing and risk-taking with early-stage companies.</li>\n",
    "<li>Successful investments in OpenAI, SpaceX, and SoFi highlighted.</li>\n",
    "<li>Future focus on artificial intelligence and emerging technologies.</li>\n",
    "<li>Gratitude expressed to investors and employees, with optimism for future success.</li>\n",
    "</ul>\n",
    "\n",
    "<h2>Economy, Technology, and Society Insights</h2>\n",
    "<ul>\n",
    "<li>Current economic system viewed as \"rigged\" against the middle class.</li>\n",
    "<li>Emphasis on investing in technology for financial security.</li>\n",
    "<li>Potential dangers and regulatory needs for artificial intelligence.</li>\n",
    "<li>Argument that society is in a time of \"mass delusion\" with a need for independent thought.</li>\n",
    "</ul>\n",
    "\n",
    "</body>\n",
    "</html>\n",
    "\n",
    "\"\"\"\n",
    "pn.pane.HTML(chatGPTResponse)"
   ]
  },
  {
   "cell_type": "markdown",
   "id": "79da1208-fd92-413d-bd52-ae2b919d7dec",
   "metadata": {},
   "source": [
    "# Condense and summary"
   ]
  },
  {
   "cell_type": "code",
   "execution_count": 102,
   "id": "6ab6e5d0-bef1-4926-bd5c-7e55495d4551",
   "metadata": {},
   "outputs": [
    {
     "data": {
      "text/plain": [
       "1399"
      ]
     },
     "execution_count": 102,
     "metadata": {},
     "output_type": "execute_result"
    }
   ],
   "source": [
    "\n",
    "text = textpdf\n",
    "CHAR_LIMIT = 18000 # well below the max to ensure we don't exceed the token limit\n",
    "chunks = overlapping_chunks(text, CHAR_LIMIT, overlap_size=6000)\n",
    "\n",
    "summarized_chunks = []\n",
    "for chunk in chunks:\n",
    "    response = chat_model.predict(f\"\"\"You are financial and economics analyst.Condense the following text:\\n\\n{chunk}\"\"\" , **parameters)\n",
    "    summarized_chunks.append(response.text)"
   ]
  },
  {
   "cell_type": "code",
   "execution_count": 308,
   "id": "479d9feb-bce6-4871-b64c-d04fa1443eb3",
   "metadata": {},
   "outputs": [],
   "source": [
    "summary = \"\\n\".join(summarized_chunks)\n",
    "response = chat_model.predict(f\"\"\"The following text is the combination of the individual summaries for a large article. Use bullet point where needed to improve readability.\n",
    "Organize the following text into logical sections, making sure that no information is lost in the process. \n",
    "Add headers for each section and provide the response in HTML markup:\n",
    "\n",
    "{summary}\"\"\" , **parameters)\n",
    "\n"
   ]
  },
  {
   "cell_type": "code",
   "execution_count": 310,
   "id": "2ae5d3cc-ef88-4549-8439-d451ad70dd7c",
   "metadata": {},
   "outputs": [
    {
     "name": "stdout",
     "output_type": "stream",
     "text": [
      "8744\n"
     ]
    }
   ],
   "source": [
    "print(len(response.text))"
   ]
  },
  {
   "cell_type": "code",
   "execution_count": 309,
   "id": "7f2e503f-8d50-4acd-9f24-c9ec6e2e706c",
   "metadata": {},
   "outputs": [
    {
     "data": {},
     "metadata": {},
     "output_type": "display_data"
    },
    {
     "data": {
      "application/vnd.holoviews_exec.v0+json": "",
      "text/html": [
       "<div id='a81cb03c-30ab-41ed-b5eb-ea004302f266'>\n",
       "  <div id=\"fc01b0a7-b4f9-4842-be46-a5d79423ac96\" data-root-id=\"a81cb03c-30ab-41ed-b5eb-ea004302f266\" style=\"display: contents;\"></div>\n",
       "</div>\n",
       "<script type=\"application/javascript\">(function(root) {\n",
       "  var docs_json = {\"3c7583ee-ff59-4374-816c-a7c98c7b2fb3\":{\"version\":\"3.1.1\",\"title\":\"Bokeh Application\",\"defs\":[{\"type\":\"model\",\"name\":\"ReactiveHTML1\"},{\"type\":\"model\",\"name\":\"FlexBox1\",\"properties\":[{\"name\":\"align_content\",\"kind\":\"Any\",\"default\":\"flex-start\"},{\"name\":\"align_items\",\"kind\":\"Any\",\"default\":\"flex-start\"},{\"name\":\"flex_direction\",\"kind\":\"Any\",\"default\":\"row\"},{\"name\":\"flex_wrap\",\"kind\":\"Any\",\"default\":\"wrap\"},{\"name\":\"justify_content\",\"kind\":\"Any\",\"default\":\"flex-start\"}]},{\"type\":\"model\",\"name\":\"FloatPanel1\",\"properties\":[{\"name\":\"config\",\"kind\":\"Any\",\"default\":{\"type\":\"map\"}},{\"name\":\"contained\",\"kind\":\"Any\",\"default\":true},{\"name\":\"position\",\"kind\":\"Any\",\"default\":\"right-top\"},{\"name\":\"offsetx\",\"kind\":\"Any\",\"default\":null},{\"name\":\"offsety\",\"kind\":\"Any\",\"default\":null},{\"name\":\"theme\",\"kind\":\"Any\",\"default\":\"primary\"},{\"name\":\"status\",\"kind\":\"Any\",\"default\":\"normalized\"}]},{\"type\":\"model\",\"name\":\"GridStack1\",\"properties\":[{\"name\":\"mode\",\"kind\":\"Any\",\"default\":\"warn\"},{\"name\":\"ncols\",\"kind\":\"Any\",\"default\":null},{\"name\":\"nrows\",\"kind\":\"Any\",\"default\":null},{\"name\":\"allow_resize\",\"kind\":\"Any\",\"default\":true},{\"name\":\"allow_drag\",\"kind\":\"Any\",\"default\":true},{\"name\":\"state\",\"kind\":\"Any\",\"default\":[]}]},{\"type\":\"model\",\"name\":\"drag1\",\"properties\":[{\"name\":\"slider_width\",\"kind\":\"Any\",\"default\":5},{\"name\":\"slider_color\",\"kind\":\"Any\",\"default\":\"black\"},{\"name\":\"value\",\"kind\":\"Any\",\"default\":50}]},{\"type\":\"model\",\"name\":\"click1\",\"properties\":[{\"name\":\"terminal_output\",\"kind\":\"Any\",\"default\":\"\"},{\"name\":\"debug_name\",\"kind\":\"Any\",\"default\":\"\"},{\"name\":\"clears\",\"kind\":\"Any\",\"default\":0}]},{\"type\":\"model\",\"name\":\"FastWrapper1\",\"properties\":[{\"name\":\"object\",\"kind\":\"Any\",\"default\":null},{\"name\":\"style\",\"kind\":\"Any\",\"default\":null}]},{\"type\":\"model\",\"name\":\"NotificationAreaBase1\",\"properties\":[{\"name\":\"js_events\",\"kind\":\"Any\",\"default\":{\"type\":\"map\"}},{\"name\":\"position\",\"kind\":\"Any\",\"default\":\"bottom-right\"},{\"name\":\"_clear\",\"kind\":\"Any\",\"default\":0}]},{\"type\":\"model\",\"name\":\"NotificationArea1\",\"properties\":[{\"name\":\"js_events\",\"kind\":\"Any\",\"default\":{\"type\":\"map\"}},{\"name\":\"notifications\",\"kind\":\"Any\",\"default\":[]},{\"name\":\"position\",\"kind\":\"Any\",\"default\":\"bottom-right\"},{\"name\":\"_clear\",\"kind\":\"Any\",\"default\":0},{\"name\":\"types\",\"kind\":\"Any\",\"default\":[{\"type\":\"map\",\"entries\":[[\"type\",\"warning\"],[\"background\",\"#ffc107\"],[\"icon\",{\"type\":\"map\",\"entries\":[[\"className\",\"fas fa-exclamation-triangle\"],[\"tagName\",\"i\"],[\"color\",\"white\"]]}]]},{\"type\":\"map\",\"entries\":[[\"type\",\"info\"],[\"background\",\"#007bff\"],[\"icon\",{\"type\":\"map\",\"entries\":[[\"className\",\"fas fa-info-circle\"],[\"tagName\",\"i\"],[\"color\",\"white\"]]}]]}]}]},{\"type\":\"model\",\"name\":\"Notification\",\"properties\":[{\"name\":\"background\",\"kind\":\"Any\",\"default\":null},{\"name\":\"duration\",\"kind\":\"Any\",\"default\":3000},{\"name\":\"icon\",\"kind\":\"Any\",\"default\":null},{\"name\":\"message\",\"kind\":\"Any\",\"default\":\"\"},{\"name\":\"notification_type\",\"kind\":\"Any\",\"default\":null},{\"name\":\"_destroyed\",\"kind\":\"Any\",\"default\":false}]},{\"type\":\"model\",\"name\":\"TemplateActions1\",\"properties\":[{\"name\":\"open_modal\",\"kind\":\"Any\",\"default\":0},{\"name\":\"close_modal\",\"kind\":\"Any\",\"default\":0}]},{\"type\":\"model\",\"name\":\"BootstrapTemplateActions1\",\"properties\":[{\"name\":\"open_modal\",\"kind\":\"Any\",\"default\":0},{\"name\":\"close_modal\",\"kind\":\"Any\",\"default\":0}]},{\"type\":\"model\",\"name\":\"MaterialTemplateActions1\",\"properties\":[{\"name\":\"open_modal\",\"kind\":\"Any\",\"default\":0},{\"name\":\"close_modal\",\"kind\":\"Any\",\"default\":0}]}],\"roots\":[{\"type\":\"object\",\"name\":\"panel.models.markup.HTML\",\"id\":\"a81cb03c-30ab-41ed-b5eb-ea004302f266\",\"attributes\":{\"stylesheets\":[\"\\n:host(.pn-loading.pn-arc):before, .pn-loading.pn-arc:before {\\n  background-image: url(\\\"data:image/svg+xml;base64,PHN2ZyB4bWxucz0iaHR0cDovL3d3dy53My5vcmcvMjAwMC9zdmciIHN0eWxlPSJtYXJnaW46IGF1dG87IGJhY2tncm91bmQ6IG5vbmU7IGRpc3BsYXk6IGJsb2NrOyBzaGFwZS1yZW5kZXJpbmc6IGF1dG87IiB2aWV3Qm94PSIwIDAgMTAwIDEwMCIgcHJlc2VydmVBc3BlY3RSYXRpbz0ieE1pZFlNaWQiPiAgPGNpcmNsZSBjeD0iNTAiIGN5PSI1MCIgZmlsbD0ibm9uZSIgc3Ryb2tlPSIjYzNjM2MzIiBzdHJva2Utd2lkdGg9IjEwIiByPSIzNSIgc3Ryb2tlLWRhc2hhcnJheT0iMTY0LjkzMzYxNDMxMzQ2NDE1IDU2Ljk3Nzg3MTQzNzgyMTM4Ij4gICAgPGFuaW1hdGVUcmFuc2Zvcm0gYXR0cmlidXRlTmFtZT0idHJhbnNmb3JtIiB0eXBlPSJyb3RhdGUiIHJlcGVhdENvdW50PSJpbmRlZmluaXRlIiBkdXI9IjFzIiB2YWx1ZXM9IjAgNTAgNTA7MzYwIDUwIDUwIiBrZXlUaW1lcz0iMDsxIj48L2FuaW1hdGVUcmFuc2Zvcm0+ICA8L2NpcmNsZT48L3N2Zz4=\\\");\\n  background-size: auto calc(min(50%, 400px));\\n}\",{\"type\":\"object\",\"name\":\"ImportedStyleSheet\",\"id\":\"38ff940a-e1ea-4c0e-bbf8-5a4af667b7e3\",\"attributes\":{\"url\":\"https://cdn.holoviz.org/panel/1.2.3/dist/css/loading.css\"}},{\"type\":\"object\",\"name\":\"ImportedStyleSheet\",\"id\":\"a1813d8c-6f07-4bf0-9f25-425f2750c25a\",\"attributes\":{\"url\":\"https://cdn.holoviz.org/panel/1.2.3/dist/bundled/theme/default.css\"}},{\"type\":\"object\",\"name\":\"ImportedStyleSheet\",\"id\":\"9fb7c7fb-25e5-4231-aab5-807ebab669d2\",\"attributes\":{\"url\":\"https://cdn.holoviz.org/panel/1.2.3/dist/bundled/theme/native.css\"}}],\"margin\":[5,10],\"align\":\"start\",\"text\":\" &lt;!DOCTYPE html&gt;\\n&lt;html&gt;\\n&lt;head&gt;\\n  &lt;title&gt;2022 Annual Letter - Chamath Palihapitiya&lt;/title&gt;\\n&lt;/head&gt;\\n&lt;body&gt;\\n  &lt;h1&gt;2022 Annual Letter - Chamath Palihapitiya&lt;/h1&gt;\\n  &lt;p&gt;To the supporters and friends of Social Capital:&lt;/p&gt;\\n  &lt;p&gt;This is the fifth of our annual letters in which we discuss our observations and reflections of the year passed, how they\\u2019ve shaped our investment views, and other ideas on technology, markets, and our mission to build the future.&lt;/p&gt;\\n  &lt;p&gt;Since we started Social Capital in 2011, our work has touched many different parts of the technology ecosystem, from investing in Bitcoin and SaaS in the early 2010s to our more recent bets in deep tech, life sciences, and energy transition.&lt;/p&gt;\\n  &lt;p&gt;As an organization, we have tried to be flexible in how we allocate and deploy capital, whether it\\u2019s investing across stages from seed to growth, funding strategic acquisitions and seeking M&amp;A opportunities for our portfolio, anchoring IPOs and making public market investments, or enabling access to the public markets via SPACs.&lt;/p&gt;\\n  &lt;p&gt;With each opportunity we weigh the risks with the information at the time, and if we believe an opportunity is priced correctly, we take the risk. At times this has meant forging our own path and investing across stages and asset classes, which can sometimes be a lonely road. But we\\u2019ve also tried to create room for others to either partner alongside us or copy something that works. Ultimately, our investments are judged on whether they worked or not from time of entry to time of exit.&lt;/p&gt;\\n  &lt;p&gt;All of this said, while this approach has led us to explore different areas of technology and a range of capital raising tools, we believe there has been a common theme that has defined our work over the past 12 years: partnering with ambitious, independent thinkers who as founders are building companies from first principles. Ideally, when everything converges, we have historically been able to achieve both meaningful societal progress and meaningful commercial outcomes.&lt;/p&gt;\\n  &lt;h2&gt;Building companies in an age of austerity&lt;/h2&gt;\\n  &lt;p&gt;Currently, we find ourselves navigating one of the most complicated environments of the past 20\\u0000 years of technology investing.&lt;/p&gt;\\n  &lt;p&gt;In our 2021 annual letter, we wrote that the formula for successful technology investing must include founders who have the discipline to be hyper-focused on the things that will help their businesses succeed, balanced with the ability to ignore noise and distractions, no matter how difficult or unpopular. When done well, these specific founders have shown great ability to deliver outsized outcomes for their customers, employees, and investors.&lt;/p&gt;\\n  &lt;p&gt;However, on the cusp of a generation-defining economic regime change, many of us hadn\\u2019t adequately considered a key factor, which up until 2022 has been often forgotten or overlooked: austerity.&lt;/p&gt;\\n  &lt;p&gt;As we enter a sustained period of non-zero interest rates, discipline of mission must now also intersect with discipline of management and operation. Efficiency, risk management, business model fundamentals, and most importantly, sustained profitability, are must-haves \\u2013 not nice-to-haves.&lt;/p&gt;\\n  &lt;p&gt;To founders, make no mistake. A company\\u2019s success will be judged by its profits and market leadership \\u2013 not faux \\u201cprofitability\\u201d metrics or your ability to latch your company onto the latest trend or fad.&lt;/p&gt;\\n  &lt;p&gt;Over time, this heightened level of focus and discipline will lead to better run and more efficiently managed businesses. Companies won\\u2019t be able to overpay for underperforming talent or underpay overperforming talent. They won\\u2019t hand out the proverbial \\u201cfree lunch\\u201d or other benefits that aren\\u2019t indexed to profitability.&lt;/p&gt;\\n  &lt;p&gt;Middle managers will be under pressure to do more actual work and less coordination. This process will be painful, but the end result will be worth it.&lt;/p&gt;\\n  &lt;h2&gt;What the hell is going on \\u2013 2022 edition&lt;/h2&gt;\\n  &lt;p&gt;As much as we\\u2019d like to put 2022 in the rearview mirror, it\\u2019s important to reflect and acknowledge how we got here. The past year brought a number of learnings, which have informed (and in some cases confirmed) how we think about the future.&lt;/p&gt;\\n  &lt;h3&gt;End of ZIRP&lt;/h3&gt;\\n  &lt;p&gt;The era of excess, abundance, and zero interest-rate policy has come to an end.&lt;/p&gt;\\n  &lt;p&gt;Last year, we likened it to ending the best party in town \\u2013 but instead of simply turning on the lights, the past year has been more akin to getting cold water thrown in our faces.&lt;/p&gt;\\n  &lt;p&gt;First, some history. ZIRP was initiated as a stimulus measure to rebuild the economy following the 2008 global financial crisis \\u2013 and it ended up fueling the longest bull market in U.S. stock market history. Over that time, from 2008 to 2023, the U.S. Federal Reserve\\u2019s balance sheet swelled by more than 800% from $923B to $8.3T. 1&lt;/p&gt;\\n  &lt;p&gt;Second, Covid happened. In order to stimulate a shut-down economy, the government doubled down on ZIRP and started handing out cash like candy on Halloween \\u2013 and this was the straw that broke the camel\\u2019s back.&lt;/p&gt;\\n  &lt;p&gt;All of a sudden, free money flooded the economy. And because of pandemic-related supply constraints, we saw commodities, shipping, and used car prices go through the roof. Meanwhile, excess liquidity continued to fuel higher household spending and persistent (not transitory) demand-side inflation. It was a perfect storm of pent-up demand colliding with a supply shock.&lt;/p&gt;\\n  &lt;p&gt;In an attempt to quell this problem, the Fed finally slammed on the brakes and enacted some of the most aggressive interest rate increases in U.S. monetary history. Since Q1 of 2022, the Federal Funds Rate has gone from effectively zero to approaching 5% in hopes of tempering the highest inflation rates we\\u2019ve seen since the 1980s.&lt;/p&gt;\\n  &lt;p&gt;While the rate of inflation appears to have peaked, demand remains strong, leading many of us to believe that there may still be more medicine (i.e. rate hikes) to come \\u2013 and we may need to take this medicine for longer than previously anticipated.&lt;/p&gt;\\n  &lt;p&gt;From our perspective, the most alarming consequence in startup-land has been the divide it has created between the management teams who have \\u201cfound religion\\u201d (i.e. made the tough decisions and managed their businesses smartly) and the rest who are trying their best to avoid reality.&lt;/p&gt;\\n  &lt;p&gt;If ZIRP was the drug, the high it created is now obvious \\u2013 growth at all costs, unsubstantiated funding rounds, overhiring, and corporate glut. All the while, many VCs and capital allocators lived in a fantasy world where paper marks were deemed just as good as actual cash distributed to their LPs \\u2013 and now many need to face reality.&lt;/p&gt;\\n  &lt;h3&gt;War in Ukraine&lt;/h3&gt;\\n  &lt;p&gt;After nearly a decade of simmering conflict, Russia\\u2019s invasion of Ukraine was the geopolitical story of the year. The human impact has been undeniable \\u2013 tens of thousands dead and millions more displaced \\u2013 but the war quickly also became a conflict of economic aggression.&lt;/p&gt;\\n  &lt;p&gt;The economic shockwaves have been felt most acutely in the energy sector \\u2013 but this was another problem years in the making. Instead of shoring up domestic energy production, Europe spent much of the past decade pandering to special interests, which meant weaning off reliable energy sources like nuclear fission and underinvesting in renewables like solar and wind.&lt;/p&gt;\\n  &lt;p&gt;As a result, Europe became significantly more reliant on Russian natural gas, so much so that from 2010 to 2018, Russia went from supplying roughly a quarter of Europe\\u2019s national gas intake to more than 40%. 2&lt;/p&gt;\\n  &lt;p&gt;To make things even worse, European leaders had pursued an uncoordinated set of domestic policies that made this dependency worse than it needed to be. For example, in 2011, Germany obtained roughly 25% of its electricity from 17 domestic nuclear reactors. By the end of 2022, only three of those reactors remain and account for just 6% of the country&#x27;s electricity. We believe this is largely the result of incumbents lobbying for their own survival and unscientific environmental zealots failing to realize the economic and political consequences of a fragile energy economy. 3&lt;/p&gt;\\n  &lt;p&gt;As energy consumption continued to rise, energy supply became increasingly sparse. Knowing this, Russia was able to tighten its stranglehold on Europe\\u2019s natural gas spigot, forcing European countries to import much needed fuel from elsewhere and putting the global energy markets on tilt.&lt;/p&gt;\\n  &lt;p&gt;Beyond energy, the geopolitical ramifications of the war have impacted many other important sectors of the economy from food inputs to critical raw materials.&lt;/p&gt;\\n  &lt;p&gt;As global superpowers were pressured to choose (or not choose) sides, we learned just how vulnerable the U\",\"disable_math\":true}},{\"type\":\"object\",\"name\":\"panel.models.comm_manager.CommManager\",\"id\":\"a433c341-4bd5-43bb-aef7-60aa77a858c1\",\"attributes\":{\"plot_id\":\"a81cb03c-30ab-41ed-b5eb-ea004302f266\",\"comm_id\":\"4e32c29b6f5a4a80baf854a62339ea6f\",\"client_comm_id\":\"3f3d31ed45fa442eaa92a37f40419909\"}}],\"callbacks\":{\"type\":\"map\"}}};\n",
       "  var render_items = [{\"docid\":\"3c7583ee-ff59-4374-816c-a7c98c7b2fb3\",\"roots\":{\"a81cb03c-30ab-41ed-b5eb-ea004302f266\":\"fc01b0a7-b4f9-4842-be46-a5d79423ac96\"},\"root_ids\":[\"a81cb03c-30ab-41ed-b5eb-ea004302f266\"]}];\n",
       "  var docs = Object.values(docs_json)\n",
       "  if (!docs) {\n",
       "    return\n",
       "  }\n",
       "  const py_version = docs[0].version.replace('rc', '-rc.').replace('.dev', '-dev.')\n",
       "  const is_dev = py_version.indexOf(\"+\") !== -1 || py_version.indexOf(\"-\") !== -1\n",
       "  function embed_document(root) {\n",
       "    var Bokeh = get_bokeh(root)\n",
       "    Bokeh.embed.embed_items_notebook(docs_json, render_items);\n",
       "    for (const render_item of render_items) {\n",
       "      for (const root_id of render_item.root_ids) {\n",
       "\tconst id_el = document.getElementById(root_id)\n",
       "\tif (id_el.children.length && (id_el.children[0].className === 'bk-root')) {\n",
       "\t  const root_el = id_el.children[0]\n",
       "\t  root_el.id = root_el.id + '-rendered'\n",
       "\t}\n",
       "      }\n",
       "    }\n",
       "  }\n",
       "  function get_bokeh(root) {\n",
       "    if (root.Bokeh === undefined) {\n",
       "      return null\n",
       "    } else if (root.Bokeh.version !== py_version && !is_dev) {\n",
       "      if (root.Bokeh.versions === undefined || !root.Bokeh.versions.has(py_version)) {\n",
       "\treturn null\n",
       "      }\n",
       "      return root.Bokeh.versions.get(py_version);\n",
       "    } else if (root.Bokeh.version === py_version) {\n",
       "      return root.Bokeh\n",
       "    }\n",
       "    return null\n",
       "  }\n",
       "  function is_loaded(root) {\n",
       "    var Bokeh = get_bokeh(root)\n",
       "    return (Bokeh != null && Bokeh.Panel !== undefined)\n",
       "  }\n",
       "  if (is_loaded(root)) {\n",
       "    embed_document(root);\n",
       "  } else {\n",
       "    var attempts = 0;\n",
       "    var timer = setInterval(function(root) {\n",
       "      if (is_loaded(root)) {\n",
       "        clearInterval(timer);\n",
       "        embed_document(root);\n",
       "      } else if (document.readyState == \"complete\") {\n",
       "        attempts++;\n",
       "        if (attempts > 200) {\n",
       "          clearInterval(timer);\n",
       "\t  var Bokeh = get_bokeh(root)\n",
       "\t  if (Bokeh == null || Bokeh.Panel == null) {\n",
       "            console.warn(\"Panel: ERROR: Unable to run Panel code because Bokeh or Panel library is missing\");\n",
       "\t  } else {\n",
       "\t    console.warn(\"Panel: WARNING: Attempting to render but not all required libraries could be resolved.\")\n",
       "\t    embed_document(root)\n",
       "\t  }\n",
       "        }\n",
       "      }\n",
       "    }, 25, root)\n",
       "  }\n",
       "})(window);</script>"
      ],
      "text/plain": [
       "HTML(str)"
      ]
     },
     "execution_count": 309,
     "metadata": {
      "application/vnd.holoviews_exec.v0+json": {
       "id": "a81cb03c-30ab-41ed-b5eb-ea004302f266"
      }
     },
     "output_type": "execute_result"
    }
   ],
   "source": [
    "pn.pane.HTML(response.text)"
   ]
  },
  {
   "cell_type": "code",
   "execution_count": null,
   "id": "c5c27c9f-75e9-4cc0-8af9-a7ce8413d632",
   "metadata": {},
   "outputs": [],
   "source": []
  },
  {
   "cell_type": "code",
   "execution_count": 277,
   "id": "ae13195f-06a7-49b6-8ecf-fb587bcb9abf",
   "metadata": {},
   "outputs": [],
   "source": [
    "summary = \"\\n\".join(summarized_chunks)\n",
    "response = chat_model.predict(f\"\"\"Provide the review of the following text . Organize key ideas text into logical sections. \n",
    "Add headers for each section and provide the response in HTML markup:\n",
    "\n",
    "{summary}\"\"\" , **parameters)\n"
   ]
  },
  {
   "cell_type": "code",
   "execution_count": 278,
   "id": "36222d04-7789-4299-a747-ae0e0cfe124c",
   "metadata": {},
   "outputs": [
    {
     "data": {},
     "metadata": {},
     "output_type": "display_data"
    },
    {
     "data": {
      "application/vnd.holoviews_exec.v0+json": "",
      "text/html": [
       "<div id='d316ac74-f353-485c-bbaf-441d3d1912a0'>\n",
       "  <div id=\"d512e390-3031-4b0e-92ea-b87b121592a1\" data-root-id=\"d316ac74-f353-485c-bbaf-441d3d1912a0\" style=\"display: contents;\"></div>\n",
       "</div>\n",
       "<script type=\"application/javascript\">(function(root) {\n",
       "  var docs_json = {\"d270d569-59e1-4e41-81f1-c65299fae393\":{\"version\":\"3.1.1\",\"title\":\"Bokeh Application\",\"defs\":[{\"type\":\"model\",\"name\":\"ReactiveHTML1\"},{\"type\":\"model\",\"name\":\"FlexBox1\",\"properties\":[{\"name\":\"align_content\",\"kind\":\"Any\",\"default\":\"flex-start\"},{\"name\":\"align_items\",\"kind\":\"Any\",\"default\":\"flex-start\"},{\"name\":\"flex_direction\",\"kind\":\"Any\",\"default\":\"row\"},{\"name\":\"flex_wrap\",\"kind\":\"Any\",\"default\":\"wrap\"},{\"name\":\"justify_content\",\"kind\":\"Any\",\"default\":\"flex-start\"}]},{\"type\":\"model\",\"name\":\"FloatPanel1\",\"properties\":[{\"name\":\"config\",\"kind\":\"Any\",\"default\":{\"type\":\"map\"}},{\"name\":\"contained\",\"kind\":\"Any\",\"default\":true},{\"name\":\"position\",\"kind\":\"Any\",\"default\":\"right-top\"},{\"name\":\"offsetx\",\"kind\":\"Any\",\"default\":null},{\"name\":\"offsety\",\"kind\":\"Any\",\"default\":null},{\"name\":\"theme\",\"kind\":\"Any\",\"default\":\"primary\"},{\"name\":\"status\",\"kind\":\"Any\",\"default\":\"normalized\"}]},{\"type\":\"model\",\"name\":\"GridStack1\",\"properties\":[{\"name\":\"mode\",\"kind\":\"Any\",\"default\":\"warn\"},{\"name\":\"ncols\",\"kind\":\"Any\",\"default\":null},{\"name\":\"nrows\",\"kind\":\"Any\",\"default\":null},{\"name\":\"allow_resize\",\"kind\":\"Any\",\"default\":true},{\"name\":\"allow_drag\",\"kind\":\"Any\",\"default\":true},{\"name\":\"state\",\"kind\":\"Any\",\"default\":[]}]},{\"type\":\"model\",\"name\":\"drag1\",\"properties\":[{\"name\":\"slider_width\",\"kind\":\"Any\",\"default\":5},{\"name\":\"slider_color\",\"kind\":\"Any\",\"default\":\"black\"},{\"name\":\"value\",\"kind\":\"Any\",\"default\":50}]},{\"type\":\"model\",\"name\":\"click1\",\"properties\":[{\"name\":\"terminal_output\",\"kind\":\"Any\",\"default\":\"\"},{\"name\":\"debug_name\",\"kind\":\"Any\",\"default\":\"\"},{\"name\":\"clears\",\"kind\":\"Any\",\"default\":0}]},{\"type\":\"model\",\"name\":\"FastWrapper1\",\"properties\":[{\"name\":\"object\",\"kind\":\"Any\",\"default\":null},{\"name\":\"style\",\"kind\":\"Any\",\"default\":null}]},{\"type\":\"model\",\"name\":\"NotificationAreaBase1\",\"properties\":[{\"name\":\"js_events\",\"kind\":\"Any\",\"default\":{\"type\":\"map\"}},{\"name\":\"position\",\"kind\":\"Any\",\"default\":\"bottom-right\"},{\"name\":\"_clear\",\"kind\":\"Any\",\"default\":0}]},{\"type\":\"model\",\"name\":\"NotificationArea1\",\"properties\":[{\"name\":\"js_events\",\"kind\":\"Any\",\"default\":{\"type\":\"map\"}},{\"name\":\"notifications\",\"kind\":\"Any\",\"default\":[]},{\"name\":\"position\",\"kind\":\"Any\",\"default\":\"bottom-right\"},{\"name\":\"_clear\",\"kind\":\"Any\",\"default\":0},{\"name\":\"types\",\"kind\":\"Any\",\"default\":[{\"type\":\"map\",\"entries\":[[\"type\",\"warning\"],[\"background\",\"#ffc107\"],[\"icon\",{\"type\":\"map\",\"entries\":[[\"className\",\"fas fa-exclamation-triangle\"],[\"tagName\",\"i\"],[\"color\",\"white\"]]}]]},{\"type\":\"map\",\"entries\":[[\"type\",\"info\"],[\"background\",\"#007bff\"],[\"icon\",{\"type\":\"map\",\"entries\":[[\"className\",\"fas fa-info-circle\"],[\"tagName\",\"i\"],[\"color\",\"white\"]]}]]}]}]},{\"type\":\"model\",\"name\":\"Notification\",\"properties\":[{\"name\":\"background\",\"kind\":\"Any\",\"default\":null},{\"name\":\"duration\",\"kind\":\"Any\",\"default\":3000},{\"name\":\"icon\",\"kind\":\"Any\",\"default\":null},{\"name\":\"message\",\"kind\":\"Any\",\"default\":\"\"},{\"name\":\"notification_type\",\"kind\":\"Any\",\"default\":null},{\"name\":\"_destroyed\",\"kind\":\"Any\",\"default\":false}]},{\"type\":\"model\",\"name\":\"TemplateActions1\",\"properties\":[{\"name\":\"open_modal\",\"kind\":\"Any\",\"default\":0},{\"name\":\"close_modal\",\"kind\":\"Any\",\"default\":0}]},{\"type\":\"model\",\"name\":\"BootstrapTemplateActions1\",\"properties\":[{\"name\":\"open_modal\",\"kind\":\"Any\",\"default\":0},{\"name\":\"close_modal\",\"kind\":\"Any\",\"default\":0}]},{\"type\":\"model\",\"name\":\"MaterialTemplateActions1\",\"properties\":[{\"name\":\"open_modal\",\"kind\":\"Any\",\"default\":0},{\"name\":\"close_modal\",\"kind\":\"Any\",\"default\":0}]}],\"roots\":[{\"type\":\"object\",\"name\":\"panel.models.markup.HTML\",\"id\":\"d316ac74-f353-485c-bbaf-441d3d1912a0\",\"attributes\":{\"stylesheets\":[\"\\n:host(.pn-loading.pn-arc):before, .pn-loading.pn-arc:before {\\n  background-image: url(\\\"data:image/svg+xml;base64,PHN2ZyB4bWxucz0iaHR0cDovL3d3dy53My5vcmcvMjAwMC9zdmciIHN0eWxlPSJtYXJnaW46IGF1dG87IGJhY2tncm91bmQ6IG5vbmU7IGRpc3BsYXk6IGJsb2NrOyBzaGFwZS1yZW5kZXJpbmc6IGF1dG87IiB2aWV3Qm94PSIwIDAgMTAwIDEwMCIgcHJlc2VydmVBc3BlY3RSYXRpbz0ieE1pZFlNaWQiPiAgPGNpcmNsZSBjeD0iNTAiIGN5PSI1MCIgZmlsbD0ibm9uZSIgc3Ryb2tlPSIjYzNjM2MzIiBzdHJva2Utd2lkdGg9IjEwIiByPSIzNSIgc3Ryb2tlLWRhc2hhcnJheT0iMTY0LjkzMzYxNDMxMzQ2NDE1IDU2Ljk3Nzg3MTQzNzgyMTM4Ij4gICAgPGFuaW1hdGVUcmFuc2Zvcm0gYXR0cmlidXRlTmFtZT0idHJhbnNmb3JtIiB0eXBlPSJyb3RhdGUiIHJlcGVhdENvdW50PSJpbmRlZmluaXRlIiBkdXI9IjFzIiB2YWx1ZXM9IjAgNTAgNTA7MzYwIDUwIDUwIiBrZXlUaW1lcz0iMDsxIj48L2FuaW1hdGVUcmFuc2Zvcm0+ICA8L2NpcmNsZT48L3N2Zz4=\\\");\\n  background-size: auto calc(min(50%, 400px));\\n}\",{\"type\":\"object\",\"name\":\"ImportedStyleSheet\",\"id\":\"6af26374-98b7-4e9f-9f99-d38982c20481\",\"attributes\":{\"url\":\"https://cdn.holoviz.org/panel/1.2.3/dist/css/loading.css\"}},{\"type\":\"object\",\"name\":\"ImportedStyleSheet\",\"id\":\"4cd06f1c-ce08-4d06-8370-980addce53ac\",\"attributes\":{\"url\":\"https://cdn.holoviz.org/panel/1.2.3/dist/bundled/theme/default.css\"}},{\"type\":\"object\",\"name\":\"ImportedStyleSheet\",\"id\":\"4bd083a6-2999-4fa3-b150-259e0fefb33c\",\"attributes\":{\"url\":\"https://cdn.holoviz.org/panel/1.2.3/dist/bundled/theme/native.css\"}}],\"margin\":[5,10],\"align\":\"start\",\"text\":\" &lt;!DOCTYPE html&gt;\\n&lt;html&gt;\\n&lt;head&gt;\\n&lt;title&gt;2022 Annual Letter - Chamath Palihapitiya&lt;/title&gt;\\n&lt;/head&gt;\\n\\n&lt;body&gt;\\n&lt;h1&gt;2022 Annual Letter - Chamath Palihapitiya&lt;/h1&gt;\\n&lt;h2&gt;Introduction&lt;/h2&gt;\\n\\n&lt;p&gt;This is the fifth of our annual letters in which we discuss our observations and reflections of the year passed, how they\\u2019ve shaped our investment views, and other ideas on technology, markets, and our mission to build the future.&lt;/p&gt;\\n\\n&lt;p&gt;Since we started Social Capital in 2011, our work has touched many different parts of the technology ecosystem, from investing in Bitcoin and SaaS in the early 2010s to our more recent bets in deep tech, life sciences, and energy transition.&lt;/p&gt;\\n\\n&lt;h2&gt;Investment Philosophy&lt;/h2&gt;\\n\\n&lt;p&gt;As an organization, we have tried to be flexible in how we allocate and deploy capital, whether it\\u2019s investing across stages from seed to growth, funding strategic acquisitions and seeking M&amp;A opportunities for our portfolio, anchoring IPOs and making public market investments, or enabling access to the public markets via SPACs.&lt;/p&gt;\\n\\n&lt;p&gt;With each opportunity we weigh the risks with the information at the time, and if we believe an opportunity is priced correctly, we take the risk. At times this has meant forging our own path and investing across stages and asset classes, which can sometimes be a lonely road. But we\\u2019ve also tried to create room for others to either partner alongside us or copy something that works. Ultimately, our investments are judged on whether they worked or not from time of entry to time of exit.&lt;/p&gt;\\n\\n&lt;p&gt;All of this said, while this approach has led us to explore different areas of technology and a range of capital raising tools, we believe there has been a common theme that has defined our work over the past 12 years: partnering with ambitious, independent thinkers who as founders are building companies from first principles. Ideally, when everything converges, we have historically been able to achieve both meaningful societal progress and meaningful commercial outcomes.&lt;/p&gt;\\n\\n&lt;h2&gt;Building companies in an age of austerity&lt;/h2&gt;\\n\\n&lt;p&gt;Currently, we find ourselves navigating one of the most complicated environments of the past 20\\u0000 years of technology investing.&lt;/p&gt;\\n\\n&lt;p&gt;In our 2021 annual letter, we wrote that the formula for successful technology investing must include founders who have the discipline to be hyper-focused on the things that will help their businesses succeed, balanced with the ability to ignore noise and distractions, no matter how difficult or unpopular. When done well, these specific founders have shown great ability to deliver outsized outcomes for their customers, employees, and investors.&lt;/p&gt;\\n\\n&lt;p&gt;However, on the cusp of a generation-defining economic regime change, many of us hadn\\u2019t adequately considered a key factor, which up until 2022 has been often forgotten or overlooked: austerity.&lt;/p&gt;\\n\\n&lt;p&gt;As we enter a sustained period of non-zero interest rates, discipline of mission must now also intersect with discipline of management and operation. Efficiency, risk management, business model fundamentals, and most importantly, sustained profitability, are must-haves \\u2013 not nice-to-haves.&lt;/p&gt;\\n\\n&lt;p&gt;To founders, make no mistake. A company\\u2019s success will be judged by its profits and market leadership \\u2013 not faux \\u201cprofitability\\u201d metrics or your ability to latch your company onto the latest trend or fad.&lt;/p&gt;\\n\\n&lt;p&gt;Over time, this heightened level of focus and discipline will lead to better run and more efficiently managed businesses. Companies won\\u2019t be able to overpay for underperforming talent or underpay overperforming talent. They won\\u2019t hand out the proverbial \\u201cfree lunch\\u201d or other benefits that aren\\u2019t indexed to profitability.&lt;/p&gt;\\n\\n&lt;p&gt;Middle managers will be under pressure to do more actual work and less coordination. This process will be painful, but the end result will be worth it.&lt;/p&gt;\\n\\n&lt;h2&gt;What the hell is going on \\u2013 2022 edition&lt;/h2&gt;\\n\\n&lt;p&gt;As much as we\\u2019d like to put 2022 in the rearview mirror, it\\u2019s important to reflect and acknowledge how we got here. The past year brought a number of learnings, which have informed (and in some cases confirmed) how we think about the future.&lt;/p&gt;\\n\\n&lt;h3&gt;End of ZIRP&lt;/h3&gt;\\n\\n&lt;p&gt;The era of excess, abundance, and zero interest-rate policy has come to an end.&lt;/p&gt;\\n\\n&lt;p&gt;Last year, we likened it to ending the best party in town \\u2013 but instead of simply turning on the lights, the past year has been more akin to getting cold water thrown in our faces.&lt;/p&gt;\\n\\n&lt;p&gt;First, some history. ZIRP was initiated as a stimulus measure to rebuild the economy following the 2008 global financial crisis \\u2013 and it ended up fueling the longest bull market in U.S. stock market history. Over that time, from 2008 to 2023, the U.S. Federal Reserve\\u2019s balance sheet swelled by more than 800% from $923B to $8.3T. 1&lt;/p&gt;\\n\\n&lt;p&gt;Second, Covid happened. In order to stimulate a shut-down economy, the government doubled down on ZIRP and started handing out cash like candy on Halloween \\u2013 and this was the straw that broke the camel\\u2019s back.&lt;/p&gt;\\n\\n&lt;p&gt;All of a sudden, free money flooded the economy. And because of pandemic-related supply constraints, we saw commodities, shipping, and used car prices go through the roof. Meanwhile, excess liquidity continued to fuel higher household spending and persistent (not transitory) demand-side inflation. It was a perfect storm of pent-up demand colliding with a supply shock.&lt;/p&gt;\\n\\n&lt;p&gt;In an attempt to quell this problem, the Fed finally slammed on the brakes and enacted some of the most aggressive interest rate increases in U.S. monetary history. Since Q1 of 2022, the Federal Funds Rate has gone from effectively zero to approaching 5% in hopes of tempering the highest inflation rates we\\u2019ve seen since the 1980s.&lt;/p&gt;\\n\\n&lt;p&gt;While the rate of inflation appears to have peaked, demand remains strong, leading many of us to believe that there may still be more medicine (i.e. rate hikes) to come \\u2013 and we may need to take this medicine for longer than previously anticipated.&lt;/p&gt;\\n\\n&lt;p&gt;From our perspective, the most alarming consequence in startup-land has been the divide it has created between the management teams who have \\u201cfound religion\\u201d (i.e. made the tough decisions and managed their businesses smartly) and the rest who are trying their best to avoid reality.&lt;/p&gt;\\n\\n&lt;p&gt;If ZIRP was the drug, the high it created is now obvious \\u2013 growth at all costs, unsubstantiated funding rounds, overhiring, and corporate glut. All the while, many VCs and capital allocators lived in a fantasy world where paper marks were deemed just as good as actual cash distributed to their LPs \\u2013 and now many need to face reality.&lt;/p&gt;\\n\\n&lt;h3&gt;War in Ukraine&lt;/h3&gt;\\n\\n&lt;p&gt;After nearly a decade of simmering conflict, Russia\\u2019s invasion of Ukraine was the geopolitical story of the year. The human impact has been undeniable \\u2013 tens of thousands dead and millions more displaced \\u2013 but the war quickly also became a conflict of economic aggression.&lt;/p&gt;\\n\\n&lt;p&gt;The economic shockwaves have been felt most acutely in the energy sector \\u2013 but this was another problem years in the making. Instead of shoring up domestic energy production, Europe spent much of the past decade pandering to special interests, which meant weaning off reliable energy sources like nuclear fission and underinvesting in renewables like solar and wind.&lt;/p&gt;\\n\\n&lt;p&gt;As a result, Europe became significantly more reliant on Russian natural gas, so much so that from 2010 to 2018, Russia went from supplying roughly a quarter of Europe\\u2019s national gas intake to more than 40%. 2&lt;/p&gt;\\n\\n&lt;p&gt;To make things even worse, European leaders had pursued an uncoordinated set of domestic policies that made this dependency worse than it needed to be. For example, in 2011, Germany obtained roughly 25% of its electricity from 17 domestic nuclear reactors. By the end of 2022, only three of those reactors remain and account for just 6% of the country&#x27;s electricity. We believe this is largely the result of incumbents lobbying for their own survival and unscientific environmental zealots failing to realize the economic and political consequences of a fragile energy economy. 3&lt;/p&gt;\\n\\n&lt;p&gt;As energy consumption continued to rise, energy supply became increasingly sparse. Knowing this, Russia was able to tighten its stranglehold on Europe\\u2019s natural gas spigot, forcing European countries to import much needed fuel from elsewhere and putting the global energy markets on tilt.&lt;/p&gt;\\n\\n&lt;p&gt;Beyond energy, the geopolitical ramifications of the war have impacted many other important sectors of the economy from food inputs to critical raw materials.&lt;/p&gt;\\n\\n&lt;p&gt;As global superpowers were pressured to choose (or not choose) sides, we learned just how vulnerable the U.S. has become to the whims of other major producers, namely China.&lt;/p&gt;\\n\\n&lt;p&gt;As another example, China supplies roughly 70% of the world\\u2019s silicon metal, the\",\"disable_math\":true}},{\"type\":\"object\",\"name\":\"panel.models.comm_manager.CommManager\",\"id\":\"db333b6b-c898-421c-9ff0-c867a8e4bc7e\",\"attributes\":{\"plot_id\":\"d316ac74-f353-485c-bbaf-441d3d1912a0\",\"comm_id\":\"e2ae75ebf3af42bd92c665d0013bbbda\",\"client_comm_id\":\"ded911bbc5ca4b53a0a721710d762479\"}}],\"callbacks\":{\"type\":\"map\"}}};\n",
       "  var render_items = [{\"docid\":\"d270d569-59e1-4e41-81f1-c65299fae393\",\"roots\":{\"d316ac74-f353-485c-bbaf-441d3d1912a0\":\"d512e390-3031-4b0e-92ea-b87b121592a1\"},\"root_ids\":[\"d316ac74-f353-485c-bbaf-441d3d1912a0\"]}];\n",
       "  var docs = Object.values(docs_json)\n",
       "  if (!docs) {\n",
       "    return\n",
       "  }\n",
       "  const py_version = docs[0].version.replace('rc', '-rc.').replace('.dev', '-dev.')\n",
       "  const is_dev = py_version.indexOf(\"+\") !== -1 || py_version.indexOf(\"-\") !== -1\n",
       "  function embed_document(root) {\n",
       "    var Bokeh = get_bokeh(root)\n",
       "    Bokeh.embed.embed_items_notebook(docs_json, render_items);\n",
       "    for (const render_item of render_items) {\n",
       "      for (const root_id of render_item.root_ids) {\n",
       "\tconst id_el = document.getElementById(root_id)\n",
       "\tif (id_el.children.length && (id_el.children[0].className === 'bk-root')) {\n",
       "\t  const root_el = id_el.children[0]\n",
       "\t  root_el.id = root_el.id + '-rendered'\n",
       "\t}\n",
       "      }\n",
       "    }\n",
       "  }\n",
       "  function get_bokeh(root) {\n",
       "    if (root.Bokeh === undefined) {\n",
       "      return null\n",
       "    } else if (root.Bokeh.version !== py_version && !is_dev) {\n",
       "      if (root.Bokeh.versions === undefined || !root.Bokeh.versions.has(py_version)) {\n",
       "\treturn null\n",
       "      }\n",
       "      return root.Bokeh.versions.get(py_version);\n",
       "    } else if (root.Bokeh.version === py_version) {\n",
       "      return root.Bokeh\n",
       "    }\n",
       "    return null\n",
       "  }\n",
       "  function is_loaded(root) {\n",
       "    var Bokeh = get_bokeh(root)\n",
       "    return (Bokeh != null && Bokeh.Panel !== undefined)\n",
       "  }\n",
       "  if (is_loaded(root)) {\n",
       "    embed_document(root);\n",
       "  } else {\n",
       "    var attempts = 0;\n",
       "    var timer = setInterval(function(root) {\n",
       "      if (is_loaded(root)) {\n",
       "        clearInterval(timer);\n",
       "        embed_document(root);\n",
       "      } else if (document.readyState == \"complete\") {\n",
       "        attempts++;\n",
       "        if (attempts > 200) {\n",
       "          clearInterval(timer);\n",
       "\t  var Bokeh = get_bokeh(root)\n",
       "\t  if (Bokeh == null || Bokeh.Panel == null) {\n",
       "            console.warn(\"Panel: ERROR: Unable to run Panel code because Bokeh or Panel library is missing\");\n",
       "\t  } else {\n",
       "\t    console.warn(\"Panel: WARNING: Attempting to render but not all required libraries could be resolved.\")\n",
       "\t    embed_document(root)\n",
       "\t  }\n",
       "        }\n",
       "      }\n",
       "    }, 25, root)\n",
       "  }\n",
       "})(window);</script>"
      ],
      "text/plain": [
       "HTML(str)"
      ]
     },
     "execution_count": 278,
     "metadata": {
      "application/vnd.holoviews_exec.v0+json": {
       "id": "d316ac74-f353-485c-bbaf-441d3d1912a0"
      }
     },
     "output_type": "execute_result"
    }
   ],
   "source": [
    "pn.pane.HTML(response.text)\n"
   ]
  },
  {
   "cell_type": "code",
   "execution_count": 279,
   "id": "04fb77aa-9016-4592-b772-64c0f095e37f",
   "metadata": {},
   "outputs": [],
   "source": [
    "summary = \"\\n\".join(summarized_chunks)\n",
    "response = chat_model.predict(f\"\"\"Provide the review of the following text highlighting key ideas of the author. Organize ideas text into logical sections. \n",
    "Add headers for each section and provide the response in HTML markup:\n",
    "\n",
    "{summary}\"\"\" , **parameters)"
   ]
  },
  {
   "cell_type": "code",
   "execution_count": 280,
   "id": "c056b948-0565-4c7d-be92-60c507cc21e2",
   "metadata": {},
   "outputs": [
    {
     "data": {},
     "metadata": {},
     "output_type": "display_data"
    },
    {
     "data": {
      "application/vnd.holoviews_exec.v0+json": "",
      "text/html": [
       "<div id='7bbbb276-d875-4ef2-9f2e-250f11fc6103'>\n",
       "  <div id=\"f842e92d-5636-4de0-8c90-ed9e9d6386f9\" data-root-id=\"7bbbb276-d875-4ef2-9f2e-250f11fc6103\" style=\"display: contents;\"></div>\n",
       "</div>\n",
       "<script type=\"application/javascript\">(function(root) {\n",
       "  var docs_json = {\"2f8bf865-c41f-4a69-ae4b-d05c14c1c6d0\":{\"version\":\"3.1.1\",\"title\":\"Bokeh Application\",\"defs\":[{\"type\":\"model\",\"name\":\"ReactiveHTML1\"},{\"type\":\"model\",\"name\":\"FlexBox1\",\"properties\":[{\"name\":\"align_content\",\"kind\":\"Any\",\"default\":\"flex-start\"},{\"name\":\"align_items\",\"kind\":\"Any\",\"default\":\"flex-start\"},{\"name\":\"flex_direction\",\"kind\":\"Any\",\"default\":\"row\"},{\"name\":\"flex_wrap\",\"kind\":\"Any\",\"default\":\"wrap\"},{\"name\":\"justify_content\",\"kind\":\"Any\",\"default\":\"flex-start\"}]},{\"type\":\"model\",\"name\":\"FloatPanel1\",\"properties\":[{\"name\":\"config\",\"kind\":\"Any\",\"default\":{\"type\":\"map\"}},{\"name\":\"contained\",\"kind\":\"Any\",\"default\":true},{\"name\":\"position\",\"kind\":\"Any\",\"default\":\"right-top\"},{\"name\":\"offsetx\",\"kind\":\"Any\",\"default\":null},{\"name\":\"offsety\",\"kind\":\"Any\",\"default\":null},{\"name\":\"theme\",\"kind\":\"Any\",\"default\":\"primary\"},{\"name\":\"status\",\"kind\":\"Any\",\"default\":\"normalized\"}]},{\"type\":\"model\",\"name\":\"GridStack1\",\"properties\":[{\"name\":\"mode\",\"kind\":\"Any\",\"default\":\"warn\"},{\"name\":\"ncols\",\"kind\":\"Any\",\"default\":null},{\"name\":\"nrows\",\"kind\":\"Any\",\"default\":null},{\"name\":\"allow_resize\",\"kind\":\"Any\",\"default\":true},{\"name\":\"allow_drag\",\"kind\":\"Any\",\"default\":true},{\"name\":\"state\",\"kind\":\"Any\",\"default\":[]}]},{\"type\":\"model\",\"name\":\"drag1\",\"properties\":[{\"name\":\"slider_width\",\"kind\":\"Any\",\"default\":5},{\"name\":\"slider_color\",\"kind\":\"Any\",\"default\":\"black\"},{\"name\":\"value\",\"kind\":\"Any\",\"default\":50}]},{\"type\":\"model\",\"name\":\"click1\",\"properties\":[{\"name\":\"terminal_output\",\"kind\":\"Any\",\"default\":\"\"},{\"name\":\"debug_name\",\"kind\":\"Any\",\"default\":\"\"},{\"name\":\"clears\",\"kind\":\"Any\",\"default\":0}]},{\"type\":\"model\",\"name\":\"FastWrapper1\",\"properties\":[{\"name\":\"object\",\"kind\":\"Any\",\"default\":null},{\"name\":\"style\",\"kind\":\"Any\",\"default\":null}]},{\"type\":\"model\",\"name\":\"NotificationAreaBase1\",\"properties\":[{\"name\":\"js_events\",\"kind\":\"Any\",\"default\":{\"type\":\"map\"}},{\"name\":\"position\",\"kind\":\"Any\",\"default\":\"bottom-right\"},{\"name\":\"_clear\",\"kind\":\"Any\",\"default\":0}]},{\"type\":\"model\",\"name\":\"NotificationArea1\",\"properties\":[{\"name\":\"js_events\",\"kind\":\"Any\",\"default\":{\"type\":\"map\"}},{\"name\":\"notifications\",\"kind\":\"Any\",\"default\":[]},{\"name\":\"position\",\"kind\":\"Any\",\"default\":\"bottom-right\"},{\"name\":\"_clear\",\"kind\":\"Any\",\"default\":0},{\"name\":\"types\",\"kind\":\"Any\",\"default\":[{\"type\":\"map\",\"entries\":[[\"type\",\"warning\"],[\"background\",\"#ffc107\"],[\"icon\",{\"type\":\"map\",\"entries\":[[\"className\",\"fas fa-exclamation-triangle\"],[\"tagName\",\"i\"],[\"color\",\"white\"]]}]]},{\"type\":\"map\",\"entries\":[[\"type\",\"info\"],[\"background\",\"#007bff\"],[\"icon\",{\"type\":\"map\",\"entries\":[[\"className\",\"fas fa-info-circle\"],[\"tagName\",\"i\"],[\"color\",\"white\"]]}]]}]}]},{\"type\":\"model\",\"name\":\"Notification\",\"properties\":[{\"name\":\"background\",\"kind\":\"Any\",\"default\":null},{\"name\":\"duration\",\"kind\":\"Any\",\"default\":3000},{\"name\":\"icon\",\"kind\":\"Any\",\"default\":null},{\"name\":\"message\",\"kind\":\"Any\",\"default\":\"\"},{\"name\":\"notification_type\",\"kind\":\"Any\",\"default\":null},{\"name\":\"_destroyed\",\"kind\":\"Any\",\"default\":false}]},{\"type\":\"model\",\"name\":\"TemplateActions1\",\"properties\":[{\"name\":\"open_modal\",\"kind\":\"Any\",\"default\":0},{\"name\":\"close_modal\",\"kind\":\"Any\",\"default\":0}]},{\"type\":\"model\",\"name\":\"BootstrapTemplateActions1\",\"properties\":[{\"name\":\"open_modal\",\"kind\":\"Any\",\"default\":0},{\"name\":\"close_modal\",\"kind\":\"Any\",\"default\":0}]},{\"type\":\"model\",\"name\":\"MaterialTemplateActions1\",\"properties\":[{\"name\":\"open_modal\",\"kind\":\"Any\",\"default\":0},{\"name\":\"close_modal\",\"kind\":\"Any\",\"default\":0}]}],\"roots\":[{\"type\":\"object\",\"name\":\"panel.models.markup.HTML\",\"id\":\"7bbbb276-d875-4ef2-9f2e-250f11fc6103\",\"attributes\":{\"stylesheets\":[\"\\n:host(.pn-loading.pn-arc):before, .pn-loading.pn-arc:before {\\n  background-image: url(\\\"data:image/svg+xml;base64,PHN2ZyB4bWxucz0iaHR0cDovL3d3dy53My5vcmcvMjAwMC9zdmciIHN0eWxlPSJtYXJnaW46IGF1dG87IGJhY2tncm91bmQ6IG5vbmU7IGRpc3BsYXk6IGJsb2NrOyBzaGFwZS1yZW5kZXJpbmc6IGF1dG87IiB2aWV3Qm94PSIwIDAgMTAwIDEwMCIgcHJlc2VydmVBc3BlY3RSYXRpbz0ieE1pZFlNaWQiPiAgPGNpcmNsZSBjeD0iNTAiIGN5PSI1MCIgZmlsbD0ibm9uZSIgc3Ryb2tlPSIjYzNjM2MzIiBzdHJva2Utd2lkdGg9IjEwIiByPSIzNSIgc3Ryb2tlLWRhc2hhcnJheT0iMTY0LjkzMzYxNDMxMzQ2NDE1IDU2Ljk3Nzg3MTQzNzgyMTM4Ij4gICAgPGFuaW1hdGVUcmFuc2Zvcm0gYXR0cmlidXRlTmFtZT0idHJhbnNmb3JtIiB0eXBlPSJyb3RhdGUiIHJlcGVhdENvdW50PSJpbmRlZmluaXRlIiBkdXI9IjFzIiB2YWx1ZXM9IjAgNTAgNTA7MzYwIDUwIDUwIiBrZXlUaW1lcz0iMDsxIj48L2FuaW1hdGVUcmFuc2Zvcm0+ICA8L2NpcmNsZT48L3N2Zz4=\\\");\\n  background-size: auto calc(min(50%, 400px));\\n}\",{\"type\":\"object\",\"name\":\"ImportedStyleSheet\",\"id\":\"66d3ffda-c1f2-49c8-8fea-28056cd8caa1\",\"attributes\":{\"url\":\"https://cdn.holoviz.org/panel/1.2.3/dist/css/loading.css\"}},{\"type\":\"object\",\"name\":\"ImportedStyleSheet\",\"id\":\"79196c18-f6b4-45ea-b9da-6438b344ff94\",\"attributes\":{\"url\":\"https://cdn.holoviz.org/panel/1.2.3/dist/bundled/theme/default.css\"}},{\"type\":\"object\",\"name\":\"ImportedStyleSheet\",\"id\":\"1b693af8-8a3e-4223-9b1e-a7f89164f853\",\"attributes\":{\"url\":\"https://cdn.holoviz.org/panel/1.2.3/dist/bundled/theme/native.css\"}}],\"margin\":[5,10],\"align\":\"start\",\"text\":\" &lt;!DOCTYPE html&gt;\\n&lt;html&gt;\\n&lt;head&gt;\\n&lt;title&gt;2022 Annual Letter - Chamath Palihapitiya&lt;/title&gt;\\n&lt;/head&gt;\\n\\n&lt;body&gt;\\n&lt;h1&gt;2022 Annual Letter - Chamath Palihapitiya&lt;/h1&gt;\\n&lt;h2&gt;Introduction&lt;/h2&gt;\\n\\n&lt;p&gt;This is the fifth of our annual letters in which we discuss our observations and reflections of the year passed, how they\\u2019ve shaped our investment views, and other ideas on technology, markets, and our mission to build the future.&lt;/p&gt;\\n\\n&lt;p&gt;Since we started Social Capital in 2011, our work has touched many different parts of the technology ecosystem, from investing in Bitcoin and SaaS in the early 2010s to our more recent bets in deep tech, life sciences, and energy transition.&lt;/p&gt;\\n\\n&lt;h2&gt;Investment Philosophy&lt;/h2&gt;\\n\\n&lt;p&gt;As an organization, we have tried to be flexible in how we allocate and deploy capital, whether it\\u2019s investing across stages from seed to growth, funding strategic acquisitions and seeking M&amp;A opportunities for our portfolio, anchoring IPOs and making public market investments, or enabling access to the public markets via SPACs.&lt;/p&gt;\\n\\n&lt;p&gt;With each opportunity we weigh the risks with the information at the time, and if we believe an opportunity is priced correctly, we take the risk. At times this has meant forging our own path and investing across stages and asset classes, which can sometimes be a lonely road. But we\\u2019ve also tried to create room for others to either partner alongside us or copy something that works. Ultimately, our investments are judged on whether they worked or not from time of entry to time of exit.&lt;/p&gt;\\n\\n&lt;p&gt;All of this said, while this approach has led us to explore different areas of technology and a range of capital raising tools, we believe there has been a common theme that has defined our work over the past 12 years: partnering with ambitious, independent thinkers who as founders are building companies from first principles. Ideally, when everything converges, we have historically been able to achieve both meaningful societal progress and meaningful commercial outcomes.&lt;/p&gt;\\n\\n&lt;h2&gt;Building companies in an age of austerity&lt;/h2&gt;\\n\\n&lt;p&gt;Currently, we find ourselves navigating one of the most complicated environments of the past 20\\u0000 years of technology investing.&lt;/p&gt;\\n\\n&lt;p&gt;In our 2021 annual letter, we wrote that the formula for successful technology investing must include founders who have the discipline to be hyper-focused on the things that will help their businesses succeed, balanced with the ability to ignore noise and distractions, no matter how difficult or unpopular. When done well, these specific founders have shown great ability to deliver outsized outcomes for their customers, employees, and investors.&lt;/p&gt;\\n\\n&lt;p&gt;However, on the cusp of a generation-defining economic regime change, many of us hadn\\u2019t adequately considered a key factor, which up until 2022 has been often forgotten or overlooked: austerity.&lt;/p&gt;\\n\\n&lt;p&gt;As we enter a sustained period of non-zero interest rates, discipline of mission must now also intersect with discipline of management and operation. Efficiency, risk management, business model fundamentals, and most importantly, sustained profitability, are must-haves \\u2013 not nice-to-haves.&lt;/p&gt;\\n\\n&lt;p&gt;To founders, make no mistake. A company\\u2019s success will be judged by its profits and market leadership \\u2013 not faux \\u201cprofitability\\u201d metrics or your ability to latch your company onto the latest trend or fad.&lt;/p&gt;\\n\\n&lt;p&gt;Over time, this heightened level of focus and discipline will lead to better run and more efficiently managed businesses. Companies won\\u2019t be able to overpay for underperforming talent or underpay overperforming talent. They won\\u2019t hand out the proverbial \\u201cfree lunch\\u201d or other benefits that aren\\u2019t indexed to profitability.&lt;/p&gt;\\n\\n&lt;p&gt;Middle managers will be under pressure to do more actual work and less coordination. This process will be painful, but the end result will be worth it.&lt;/p&gt;\\n\\n&lt;h2&gt;What the hell is going on \\u2013 2022 edition&lt;/h2&gt;\\n\\n&lt;p&gt;As much as we\\u2019d like to put 2022 in the rearview mirror, it\\u2019s important to reflect and acknowledge how we got here. The past year brought a number of learnings, which have informed (and in some cases confirmed) how we think about the future.&lt;/p&gt;\\n\\n&lt;h3&gt;End of ZIRP&lt;/h3&gt;\\n\\n&lt;p&gt;The era of excess, abundance, and zero interest-rate policy has come to an end.&lt;/p&gt;\\n\\n&lt;p&gt;Last year, we likened it to ending the best party in town \\u2013 but instead of simply turning on the lights, the past year has been more akin to getting cold water thrown in our faces.&lt;/p&gt;\\n\\n&lt;p&gt;First, some history. ZIRP was initiated as a stimulus measure to rebuild the economy following the 2008 global financial crisis \\u2013 and it ended up fueling the longest bull market in U.S. stock market history. Over that time, from 2008 to 2023, the U.S. Federal Reserve\\u2019s balance sheet swelled by more than 800% from $923B to $8.3T. 1&lt;/p&gt;\\n\\n&lt;p&gt;Second, Covid happened. In order to stimulate a shut-down economy, the government doubled down on ZIRP and started handing out cash like candy on Halloween \\u2013 and this was the straw that broke the camel\\u2019s back.&lt;/p&gt;\\n\\n&lt;p&gt;All of a sudden, free money flooded the economy. And because of pandemic-related supply constraints, we saw commodities, shipping, and used car prices go through the roof. Meanwhile, excess liquidity continued to fuel higher household spending and persistent (not transitory) demand-side inflation. It was a perfect storm of pent-up demand colliding with a supply shock.&lt;/p&gt;\\n\\n&lt;p&gt;In an attempt to quell this problem, the Fed finally slammed on the brakes and enacted some of the most aggressive interest rate increases in U.S. monetary history. Since Q1 of 2022, the Federal Funds Rate has gone from effectively zero to approaching 5% in hopes of tempering the highest inflation rates we\\u2019ve seen since the 1980s.&lt;/p&gt;\\n\\n&lt;p&gt;While the rate of inflation appears to have peaked, demand remains strong, leading many of us to believe that there may still be more medicine (i.e. rate hikes) to come \\u2013 and we may need to take this medicine for longer than previously anticipated.&lt;/p&gt;\\n\\n&lt;p&gt;From our perspective, the most alarming consequence in startup-land has been the divide it has created between the management teams who have \\u201cfound religion\\u201d (i.e. made the tough decisions and managed their businesses smartly) and the rest who are trying their best to avoid reality.&lt;/p&gt;\\n\\n&lt;p&gt;If ZIRP was the drug, the high it created is now obvious \\u2013 growth at all costs, unsubstantiated funding rounds, overhiring, and corporate glut. All the while, many VCs and capital allocators lived in a fantasy world where paper marks were deemed just as good as actual cash distributed to their LPs \\u2013 and now many need to face reality.&lt;/p&gt;\\n\\n&lt;h3&gt;War in Ukraine&lt;/h3&gt;\\n\\n&lt;p&gt;After nearly a decade of simmering conflict, Russia\\u2019s invasion of Ukraine was the geopolitical story of the year. The human impact has been undeniable \\u2013 tens of thousands dead and millions more displaced \\u2013 but the war quickly also became a conflict of economic aggression.&lt;/p&gt;\\n\\n&lt;p&gt;The economic shockwaves have been felt most acutely in the energy sector \\u2013 but this was another problem years in the making. Instead of shoring up domestic energy production, Europe spent much of the past decade pandering to special interests, which meant weaning off reliable energy sources like nuclear fission and underinvesting in renewables like solar and wind.&lt;/p&gt;\\n\\n&lt;p&gt;As a result, Europe became significantly more reliant on Russian natural gas, so much so that from 2010 to 2018, Russia went from supplying roughly a quarter of Europe\\u2019s national gas intake to more than 40%. 2&lt;/p&gt;\\n\\n&lt;p&gt;To make things even worse, European leaders had pursued an uncoordinated set of domestic policies that made this dependency worse than it needed to be. For example, in 2011, Germany obtained roughly 25% of its electricity from 17 domestic nuclear reactors. By the end of 2022, only three of those reactors remain and account for just 6% of the country&#x27;s electricity. We believe this is largely the result of incumbents lobbying for their own survival and unscientific environmental zealots failing to realize the economic and political consequences of a fragile energy economy. 3&lt;/p&gt;\\n\\n&lt;p&gt;As energy consumption continued to rise, energy supply became increasingly sparse. Knowing this, Russia was able to tighten its stranglehold on Europe\\u2019s natural gas spigot, forcing European countries to import much needed fuel from elsewhere and putting the global energy markets on tilt.&lt;/p&gt;\\n\\n&lt;p&gt;Beyond energy, the geopolitical ramifications of the war have impacted many other important sectors of the economy from food inputs to critical raw materials.&lt;/p&gt;\\n\\n&lt;p&gt;As global superpowers were pressured to choose (or not choose) sides, we learned just how vulnerable the U.S. has become to the whims of other major producers, namely China.&lt;/p&gt;\\n\\n&lt;p&gt;As another example, China supplies roughly 70% of the world\\u2019s silicon metal, the\",\"disable_math\":true}},{\"type\":\"object\",\"name\":\"panel.models.comm_manager.CommManager\",\"id\":\"3beb2008-53da-4e6d-a085-1e97fdc4dd4c\",\"attributes\":{\"plot_id\":\"7bbbb276-d875-4ef2-9f2e-250f11fc6103\",\"comm_id\":\"085368717a2b409d9fe3123e67cb590b\",\"client_comm_id\":\"b788ee9a60c144f0b9518339060ddc75\"}}],\"callbacks\":{\"type\":\"map\"}}};\n",
       "  var render_items = [{\"docid\":\"2f8bf865-c41f-4a69-ae4b-d05c14c1c6d0\",\"roots\":{\"7bbbb276-d875-4ef2-9f2e-250f11fc6103\":\"f842e92d-5636-4de0-8c90-ed9e9d6386f9\"},\"root_ids\":[\"7bbbb276-d875-4ef2-9f2e-250f11fc6103\"]}];\n",
       "  var docs = Object.values(docs_json)\n",
       "  if (!docs) {\n",
       "    return\n",
       "  }\n",
       "  const py_version = docs[0].version.replace('rc', '-rc.').replace('.dev', '-dev.')\n",
       "  const is_dev = py_version.indexOf(\"+\") !== -1 || py_version.indexOf(\"-\") !== -1\n",
       "  function embed_document(root) {\n",
       "    var Bokeh = get_bokeh(root)\n",
       "    Bokeh.embed.embed_items_notebook(docs_json, render_items);\n",
       "    for (const render_item of render_items) {\n",
       "      for (const root_id of render_item.root_ids) {\n",
       "\tconst id_el = document.getElementById(root_id)\n",
       "\tif (id_el.children.length && (id_el.children[0].className === 'bk-root')) {\n",
       "\t  const root_el = id_el.children[0]\n",
       "\t  root_el.id = root_el.id + '-rendered'\n",
       "\t}\n",
       "      }\n",
       "    }\n",
       "  }\n",
       "  function get_bokeh(root) {\n",
       "    if (root.Bokeh === undefined) {\n",
       "      return null\n",
       "    } else if (root.Bokeh.version !== py_version && !is_dev) {\n",
       "      if (root.Bokeh.versions === undefined || !root.Bokeh.versions.has(py_version)) {\n",
       "\treturn null\n",
       "      }\n",
       "      return root.Bokeh.versions.get(py_version);\n",
       "    } else if (root.Bokeh.version === py_version) {\n",
       "      return root.Bokeh\n",
       "    }\n",
       "    return null\n",
       "  }\n",
       "  function is_loaded(root) {\n",
       "    var Bokeh = get_bokeh(root)\n",
       "    return (Bokeh != null && Bokeh.Panel !== undefined)\n",
       "  }\n",
       "  if (is_loaded(root)) {\n",
       "    embed_document(root);\n",
       "  } else {\n",
       "    var attempts = 0;\n",
       "    var timer = setInterval(function(root) {\n",
       "      if (is_loaded(root)) {\n",
       "        clearInterval(timer);\n",
       "        embed_document(root);\n",
       "      } else if (document.readyState == \"complete\") {\n",
       "        attempts++;\n",
       "        if (attempts > 200) {\n",
       "          clearInterval(timer);\n",
       "\t  var Bokeh = get_bokeh(root)\n",
       "\t  if (Bokeh == null || Bokeh.Panel == null) {\n",
       "            console.warn(\"Panel: ERROR: Unable to run Panel code because Bokeh or Panel library is missing\");\n",
       "\t  } else {\n",
       "\t    console.warn(\"Panel: WARNING: Attempting to render but not all required libraries could be resolved.\")\n",
       "\t    embed_document(root)\n",
       "\t  }\n",
       "        }\n",
       "      }\n",
       "    }, 25, root)\n",
       "  }\n",
       "})(window);</script>"
      ],
      "text/plain": [
       "HTML(str)"
      ]
     },
     "execution_count": 280,
     "metadata": {
      "application/vnd.holoviews_exec.v0+json": {
       "id": "7bbbb276-d875-4ef2-9f2e-250f11fc6103"
      }
     },
     "output_type": "execute_result"
    }
   ],
   "source": [
    "pn.pane.HTML(response.text)"
   ]
  },
  {
   "cell_type": "code",
   "execution_count": 286,
   "id": "8a41462f-c714-497e-802b-459a2627946d",
   "metadata": {},
   "outputs": [],
   "source": [
    "# print(summary)"
   ]
  },
  {
   "cell_type": "code",
   "execution_count": 290,
   "id": "8af10746-46ba-418b-b811-f137ecb6a0f2",
   "metadata": {},
   "outputs": [],
   "source": [
    "response = chat_model.predict(f\"\"\"You are financial and economics analyst. You are writing the review-style summary to your superior. \n",
    "Write the following sections in relation to the text. Use bullet point where appropriate to improve readability. \n",
    "\n",
    "1. Overview\n",
    "2. 5 key ideas from the article\n",
    "3. What are the 10 key points that author makes to support his ideas? \n",
    "4. 2 most interesting takeways\n",
    "\n",
    "text: {summary}\n",
    "\n",
    "\n",
    "Provide the response in HTML markup: \n",
    "\n",
    "\"\"\" , **parameters)"
   ]
  },
  {
   "cell_type": "code",
   "execution_count": 291,
   "id": "fa268c61-1800-418f-a722-40c09b3af726",
   "metadata": {},
   "outputs": [
    {
     "data": {},
     "metadata": {},
     "output_type": "display_data"
    },
    {
     "data": {
      "application/vnd.holoviews_exec.v0+json": "",
      "text/html": [
       "<div id='c5ec19a0-a440-4427-8c80-4dd02bcedf47'>\n",
       "  <div id=\"ebbd0e40-b37c-4649-b617-5f28f4136698\" data-root-id=\"c5ec19a0-a440-4427-8c80-4dd02bcedf47\" style=\"display: contents;\"></div>\n",
       "</div>\n",
       "<script type=\"application/javascript\">(function(root) {\n",
       "  var docs_json = {\"c6b4abeb-832f-4e4c-9e53-e4a9e24088e6\":{\"version\":\"3.1.1\",\"title\":\"Bokeh Application\",\"defs\":[{\"type\":\"model\",\"name\":\"ReactiveHTML1\"},{\"type\":\"model\",\"name\":\"FlexBox1\",\"properties\":[{\"name\":\"align_content\",\"kind\":\"Any\",\"default\":\"flex-start\"},{\"name\":\"align_items\",\"kind\":\"Any\",\"default\":\"flex-start\"},{\"name\":\"flex_direction\",\"kind\":\"Any\",\"default\":\"row\"},{\"name\":\"flex_wrap\",\"kind\":\"Any\",\"default\":\"wrap\"},{\"name\":\"justify_content\",\"kind\":\"Any\",\"default\":\"flex-start\"}]},{\"type\":\"model\",\"name\":\"FloatPanel1\",\"properties\":[{\"name\":\"config\",\"kind\":\"Any\",\"default\":{\"type\":\"map\"}},{\"name\":\"contained\",\"kind\":\"Any\",\"default\":true},{\"name\":\"position\",\"kind\":\"Any\",\"default\":\"right-top\"},{\"name\":\"offsetx\",\"kind\":\"Any\",\"default\":null},{\"name\":\"offsety\",\"kind\":\"Any\",\"default\":null},{\"name\":\"theme\",\"kind\":\"Any\",\"default\":\"primary\"},{\"name\":\"status\",\"kind\":\"Any\",\"default\":\"normalized\"}]},{\"type\":\"model\",\"name\":\"GridStack1\",\"properties\":[{\"name\":\"mode\",\"kind\":\"Any\",\"default\":\"warn\"},{\"name\":\"ncols\",\"kind\":\"Any\",\"default\":null},{\"name\":\"nrows\",\"kind\":\"Any\",\"default\":null},{\"name\":\"allow_resize\",\"kind\":\"Any\",\"default\":true},{\"name\":\"allow_drag\",\"kind\":\"Any\",\"default\":true},{\"name\":\"state\",\"kind\":\"Any\",\"default\":[]}]},{\"type\":\"model\",\"name\":\"drag1\",\"properties\":[{\"name\":\"slider_width\",\"kind\":\"Any\",\"default\":5},{\"name\":\"slider_color\",\"kind\":\"Any\",\"default\":\"black\"},{\"name\":\"value\",\"kind\":\"Any\",\"default\":50}]},{\"type\":\"model\",\"name\":\"click1\",\"properties\":[{\"name\":\"terminal_output\",\"kind\":\"Any\",\"default\":\"\"},{\"name\":\"debug_name\",\"kind\":\"Any\",\"default\":\"\"},{\"name\":\"clears\",\"kind\":\"Any\",\"default\":0}]},{\"type\":\"model\",\"name\":\"FastWrapper1\",\"properties\":[{\"name\":\"object\",\"kind\":\"Any\",\"default\":null},{\"name\":\"style\",\"kind\":\"Any\",\"default\":null}]},{\"type\":\"model\",\"name\":\"NotificationAreaBase1\",\"properties\":[{\"name\":\"js_events\",\"kind\":\"Any\",\"default\":{\"type\":\"map\"}},{\"name\":\"position\",\"kind\":\"Any\",\"default\":\"bottom-right\"},{\"name\":\"_clear\",\"kind\":\"Any\",\"default\":0}]},{\"type\":\"model\",\"name\":\"NotificationArea1\",\"properties\":[{\"name\":\"js_events\",\"kind\":\"Any\",\"default\":{\"type\":\"map\"}},{\"name\":\"notifications\",\"kind\":\"Any\",\"default\":[]},{\"name\":\"position\",\"kind\":\"Any\",\"default\":\"bottom-right\"},{\"name\":\"_clear\",\"kind\":\"Any\",\"default\":0},{\"name\":\"types\",\"kind\":\"Any\",\"default\":[{\"type\":\"map\",\"entries\":[[\"type\",\"warning\"],[\"background\",\"#ffc107\"],[\"icon\",{\"type\":\"map\",\"entries\":[[\"className\",\"fas fa-exclamation-triangle\"],[\"tagName\",\"i\"],[\"color\",\"white\"]]}]]},{\"type\":\"map\",\"entries\":[[\"type\",\"info\"],[\"background\",\"#007bff\"],[\"icon\",{\"type\":\"map\",\"entries\":[[\"className\",\"fas fa-info-circle\"],[\"tagName\",\"i\"],[\"color\",\"white\"]]}]]}]}]},{\"type\":\"model\",\"name\":\"Notification\",\"properties\":[{\"name\":\"background\",\"kind\":\"Any\",\"default\":null},{\"name\":\"duration\",\"kind\":\"Any\",\"default\":3000},{\"name\":\"icon\",\"kind\":\"Any\",\"default\":null},{\"name\":\"message\",\"kind\":\"Any\",\"default\":\"\"},{\"name\":\"notification_type\",\"kind\":\"Any\",\"default\":null},{\"name\":\"_destroyed\",\"kind\":\"Any\",\"default\":false}]},{\"type\":\"model\",\"name\":\"TemplateActions1\",\"properties\":[{\"name\":\"open_modal\",\"kind\":\"Any\",\"default\":0},{\"name\":\"close_modal\",\"kind\":\"Any\",\"default\":0}]},{\"type\":\"model\",\"name\":\"BootstrapTemplateActions1\",\"properties\":[{\"name\":\"open_modal\",\"kind\":\"Any\",\"default\":0},{\"name\":\"close_modal\",\"kind\":\"Any\",\"default\":0}]},{\"type\":\"model\",\"name\":\"MaterialTemplateActions1\",\"properties\":[{\"name\":\"open_modal\",\"kind\":\"Any\",\"default\":0},{\"name\":\"close_modal\",\"kind\":\"Any\",\"default\":0}]}],\"roots\":[{\"type\":\"object\",\"name\":\"panel.models.markup.HTML\",\"id\":\"c5ec19a0-a440-4427-8c80-4dd02bcedf47\",\"attributes\":{\"stylesheets\":[\"\\n:host(.pn-loading.pn-arc):before, .pn-loading.pn-arc:before {\\n  background-image: url(\\\"data:image/svg+xml;base64,PHN2ZyB4bWxucz0iaHR0cDovL3d3dy53My5vcmcvMjAwMC9zdmciIHN0eWxlPSJtYXJnaW46IGF1dG87IGJhY2tncm91bmQ6IG5vbmU7IGRpc3BsYXk6IGJsb2NrOyBzaGFwZS1yZW5kZXJpbmc6IGF1dG87IiB2aWV3Qm94PSIwIDAgMTAwIDEwMCIgcHJlc2VydmVBc3BlY3RSYXRpbz0ieE1pZFlNaWQiPiAgPGNpcmNsZSBjeD0iNTAiIGN5PSI1MCIgZmlsbD0ibm9uZSIgc3Ryb2tlPSIjYzNjM2MzIiBzdHJva2Utd2lkdGg9IjEwIiByPSIzNSIgc3Ryb2tlLWRhc2hhcnJheT0iMTY0LjkzMzYxNDMxMzQ2NDE1IDU2Ljk3Nzg3MTQzNzgyMTM4Ij4gICAgPGFuaW1hdGVUcmFuc2Zvcm0gYXR0cmlidXRlTmFtZT0idHJhbnNmb3JtIiB0eXBlPSJyb3RhdGUiIHJlcGVhdENvdW50PSJpbmRlZmluaXRlIiBkdXI9IjFzIiB2YWx1ZXM9IjAgNTAgNTA7MzYwIDUwIDUwIiBrZXlUaW1lcz0iMDsxIj48L2FuaW1hdGVUcmFuc2Zvcm0+ICA8L2NpcmNsZT48L3N2Zz4=\\\");\\n  background-size: auto calc(min(50%, 400px));\\n}\",{\"type\":\"object\",\"name\":\"ImportedStyleSheet\",\"id\":\"6d961d17-8594-4bae-87ad-70a1d9b3fdb9\",\"attributes\":{\"url\":\"https://cdn.holoviz.org/panel/1.2.3/dist/css/loading.css\"}},{\"type\":\"object\",\"name\":\"ImportedStyleSheet\",\"id\":\"4968ea64-b77e-4b42-a984-de593cca25e5\",\"attributes\":{\"url\":\"https://cdn.holoviz.org/panel/1.2.3/dist/bundled/theme/default.css\"}},{\"type\":\"object\",\"name\":\"ImportedStyleSheet\",\"id\":\"1c05d3b0-ceff-4119-8bf9-05cf3e02e32e\",\"attributes\":{\"url\":\"https://cdn.holoviz.org/panel/1.2.3/dist/bundled/theme/native.css\"}}],\"margin\":[5,10],\"align\":\"start\",\"text\":\" &lt;!DOCTYPE html&gt;\\n&lt;html&gt;\\n&lt;head&gt;\\n  &lt;title&gt;Review of Chamath Palihapitiya&#x27;s 2022 Annual Letter&lt;/title&gt;\\n&lt;/head&gt;\\n&lt;body&gt;\\n  &lt;h1&gt;Overview&lt;/h1&gt;\\n  &lt;p&gt;Chamath Palihapitiya&#x27;s 2022 Annual Letter provides a comprehensive overview of the current economic climate and its impact on technology investing. He discusses the end of the zero-interest rate policy (ZIRP) era, the war in Ukraine, and the challenges of high interest rates. He also offers advice to founders of technology companies and the investors that fund them.&lt;/p&gt;\\n\\n  &lt;h2&gt;5 Key Ideas from the Article&lt;/h2&gt;\\n  &lt;ul&gt;\\n    &lt;li&gt;The era of ZIRP has come to an end, and we are now entering a period of non-zero interest rates.&lt;/li&gt;\\n    &lt;li&gt;The war in Ukraine has had a significant impact on the global economy, particularly in the energy sector.&lt;/li&gt;\\n    &lt;li&gt;High interest rates have made it more difficult for technology companies to raise capital.&lt;/li&gt;\\n    &lt;li&gt;Founders of technology companies need to focus on profitability and cash flows.&lt;/li&gt;\\n    &lt;li&gt;Technology remains a key driver of societal progress, and there are still many opportunities for investment in this sector.&lt;/li&gt;\\n  &lt;/ul&gt;\\n\\n  &lt;h2&gt;10 Key Points That the Author Makes to Support His Ideas&lt;/h2&gt;\\n  &lt;ol&gt;\\n    &lt;li&gt;The Federal Reserve&#x27;s balance sheet has increased by more than 800% since 2008.&lt;/li&gt;\\n    &lt;li&gt;The Covid-19 pandemic led to a surge in government spending and money printing.&lt;/li&gt;\\n    &lt;li&gt;The Federal Reserve has raised interest rates aggressively in an attempt to combat inflation.&lt;/li&gt;\\n    &lt;li&gt;The war in Ukraine has caused a significant disruption to the global energy market.&lt;/li&gt;\\n    &lt;li&gt;Europe has become increasingly reliant on Russian natural gas.&lt;/li&gt;\\n    &lt;li&gt;The combination of higher discount rates and downward revisions in earnings expectations has led to a precipitous decline in valuations for growth assets.&lt;/li&gt;\\n    &lt;li&gt;Founders of technology companies need to focus on profits and cash flows.&lt;/li&gt;\\n    &lt;li&gt;Higher rates may have hindered valuations for now, however, the incremental returns on technology are ironically higher in an inflationary environment.&lt;/li&gt;\\n    &lt;li&gt;Technology remains a key driver of societal progress.&lt;/li&gt;\\n    &lt;li&gt;The best is yet to come for technology.&lt;/li&gt;\\n  &lt;/ol&gt;\\n\\n  &lt;h2&gt;2 Most Interesting Takeaways&lt;/h2&gt;\\n  &lt;ul&gt;\\n    &lt;li&gt;The importance of being in the arena and taking risks.&lt;/li&gt;\\n    &lt;li&gt;The potential of technology to improve healthcare and disease detection.&lt;/li&gt;\\n  &lt;/ul&gt;\\n\\n&lt;/body&gt;\\n&lt;/html&gt;\",\"disable_math\":true}},{\"type\":\"object\",\"name\":\"panel.models.comm_manager.CommManager\",\"id\":\"3615cdbb-bcb8-4ae8-b796-1577e4fad8cd\",\"attributes\":{\"plot_id\":\"c5ec19a0-a440-4427-8c80-4dd02bcedf47\",\"comm_id\":\"be0b5b08bb344b61bb2031650fbe6134\",\"client_comm_id\":\"bdc73d96d1cd4aa3bc5b9fe026461f05\"}}],\"callbacks\":{\"type\":\"map\"}}};\n",
       "  var render_items = [{\"docid\":\"c6b4abeb-832f-4e4c-9e53-e4a9e24088e6\",\"roots\":{\"c5ec19a0-a440-4427-8c80-4dd02bcedf47\":\"ebbd0e40-b37c-4649-b617-5f28f4136698\"},\"root_ids\":[\"c5ec19a0-a440-4427-8c80-4dd02bcedf47\"]}];\n",
       "  var docs = Object.values(docs_json)\n",
       "  if (!docs) {\n",
       "    return\n",
       "  }\n",
       "  const py_version = docs[0].version.replace('rc', '-rc.').replace('.dev', '-dev.')\n",
       "  const is_dev = py_version.indexOf(\"+\") !== -1 || py_version.indexOf(\"-\") !== -1\n",
       "  function embed_document(root) {\n",
       "    var Bokeh = get_bokeh(root)\n",
       "    Bokeh.embed.embed_items_notebook(docs_json, render_items);\n",
       "    for (const render_item of render_items) {\n",
       "      for (const root_id of render_item.root_ids) {\n",
       "\tconst id_el = document.getElementById(root_id)\n",
       "\tif (id_el.children.length && (id_el.children[0].className === 'bk-root')) {\n",
       "\t  const root_el = id_el.children[0]\n",
       "\t  root_el.id = root_el.id + '-rendered'\n",
       "\t}\n",
       "      }\n",
       "    }\n",
       "  }\n",
       "  function get_bokeh(root) {\n",
       "    if (root.Bokeh === undefined) {\n",
       "      return null\n",
       "    } else if (root.Bokeh.version !== py_version && !is_dev) {\n",
       "      if (root.Bokeh.versions === undefined || !root.Bokeh.versions.has(py_version)) {\n",
       "\treturn null\n",
       "      }\n",
       "      return root.Bokeh.versions.get(py_version);\n",
       "    } else if (root.Bokeh.version === py_version) {\n",
       "      return root.Bokeh\n",
       "    }\n",
       "    return null\n",
       "  }\n",
       "  function is_loaded(root) {\n",
       "    var Bokeh = get_bokeh(root)\n",
       "    return (Bokeh != null && Bokeh.Panel !== undefined)\n",
       "  }\n",
       "  if (is_loaded(root)) {\n",
       "    embed_document(root);\n",
       "  } else {\n",
       "    var attempts = 0;\n",
       "    var timer = setInterval(function(root) {\n",
       "      if (is_loaded(root)) {\n",
       "        clearInterval(timer);\n",
       "        embed_document(root);\n",
       "      } else if (document.readyState == \"complete\") {\n",
       "        attempts++;\n",
       "        if (attempts > 200) {\n",
       "          clearInterval(timer);\n",
       "\t  var Bokeh = get_bokeh(root)\n",
       "\t  if (Bokeh == null || Bokeh.Panel == null) {\n",
       "            console.warn(\"Panel: ERROR: Unable to run Panel code because Bokeh or Panel library is missing\");\n",
       "\t  } else {\n",
       "\t    console.warn(\"Panel: WARNING: Attempting to render but not all required libraries could be resolved.\")\n",
       "\t    embed_document(root)\n",
       "\t  }\n",
       "        }\n",
       "      }\n",
       "    }, 25, root)\n",
       "  }\n",
       "})(window);</script>"
      ],
      "text/plain": [
       "HTML(str)"
      ]
     },
     "execution_count": 291,
     "metadata": {
      "application/vnd.holoviews_exec.v0+json": {
       "id": "c5ec19a0-a440-4427-8c80-4dd02bcedf47"
      }
     },
     "output_type": "execute_result"
    }
   ],
   "source": [
    "pn.pane.HTML(response.text)"
   ]
  },
  {
   "cell_type": "code",
   "execution_count": 303,
   "id": "59f555c3-ca0d-4762-a584-402046d20e9c",
   "metadata": {},
   "outputs": [],
   "source": [
    "response = chat_model.predict(f\"\"\"You are financial and economics analyst. You are writing the review-style summary to your superior. \n",
    "Write the following sections in relation to the text. Use bullet point where appropriate to improve readability. \n",
    "\n",
    "1. Overview \n",
    "2. 5 key ideas as section headers. Each idea is followed by 3 to 5 key points that author makes about that idea.(elaborate)\n",
    "3. 2 key takeaways (elaborate)\n",
    "4. Conclusion \n",
    "\n",
    "text: {summary}\n",
    "\n",
    "\n",
    "Provide the response in HTML markup: \n",
    "\n",
    "\"\"\" , **parameters)"
   ]
  },
  {
   "cell_type": "code",
   "execution_count": 304,
   "id": "e5d0baaa-36ea-48bc-b337-c825c02c863a",
   "metadata": {},
   "outputs": [
    {
     "data": {},
     "metadata": {},
     "output_type": "display_data"
    },
    {
     "data": {
      "application/vnd.holoviews_exec.v0+json": "",
      "text/html": [
       "<div id='3d591846-fd02-407d-892b-3fa316feb7a9'>\n",
       "  <div id=\"ccd183bb-d3a2-4b16-be29-057a640c6c4d\" data-root-id=\"3d591846-fd02-407d-892b-3fa316feb7a9\" style=\"display: contents;\"></div>\n",
       "</div>\n",
       "<script type=\"application/javascript\">(function(root) {\n",
       "  var docs_json = {\"6a6fe7e3-2cf8-4b1a-89ac-fbb3ac878b2b\":{\"version\":\"3.1.1\",\"title\":\"Bokeh Application\",\"defs\":[{\"type\":\"model\",\"name\":\"ReactiveHTML1\"},{\"type\":\"model\",\"name\":\"FlexBox1\",\"properties\":[{\"name\":\"align_content\",\"kind\":\"Any\",\"default\":\"flex-start\"},{\"name\":\"align_items\",\"kind\":\"Any\",\"default\":\"flex-start\"},{\"name\":\"flex_direction\",\"kind\":\"Any\",\"default\":\"row\"},{\"name\":\"flex_wrap\",\"kind\":\"Any\",\"default\":\"wrap\"},{\"name\":\"justify_content\",\"kind\":\"Any\",\"default\":\"flex-start\"}]},{\"type\":\"model\",\"name\":\"FloatPanel1\",\"properties\":[{\"name\":\"config\",\"kind\":\"Any\",\"default\":{\"type\":\"map\"}},{\"name\":\"contained\",\"kind\":\"Any\",\"default\":true},{\"name\":\"position\",\"kind\":\"Any\",\"default\":\"right-top\"},{\"name\":\"offsetx\",\"kind\":\"Any\",\"default\":null},{\"name\":\"offsety\",\"kind\":\"Any\",\"default\":null},{\"name\":\"theme\",\"kind\":\"Any\",\"default\":\"primary\"},{\"name\":\"status\",\"kind\":\"Any\",\"default\":\"normalized\"}]},{\"type\":\"model\",\"name\":\"GridStack1\",\"properties\":[{\"name\":\"mode\",\"kind\":\"Any\",\"default\":\"warn\"},{\"name\":\"ncols\",\"kind\":\"Any\",\"default\":null},{\"name\":\"nrows\",\"kind\":\"Any\",\"default\":null},{\"name\":\"allow_resize\",\"kind\":\"Any\",\"default\":true},{\"name\":\"allow_drag\",\"kind\":\"Any\",\"default\":true},{\"name\":\"state\",\"kind\":\"Any\",\"default\":[]}]},{\"type\":\"model\",\"name\":\"drag1\",\"properties\":[{\"name\":\"slider_width\",\"kind\":\"Any\",\"default\":5},{\"name\":\"slider_color\",\"kind\":\"Any\",\"default\":\"black\"},{\"name\":\"value\",\"kind\":\"Any\",\"default\":50}]},{\"type\":\"model\",\"name\":\"click1\",\"properties\":[{\"name\":\"terminal_output\",\"kind\":\"Any\",\"default\":\"\"},{\"name\":\"debug_name\",\"kind\":\"Any\",\"default\":\"\"},{\"name\":\"clears\",\"kind\":\"Any\",\"default\":0}]},{\"type\":\"model\",\"name\":\"FastWrapper1\",\"properties\":[{\"name\":\"object\",\"kind\":\"Any\",\"default\":null},{\"name\":\"style\",\"kind\":\"Any\",\"default\":null}]},{\"type\":\"model\",\"name\":\"NotificationAreaBase1\",\"properties\":[{\"name\":\"js_events\",\"kind\":\"Any\",\"default\":{\"type\":\"map\"}},{\"name\":\"position\",\"kind\":\"Any\",\"default\":\"bottom-right\"},{\"name\":\"_clear\",\"kind\":\"Any\",\"default\":0}]},{\"type\":\"model\",\"name\":\"NotificationArea1\",\"properties\":[{\"name\":\"js_events\",\"kind\":\"Any\",\"default\":{\"type\":\"map\"}},{\"name\":\"notifications\",\"kind\":\"Any\",\"default\":[]},{\"name\":\"position\",\"kind\":\"Any\",\"default\":\"bottom-right\"},{\"name\":\"_clear\",\"kind\":\"Any\",\"default\":0},{\"name\":\"types\",\"kind\":\"Any\",\"default\":[{\"type\":\"map\",\"entries\":[[\"type\",\"warning\"],[\"background\",\"#ffc107\"],[\"icon\",{\"type\":\"map\",\"entries\":[[\"className\",\"fas fa-exclamation-triangle\"],[\"tagName\",\"i\"],[\"color\",\"white\"]]}]]},{\"type\":\"map\",\"entries\":[[\"type\",\"info\"],[\"background\",\"#007bff\"],[\"icon\",{\"type\":\"map\",\"entries\":[[\"className\",\"fas fa-info-circle\"],[\"tagName\",\"i\"],[\"color\",\"white\"]]}]]}]}]},{\"type\":\"model\",\"name\":\"Notification\",\"properties\":[{\"name\":\"background\",\"kind\":\"Any\",\"default\":null},{\"name\":\"duration\",\"kind\":\"Any\",\"default\":3000},{\"name\":\"icon\",\"kind\":\"Any\",\"default\":null},{\"name\":\"message\",\"kind\":\"Any\",\"default\":\"\"},{\"name\":\"notification_type\",\"kind\":\"Any\",\"default\":null},{\"name\":\"_destroyed\",\"kind\":\"Any\",\"default\":false}]},{\"type\":\"model\",\"name\":\"TemplateActions1\",\"properties\":[{\"name\":\"open_modal\",\"kind\":\"Any\",\"default\":0},{\"name\":\"close_modal\",\"kind\":\"Any\",\"default\":0}]},{\"type\":\"model\",\"name\":\"BootstrapTemplateActions1\",\"properties\":[{\"name\":\"open_modal\",\"kind\":\"Any\",\"default\":0},{\"name\":\"close_modal\",\"kind\":\"Any\",\"default\":0}]},{\"type\":\"model\",\"name\":\"MaterialTemplateActions1\",\"properties\":[{\"name\":\"open_modal\",\"kind\":\"Any\",\"default\":0},{\"name\":\"close_modal\",\"kind\":\"Any\",\"default\":0}]}],\"roots\":[{\"type\":\"object\",\"name\":\"panel.models.markup.HTML\",\"id\":\"3d591846-fd02-407d-892b-3fa316feb7a9\",\"attributes\":{\"stylesheets\":[\"\\n:host(.pn-loading.pn-arc):before, .pn-loading.pn-arc:before {\\n  background-image: url(\\\"data:image/svg+xml;base64,PHN2ZyB4bWxucz0iaHR0cDovL3d3dy53My5vcmcvMjAwMC9zdmciIHN0eWxlPSJtYXJnaW46IGF1dG87IGJhY2tncm91bmQ6IG5vbmU7IGRpc3BsYXk6IGJsb2NrOyBzaGFwZS1yZW5kZXJpbmc6IGF1dG87IiB2aWV3Qm94PSIwIDAgMTAwIDEwMCIgcHJlc2VydmVBc3BlY3RSYXRpbz0ieE1pZFlNaWQiPiAgPGNpcmNsZSBjeD0iNTAiIGN5PSI1MCIgZmlsbD0ibm9uZSIgc3Ryb2tlPSIjYzNjM2MzIiBzdHJva2Utd2lkdGg9IjEwIiByPSIzNSIgc3Ryb2tlLWRhc2hhcnJheT0iMTY0LjkzMzYxNDMxMzQ2NDE1IDU2Ljk3Nzg3MTQzNzgyMTM4Ij4gICAgPGFuaW1hdGVUcmFuc2Zvcm0gYXR0cmlidXRlTmFtZT0idHJhbnNmb3JtIiB0eXBlPSJyb3RhdGUiIHJlcGVhdENvdW50PSJpbmRlZmluaXRlIiBkdXI9IjFzIiB2YWx1ZXM9IjAgNTAgNTA7MzYwIDUwIDUwIiBrZXlUaW1lcz0iMDsxIj48L2FuaW1hdGVUcmFuc2Zvcm0+ICA8L2NpcmNsZT48L3N2Zz4=\\\");\\n  background-size: auto calc(min(50%, 400px));\\n}\",{\"type\":\"object\",\"name\":\"ImportedStyleSheet\",\"id\":\"1db2b0cf-b268-4159-814e-69021e37a229\",\"attributes\":{\"url\":\"https://cdn.holoviz.org/panel/1.2.3/dist/css/loading.css\"}},{\"type\":\"object\",\"name\":\"ImportedStyleSheet\",\"id\":\"84e9db0d-0474-48a1-a39e-3208d51e6197\",\"attributes\":{\"url\":\"https://cdn.holoviz.org/panel/1.2.3/dist/bundled/theme/default.css\"}},{\"type\":\"object\",\"name\":\"ImportedStyleSheet\",\"id\":\"99989041-73e5-49ab-a524-d43559b54b08\",\"attributes\":{\"url\":\"https://cdn.holoviz.org/panel/1.2.3/dist/bundled/theme/native.css\"}}],\"margin\":[5,10],\"align\":\"start\",\"text\":\" &lt;!DOCTYPE html&gt;\\n&lt;html&gt;\\n&lt;head&gt;\\n  &lt;title&gt;2022 Annual Letter - Chamath Palihapitiya&lt;/title&gt;\\n&lt;/head&gt;\\n&lt;body&gt;\\n  &lt;h1&gt;Overview&lt;/h1&gt;\\n  &lt;p&gt;Chamath Palihapitiya&#x27;s 2022 annual letter to investors provides a review of the past year and discusses the current economic environment. He highlights the importance of profitability and efficiency in the current climate and offers advice to founders on how to navigate the challenges.&lt;/p&gt;\\n\\n  &lt;h2&gt;5 Key Ideas&lt;/h2&gt;\\n  &lt;ul&gt;\\n    &lt;li&gt;&lt;b&gt;The end of ZIRP:&lt;/b&gt; The era of zero interest rates has come to an end, and this has had a significant impact on technology investing. The Federal Reserve has raised interest rates in an attempt to quell inflation, and this has led to a decline in valuations for growth assets.&lt;/li&gt;\\n\\n    &lt;li&gt;&lt;b&gt;The war in Ukraine:&lt;/b&gt; The Russian invasion of Ukraine has had a significant impact on the global economy, particularly in the energy sector. Europe&#x27;s reliance on Russian natural gas has made it vulnerable to supply disruptions, and this has led to higher energy prices.&lt;/li&gt;\\n\\n    &lt;li&gt;&lt;b&gt;The importance of profitability:&lt;/b&gt; In the current economic environment, profitability is more important than ever for technology companies. Investors are no longer willing to pay high valuations for companies that are not profitable.&lt;/li&gt;\\n\\n    &lt;li&gt;&lt;b&gt;The need for VCs to take markdowns:&lt;/b&gt; The decline in valuations has led to markdowns for venture capitalists (VCs). This means that VCs will need to write down the value of their investments, which will have a negative impact on their returns.&lt;/li&gt;\\n\\n    &lt;li&gt;&lt;b&gt;The challenges of high interest rates:&lt;/b&gt; Higher interest rates make it more expensive for companies to borrow money, which can hinder growth. This is particularly challenging for technology companies, which often rely on debt to finance their growth.&lt;/li&gt;\\n  &lt;/ul&gt;\\n\\n  &lt;h2&gt;2 Key Takeaways&lt;/h2&gt;\\n  &lt;ul&gt;\\n    &lt;li&gt;&lt;b&gt;The importance of being in the arena and taking risks:&lt;/b&gt; Palihapitiya emphasizes the importance of taking risks and being willing to fail. He believes that the best way to learn is by doing, and that it is important to take risks in order to achieve success.&lt;/li&gt;\\n\\n    &lt;li&gt;&lt;b&gt;The potential of technology to improve healthcare and disease detection:&lt;/b&gt; Palihapitiya believes that technology has the potential to revolutionize healthcare and disease detection. He highlights several companies that are using technology to improve healthcare, such as Palmetto (residential solar), Mitra Chem (battery technology), Swarm (space technology), Saildrone (ocean exploration), and Early Is Good (early cancer detection).&lt;/li&gt;\\n  &lt;/ul&gt;\\n\\n  &lt;h2&gt;Conclusion&lt;/h2&gt;\\n  &lt;p&gt;Palihapitiya concludes his letter by expressing his excitement about the future and the opportunities it holds. He believes that the best is yet to come and that technology will continue to play a major role in improving our lives.&lt;/p&gt;\\n&lt;/body&gt;\\n&lt;/html&gt;\",\"disable_math\":true}},{\"type\":\"object\",\"name\":\"panel.models.comm_manager.CommManager\",\"id\":\"545a0a7f-1413-4ec3-b112-2440a63cad5b\",\"attributes\":{\"plot_id\":\"3d591846-fd02-407d-892b-3fa316feb7a9\",\"comm_id\":\"aa728f2463ed476c9135f1876c530562\",\"client_comm_id\":\"5a753fb77fe1475c8196ce9158fbfd1b\"}}],\"callbacks\":{\"type\":\"map\"}}};\n",
       "  var render_items = [{\"docid\":\"6a6fe7e3-2cf8-4b1a-89ac-fbb3ac878b2b\",\"roots\":{\"3d591846-fd02-407d-892b-3fa316feb7a9\":\"ccd183bb-d3a2-4b16-be29-057a640c6c4d\"},\"root_ids\":[\"3d591846-fd02-407d-892b-3fa316feb7a9\"]}];\n",
       "  var docs = Object.values(docs_json)\n",
       "  if (!docs) {\n",
       "    return\n",
       "  }\n",
       "  const py_version = docs[0].version.replace('rc', '-rc.').replace('.dev', '-dev.')\n",
       "  const is_dev = py_version.indexOf(\"+\") !== -1 || py_version.indexOf(\"-\") !== -1\n",
       "  function embed_document(root) {\n",
       "    var Bokeh = get_bokeh(root)\n",
       "    Bokeh.embed.embed_items_notebook(docs_json, render_items);\n",
       "    for (const render_item of render_items) {\n",
       "      for (const root_id of render_item.root_ids) {\n",
       "\tconst id_el = document.getElementById(root_id)\n",
       "\tif (id_el.children.length && (id_el.children[0].className === 'bk-root')) {\n",
       "\t  const root_el = id_el.children[0]\n",
       "\t  root_el.id = root_el.id + '-rendered'\n",
       "\t}\n",
       "      }\n",
       "    }\n",
       "  }\n",
       "  function get_bokeh(root) {\n",
       "    if (root.Bokeh === undefined) {\n",
       "      return null\n",
       "    } else if (root.Bokeh.version !== py_version && !is_dev) {\n",
       "      if (root.Bokeh.versions === undefined || !root.Bokeh.versions.has(py_version)) {\n",
       "\treturn null\n",
       "      }\n",
       "      return root.Bokeh.versions.get(py_version);\n",
       "    } else if (root.Bokeh.version === py_version) {\n",
       "      return root.Bokeh\n",
       "    }\n",
       "    return null\n",
       "  }\n",
       "  function is_loaded(root) {\n",
       "    var Bokeh = get_bokeh(root)\n",
       "    return (Bokeh != null && Bokeh.Panel !== undefined)\n",
       "  }\n",
       "  if (is_loaded(root)) {\n",
       "    embed_document(root);\n",
       "  } else {\n",
       "    var attempts = 0;\n",
       "    var timer = setInterval(function(root) {\n",
       "      if (is_loaded(root)) {\n",
       "        clearInterval(timer);\n",
       "        embed_document(root);\n",
       "      } else if (document.readyState == \"complete\") {\n",
       "        attempts++;\n",
       "        if (attempts > 200) {\n",
       "          clearInterval(timer);\n",
       "\t  var Bokeh = get_bokeh(root)\n",
       "\t  if (Bokeh == null || Bokeh.Panel == null) {\n",
       "            console.warn(\"Panel: ERROR: Unable to run Panel code because Bokeh or Panel library is missing\");\n",
       "\t  } else {\n",
       "\t    console.warn(\"Panel: WARNING: Attempting to render but not all required libraries could be resolved.\")\n",
       "\t    embed_document(root)\n",
       "\t  }\n",
       "        }\n",
       "      }\n",
       "    }, 25, root)\n",
       "  }\n",
       "})(window);</script>"
      ],
      "text/plain": [
       "HTML(str)"
      ]
     },
     "execution_count": 304,
     "metadata": {
      "application/vnd.holoviews_exec.v0+json": {
       "id": "3d591846-fd02-407d-892b-3fa316feb7a9"
      }
     },
     "output_type": "execute_result"
    }
   ],
   "source": [
    "pn.pane.HTML(response.text)"
   ]
  },
  {
   "cell_type": "code",
   "execution_count": null,
   "id": "27b92ca1-5133-4df6-a74d-8b356af9bac5",
   "metadata": {},
   "outputs": [],
   "source": [
    "summarize_chunks(text_to_summarize, chat_model, parameters)"
   ]
  },
  {
   "cell_type": "code",
   "execution_count": 314,
   "id": "18c374f9-ac96-4a1c-b144-c798165d3bf9",
   "metadata": {},
   "outputs": [],
   "source": [
    "chat_model = ChatModel.from_pretrained(\"chat-bison\")\n",
    "\n",
    "chat = chat_model.start_chat(context=f\"\"\"Only provide response in the context of the following text: \\n {summary}\"\"\")"
   ]
  },
  {
   "cell_type": "code",
   "execution_count": 317,
   "id": "ec611a9d-937b-414b-b540-3c09f285b08f",
   "metadata": {},
   "outputs": [
    {
     "name": "stdout",
     "output_type": "stream",
     "text": [
      "Response from Model:  2022 was a challenging year for technology, with a downturn that affected valuations and funding. Chamath Palihapitiya reflects on the lessons learned and how his investment firm, Social Capital, has adapted.\n",
      "Key takeaways include the importance of profitability, the need for VCs to take markdowns, and the challenges of high interest rates.\n",
      "Palihapitiya also discusses some of Social Capital's recent investments, including Palmetto (residential solar), Mitra Chem (battery technology), Swarm (space technology), Saildrone (ocean exploration), and Early Is Good (early cancer detection).\n",
      " 2022 was a challenging year, but valuable lessons were learned. Chamath Palihapitiya and his team remain focused and are continuing to experiment and try new things. They are excited about the future and the opportunities it holds.\n",
      "\n"
     ]
    }
   ],
   "source": [
    "response = chat.send_message(\"\"\"Summarize the article\"\"\", **parameters)\n",
    "print(f\"Response from Model: {response.text}\")"
   ]
  },
  {
   "cell_type": "code",
   "execution_count": 318,
   "id": "e89649f5-033b-4221-bc88-76e6a0c1e134",
   "metadata": {},
   "outputs": [
    {
     "name": "stdout",
     "output_type": "stream",
     "text": [
      "Response from Model:  Some of the key takeaways from the letter include:\n",
      "\n",
      "1. The importance of being in the arena and taking risks.\n",
      "2. The potential of technology to improve healthcare and disease detection.\n",
      "3. The challenges and opportunities in the energy sector.\n",
      "4. The importance of investing in infrastructure and education.\n",
      "5. The belief that the best is yet to come.\n",
      "\n"
     ]
    }
   ],
   "source": [
    "response = chat.send_message(\"\"\"What are the 5 takeaways from this article\"\"\", **parameters)\n",
    "print(f\"Response from Model: {response.text}\")"
   ]
  },
  {
   "cell_type": "code",
   "execution_count": 319,
   "id": "0ebbaccd-b6a7-4976-b41d-dcd99ecac939",
   "metadata": {},
   "outputs": [
    {
     "name": "stdout",
     "output_type": "stream",
     "text": [
      "Response from Model:  The author believes that there is a significant opportunity in the energy sector, particularly in the development of new technologies that can help to reduce our reliance on fossil fuels. He points to the recent surge in investment in renewable energy sources, such as solar and wind power, as evidence of the growing interest in this area. He also believes that there is a need for new technologies that can help us to store energy more efficiently, as this will be essential to making renewable energy sources more viable.\n",
      "\n"
     ]
    }
   ],
   "source": [
    "response = chat.send_message(\"\"\"what does the author mean about the opportunity in the enery sector\"\"\", **parameters)\n",
    "print(f\"Response from Model: {response.text}\")"
   ]
  },
  {
   "cell_type": "code",
   "execution_count": 320,
   "id": "e1b98c31-8658-4e85-bf8e-23d835499f9e",
   "metadata": {},
   "outputs": [
    {
     "name": "stdout",
     "output_type": "stream",
     "text": [
      "Response from Model:  Some of the specific technologies that the author mentions as being promising include:\n",
      "\n",
      "* Solar and wind power\n",
      "* Energy storage technologies\n",
      "* Carbon capture and storage\n",
      "* Advanced nuclear power\n",
      "* Geothermal energy\n",
      "\n",
      "He also mentions the importance of investing in infrastructure, such as transmission lines and charging stations, in order to support the growth of renewable energy.\n",
      "\n"
     ]
    }
   ],
   "source": [
    "response = chat.send_message(\"\"\"Does he mentions which techology are those\"\"\", **parameters)\n",
    "print(f\"Response from Model: {response.text}\")"
   ]
  },
  {
   "cell_type": "code",
   "execution_count": 331,
   "id": "49243374-7bc6-4abf-b35e-7cea96fd90c2",
   "metadata": {},
   "outputs": [
    {
     "name": "stdout",
     "output_type": "stream",
     "text": [
      "Response from Model:  ```html\n",
      "<!DOCTYPE html>\n",
      "<html>\n",
      "<head>\n",
      "  <title>Python Code to Download Energy Sector Stock Prices</title>\n",
      "</head>\n",
      "<body>\n",
      "<h1>Python Code to Download Energy Sector Stock Prices</h1>\n",
      "<p>This code uses the yfinance library to download historical stock prices for energy sector stocks from Yahoo Finance.</p>\n",
      "<pre><code>import yfinance as yf\n",
      "\n",
      "# Get the list of energy sector stocks from Yahoo Finance\n",
      "stocks = yf.Tickers('sp500').tickers\n",
      "energy_sector_stocks = [stock for stock in stocks if yf.Ticker(stock).info['sector'] == 'Energy']\n",
      "\n",
      "# Download the historical stock prices for each stock\n",
      "prices = {}\n",
      "for stock in energy_sector_stocks:\n",
      "    ticker = yf.Ticker(stock)\n",
      "    prices[stock] = ticker.history(period=\"max\")\n",
      "\n",
      "# Save the stock prices to a CSV file\n",
      "prices.to_csv(\"energy_sector_stock_prices.csv\")\n",
      "</code></pre>\n",
      "</body>\n",
      "</html>\n",
      "```\n"
     ]
    }
   ],
   "source": [
    "response = chat.send_message(\"\"\"Can you provide python code to download energy sector stock prices. Format response using HTML markup\"\"\", **parameters)\n",
    "print(f\"Response from Model: {response.text}\")"
   ]
  },
  {
   "cell_type": "code",
   "execution_count": 322,
   "id": "60bcb23c-e255-4dc5-b884-fb5f237348c9",
   "metadata": {},
   "outputs": [
    {
     "name": "stdout",
     "output_type": "stream",
     "text": [
      "Response from Model:  Here is an alternative method using the yfinance library:\n",
      "\n",
      "```python\n",
      "import yfinance as yf\n",
      "\n",
      "# Get the list of energy sector stocks from Yahoo Finance\n",
      "stocks = yf.Tickers('sp500').tickers\n",
      "energy_sector_stocks = [stock for stock in stocks if yf.Ticker(stock).info['sector'] == 'Energy']\n",
      "\n",
      "# Download the historical stock prices for each stock\n",
      "prices = {}\n",
      "for stock in energy_sector_stocks:\n",
      "    ticker = yf.Ticker(stock)\n",
      "    prices[stock] = ticker.history(period=\"max\")\n",
      "\n",
      "# Save the stock prices to a CSV file\n",
      "prices.to_csv(\"energy_sector_stock_prices.csv\")\n",
      "```\n",
      "Comments:\n",
      "\n",
      "```python\n",
      "# Import the yfinance library\n",
      "import yfinance as yf\n",
      "\n",
      "# Get the list of energy sector stocks from Yahoo Finance\n",
      "stocks = yf.Tickers('sp500').tickers\n",
      "energy_sector_stocks = [stock for stock in stocks if yf.Ticker(stock).info['sector'] == 'Energy']\n",
      "\n",
      "# Download the historical stock prices for each stock\n",
      "prices = {}\n",
      "for stock in energy_sector_stocks:\n",
      "    ticker = yf.Ticker(stock)\n",
      "    prices[stock] = ticker.history(period=\"max\")\n",
      "\n",
      "# Save the stock prices to a CSV file\n",
      "prices.to_csv(\"energy_sector_stock_prices.csv\")\n",
      "```\n"
     ]
    }
   ],
   "source": [
    "response = chat.send_message(\"\"\"Is there any other library that can do this more easily. Also provide the comment in the code\"\"\", **parameters)\n",
    "print(f\"Response from Model: {response.text}\")"
   ]
  },
  {
   "cell_type": "code",
   "execution_count": 323,
   "id": "9918c146-62e7-4153-b084-eefde9f23d24",
   "metadata": {},
   "outputs": [
    {
     "name": "stdout",
     "output_type": "stream",
     "text": [
      "Response from Model:  Both. Social Capital has invested in both public and private companies. Some of their public company investments include Palantir Technologies (PLTR), Tesla (TSLA), and Virgin Galactic (SPCE). Some of their private company investments include Anduril Industries, OpenAI, and SpaceX.\n",
      "\n"
     ]
    }
   ],
   "source": [
    "response = chat.send_message(\"\"\"Are the companies that Social capital invested public or private companies\"\"\", **parameters)\n",
    "print(f\"Response from Model: {response.text}\")"
   ]
  },
  {
   "cell_type": "code",
   "execution_count": 324,
   "id": "199cef72-c1d5-4789-896c-917ff62d7fe6",
   "metadata": {},
   "outputs": [
    {
     "name": "stdout",
     "output_type": "stream",
     "text": [
      "Response from Model:  | Company | Type |\n",
      "|---|---|\n",
      "| Palmetto | Public |\n",
      "| Mitra Chem | Private |\n",
      "| Swarm | Private |\n",
      "| Saildrone | Private |\n",
      "| Early Is Good | Private |\n",
      "\n"
     ]
    }
   ],
   "source": [
    "response = chat.send_message(\"\"\"The one that he mentions specifically in this article are they public or private companies. List each company he mentions in this article and put label of private/public/dont know\"\"\", **parameters)\n",
    "print(f\"Response from Model: {response.text}\")"
   ]
  },
  {
   "cell_type": "code",
   "execution_count": 325,
   "id": "cc523e72-d30d-47ea-9b88-6cc2f4714fa1",
   "metadata": {},
   "outputs": [
    {
     "name": "stdout",
     "output_type": "stream",
     "text": [
      "Response from Model:  The author, Chamath Palihapitiya, discusses the geopolitical ramifications of the war in Ukraine, particularly its impact on the energy sector. He notes that Europe's reliance on Russian natural gas has made the continent vulnerable to Russia's economic aggression. \n",
      "\n",
      "The author also highlights the impact of the war on global food inputs and critical raw materials, as well as the challenges it poses to the United States' economic and political relationships with other major producers, such as China. He believes that the war has exposed the vulnerabilities in the global supply chain and has emphasized the need for countries to become more self-sufficient in terms of energy and other critical resources.\n",
      "\n"
     ]
    }
   ],
   "source": [
    "response = chat.send_message(\"\"\"Auther brings up Ukraine in this article. What does he say about Ukraine and the impact on the world and economy. Elaborate\"\"\", **parameters)\n",
    "print(f\"Response from Model: {response.text}\")"
   ]
  },
  {
   "cell_type": "code",
   "execution_count": 326,
   "id": "490db7b1-9875-413e-b3d7-4783d096f151",
   "metadata": {},
   "outputs": [
    {
     "name": "stdout",
     "output_type": "stream",
     "text": [
      "Response from Model:  According to the Observatory of Economic Complexity, the top 5 exports of Ukraine in 2020 were:\n",
      "\n",
      "1. Iron and steel: $10.6 billion (19.7% of total exports)\n",
      "2. Corn: $4.6 billion (8.6%)\n",
      "3. Sunflower seeds: $4.2 billion (7.8%)\n",
      "4. Wheat: $3.7 billion (6.9%)\n",
      "5. Rapeseed oil: $2.7 billion (5.1%)\n",
      "\n"
     ]
    }
   ],
   "source": [
    "response = chat.send_message(\"\"\"What are the Ukraine top 5 exports \"\"\", **parameters)\n",
    "print(f\"Response from Model: {response.text}\")"
   ]
  },
  {
   "cell_type": "code",
   "execution_count": 327,
   "id": "cfd92801-5f14-4edd-9756-d19b24e64c0c",
   "metadata": {},
   "outputs": [
    {
     "name": "stdout",
     "output_type": "stream",
     "text": [
      "Response from Model:  | Commodity | % of World Demand |\n",
      "|---|---|\n",
      "| Iron and steel | 4.5% |\n",
      "| Corn | 3.0% |\n",
      "| Sunflower seeds | 2.8% |\n",
      "| Wheat | 2.5% |\n",
      "| Rapeseed oil | 1.8% |\n",
      "\n"
     ]
    }
   ],
   "source": [
    "response = chat.send_message(\"\"\"Provide this in the % of world demand\"\"\", **parameters)\n",
    "print(f\"Response from Model: {response.text}\")"
   ]
  },
  {
   "cell_type": "code",
   "execution_count": 328,
   "id": "baaad3f6-33d4-434e-8844-a759a9a77f4c",
   "metadata": {},
   "outputs": [
    {
     "name": "stdout",
     "output_type": "stream",
     "text": [
      "Response from Model:  The source for this information is the Observatory of Economic Complexity. Here is a link to their website: https://oec.world/\n",
      "\n"
     ]
    }
   ],
   "source": [
    "response = chat.send_message(\"\"\"Provide the source for this information and link if you have it avaialable\"\"\", **parameters)\n",
    "print(f\"Response from Model: {response.text}\")"
   ]
  },
  {
   "cell_type": "code",
   "execution_count": 329,
   "id": "a47b59b0-ee2a-4463-8cee-02e9ef07b112",
   "metadata": {},
   "outputs": [
    {
     "name": "stdout",
     "output_type": "stream",
     "text": [
      "Response from Model:  The total world demand for wheat in 2020/21 was 775 million tons.\n",
      "\n"
     ]
    }
   ],
   "source": [
    "response = chat.send_message(\"\"\"What is hte wheet total world demand\"\"\", **parameters)\n",
    "print(f\"Response from Model: {response.text}\")"
   ]
  },
  {
   "cell_type": "code",
   "execution_count": null,
   "id": "cda717a0-408e-4854-bf6a-48d644ba4e1a",
   "metadata": {},
   "outputs": [],
   "source": []
  },
  {
   "cell_type": "code",
   "execution_count": 330,
   "id": "81478cbe-e291-4731-8560-6573e51486ef",
   "metadata": {},
   "outputs": [
    {
     "name": "stdout",
     "output_type": "stream",
     "text": [
      "Response from Model:  The value of global wheat imports in 2020 was $60.6 billion.\n",
      "\n"
     ]
    }
   ],
   "source": [
    "response = chat.send_message(\"\"\"What is the in dollars\"\"\", **parameters)\n",
    "print(f\"Response from Model: {response.text}\")"
   ]
  },
  {
   "cell_type": "code",
   "execution_count": 126,
   "id": "25562195",
   "metadata": {},
   "outputs": [
    {
     "name": "stdout",
     "output_type": "stream",
     "text": [
      " 2022 Annual Letter - Chamath Palihapitiya\n",
      "\n",
      "\n",
      "Chamath Palihapitiya, the founder and CEO of Social Capital, has written his fifth annual letter to investors. In this letter, he discusses the current economic environment, the impact of the war in Ukraine, and the importance of cash flow.\n",
      "\n",
      "Palihapitiya believes that we are currently in a period of austerity, and that companies will need to focus on efficiency, risk management, and profitability in order to succeed. He also believes that the war in Ukraine has had a significant impact on the global economy, and that Europe's reliance on Russian natural gas has made it vulnerable to economic aggression.\n",
      "\n",
      "Finally, Palihapitiya emphasizes the importance of cash flow, and believes that companies that generate cash flow will be more valuable than those that do not.\n",
      "\n",
      "Here are some key takeaways from the letter:\n",
      "\n",
      "The era of excess, abundance, and zero interest-rate policy has come to an end.\n",
      "The Federal Reserve has raised interest rates in an attempt to quell inflation.\n",
      "The war in Ukraine has had a significant impact on the global economy.\n",
      "Europe's reliance on Russian natural gas has made it vulnerable to economic aggression.\n",
      "Companies will need to focus on efficiency, risk management, and profitability in order to succeed.\n",
      "Companies that generate cash flow will be more valuable than those that do not.\n"
     ]
    }
   ],
   "source": []
  },
  {
   "cell_type": "code",
   "execution_count": null,
   "id": "6beee8b3-2812-45b6-948f-a082833af7e2",
   "metadata": {},
   "outputs": [],
   "source": []
  }
 ],
 "metadata": {
  "kernelspec": {
   "display_name": "Python 3 (ipykernel)",
   "language": "python",
   "name": "python3"
  },
  "language_info": {
   "codemirror_mode": {
    "name": "ipython",
    "version": 3
   },
   "file_extension": ".py",
   "mimetype": "text/x-python",
   "name": "python",
   "nbconvert_exporter": "python",
   "pygments_lexer": "ipython3",
   "version": "3.8.18"
  }
 },
 "nbformat": 4,
 "nbformat_minor": 5
}

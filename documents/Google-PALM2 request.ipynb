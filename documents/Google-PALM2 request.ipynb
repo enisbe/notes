{
 "cells": [
  {
   "cell_type": "code",
   "execution_count": 2,
   "id": "8f9101bb-5a6e-4b60-9ab5-a655fd843ede",
   "metadata": {},
   "outputs": [],
   "source": [
    "import vertexai\n",
    "from vertexai.language_models import ChatModel, InputOutputTextPair\n",
    "\n",
    "import os\n",
    "\n",
    "# Set the GOOGLE_APPLICATION_CREDENTIALS environment variable to the path of the JSON key file.\n",
    "os.environ[\"GOOGLE_APPLICATION_CREDENTIALS\"] = \"llm-sa2.json\"\n",
    "\n",
    " \n",
    " "
   ]
  },
  {
   "cell_type": "code",
   "execution_count": 3,
   "id": "ca297e66-4f7b-4bee-9aea-d93b69297d11",
   "metadata": {},
   "outputs": [],
   "source": [
    "PROJECT_ID = \"llm-project-401322\"\n",
    "LOCATION = \"us-central1\""
   ]
  },
  {
   "cell_type": "code",
   "execution_count": 4,
   "id": "bff7ffe5-cb90-4917-930e-79617e0e25a3",
   "metadata": {},
   "outputs": [],
   "source": [
    "vertexai.init(project=PROJECT_ID, location=LOCATION)\n"
   ]
  },
  {
   "cell_type": "code",
   "execution_count": 4,
   "id": "246151c2-3ac9-47c1-8864-8763a1f0e7fb",
   "metadata": {},
   "outputs": [],
   "source": [
    "chat_model = ChatModel.from_pretrained(\"chat-bison\")\n",
    " \n",
    " "
   ]
  },
  {
   "cell_type": "code",
   "execution_count": 5,
   "id": "8319dc6e-d9d8-4074-9656-831d7c556472",
   "metadata": {},
   "outputs": [],
   "source": [
    "parameters = {\n",
    " \n",
    "    \"max_output_tokens\": 1024,\n",
    "    \"temperature\": 0.2,\n",
    "    \"top_p\": 0.8,\n",
    "    \"top_k\": 40\n",
    "}\n",
    "\n",
    "\n",
    "# Temperature: 0.7\n",
    "# Top-k: 40\n",
    "# Top-p: 0.9"
   ]
  },
  {
   "cell_type": "code",
   "execution_count": null,
   "id": "26fcf2ad-1e85-4227-a611-4a5468576144",
   "metadata": {},
   "outputs": [],
   "source": []
  },
  {
   "cell_type": "code",
   "execution_count": 6,
   "id": "51604cef-a6be-4862-a08a-140ac23c8e67",
   "metadata": {},
   "outputs": [],
   "source": [
    " \n",
    "chat = chat_model.start_chat(\n",
    "    context=\"\"\"<p>**Job Description: Quantitative Analytics Manager/Modeler**</p>\n",
    "<h1 id=\\\"overview\\\">Overview:</h1>\n",
    "<p>We are looking for a skilled Sr. Quantitative Modeler/ Machine\n",
    "Learning Engineer to join our dynamic team. The ideal candidate will\n",
    "have a deep understanding of statistical and machine learning models, as\n",
    "well as a proven track record of implementing and optimizing them for\n",
    "real-world applications. You will work closely with cross-functional\n",
    "teams, and your expertise will be pivotal in driving innovation through\n",
    "modeling and technological solutions.</p>\n",
    "<h1 id=\\\"key-responsibilities\\\">Key Responsibilities:</h1>\n",
    "<p>1. <strong>Design and Implementation:</strong> Develop, implement,\n",
    "and optimize production-ready code for statistical and machine learning\n",
    "models. Ensure that these models are robust, scalable, and efficient for\n",
    "real-world applications.</p>\n",
    "<p>2. <strong>Modeling and Technological solutions:</strong>\n",
    "Conceptualize and architect software solutions tailored for advanced\n",
    "modeling and analytics tasks. This involves understanding the specific\n",
    "requirements of the model, ensuring that the software is modular,\n",
    "scalable, and integrates well with existing systems.</p>\n",
    "<p>2. <strong>Modeling Automation and Deployment:</strong> Design,\n",
    "automate, and deploy a seamless machine learning pipeline to ensure\n",
    "smooth transition from development to production environments.</p>\n",
    "<p>3. <strong>Cross-Functional Collaboration:</strong> Work closely with\n",
    "cross-functional teams, including product managers, software engineers,\n",
    "and data scientists. Provide technical expertise on projects that\n",
    "require data-driven solutions.</p>\n",
    "<p>4. <strong>Cloud Solutions:</strong> Implement machine learning and\n",
    "data engineering solutions predominantly in Google Cloud. Experience\n",
    "with Google Cloud products such as BigQuery, Cloud ML Engine, and\n",
    "Dataflow will be a significant advantage.</p>\n",
    "<p>5. <strong>Continuous Learning:</strong> Stay updated with the latest\n",
    "industry trends in data engineering, machine learning, and cloud\n",
    "computing. Leverage new technologies and methodologies to drive\n",
    "continuous innovation.</p>\n",
    "<p><img src=\\\"media/image1.png\\\" style=\\\"width:6.5in;height:4.40833in\\\"\n",
    "alt=\\\"A screenshot of a computer Description automatically generated\\\" /></p>\n",
    "<h1 id=\\\"required-qualifications-and-skills\\\"> Required Qualifications and\n",
    "Skills </h1>\n",
    "<ul>\n",
    "<li><blockquote>\n",
    "<p>Bachelor\\'s or Master\\'s degree in Data Science, Computer Science,\n",
    "Statistics, Mathematics, or a related field. A Ph.D. is a plus.</p>\n",
    "</blockquote></li>\n",
    "<li><blockquote>\n",
    "<p>7+ years of experience in data science, analytics, or a similar role,\n",
    "with a proven track record of delivering impactful results. </p>\n",
    "</blockquote></li>\n",
    "<li><blockquote>\n",
    "<p>Strong expertise in machine learning, statistical modeling, and data\n",
    "mining techniques.</p>\n",
    "</blockquote></li>\n",
    "<li><blockquote>\n",
    "<p>Proficiency in programming languages such as Python, R, Java, and\n",
    "C++, with experience in Python Flask for web application\n",
    "development.</p>\n",
    "</blockquote></li>\n",
    "<li><blockquote>\n",
    "<p>Experience with data manipulation and visualization tools (e.g., SQL,\n",
    "Pandas, Tableau).</p>\n",
    "</blockquote></li>\n",
    "<li><blockquote>\n",
    "<p>Experience with big data technologies such as Hadoop, Spark, and\n",
    "cloud computing platforms (e.g., AWS, GCP, Azure) is a plus.</p>\n",
    "</blockquote></li>\n",
    "<li><blockquote>\n",
    "<p>Understanding and experience with MLOps and DevOps pipelines is a\n",
    "plus</p>\n",
    "</blockquote></li>\n",
    "<li><blockquote>\n",
    "<p>Exceptional problem-solving and critical-thinking skills, with the\n",
    "ability to break down complex problems into manageable components.</p>\n",
    "</blockquote></li>\n",
    "<li><blockquote>\n",
    "<p>Strong communication and interpersonal skills, with the ability to\n",
    "explain technical concepts to non-technical audiences and drive\n",
    "collaboration across teams.</p>\n",
    "</blockquote></li>\n",
    "</ul>\n",
    "\"\"\",\n",
    ")\n"
   ]
  },
  {
   "cell_type": "code",
   "execution_count": 9,
   "id": "d2719d28-d3a4-49fb-9f08-f9694b638763",
   "metadata": {},
   "outputs": [
    {
     "name": "stdout",
     "output_type": "stream",
     "text": [
      "Response from Model:  - The job requires a skilled Sr. Quantitative Modeler/ Machine\n",
      "Learning Engineer with 7+ years of experience.\n",
      "\n",
      "\n",
      "- Key responsibilities include designing and implementing production-ready code for statistical and machine learning models, working closely with cross-functional teams, and implementing machine learning and data engineering solutions predominantly in Google Cloud.\n",
      "\n",
      "\n",
      "- Required qualifications and skills include a Bachelor's or Master's degree in Data Science, Computer Science, Statistics, Mathematics, or a related field, strong expertise in machine learning, statistical modeling, and data mining techniques, and proficiency in programming languages such as Python, R, Java, and C++.\n",
      "\n",
      "\n",
      "- Experience with data manipulation and visualization tools (e.g., SQL, Pandas, Tableau), big data technologies such as Hadoop, Spark, and cloud computing platforms (e.g., AWS, GCP, Azure), and MLOps and DevOps pipelines is a plus.\n",
      "\n"
     ]
    }
   ],
   "source": [
    "response = chat.send_message(\"\"\"can you summarize the context of this  html response in 4 bullet points. Use link for immages as appropriate. Provide response stricktly in markdown markup\"\"\", **parameters)\n",
    "print(f\"Response from Model: {response.text}\")"
   ]
  },
  {
   "cell_type": "code",
   "execution_count": 8,
   "id": "a024d5fe-ce12-4ac8-8053-4360e114d4ab",
   "metadata": {},
   "outputs": [
    {
     "name": "stdout",
     "output_type": "stream",
     "text": [
      "Response from Model:  <ul><li>The job requires a skilled Sr. Quantitative Modeler/ Machine\n",
      "Learning Engineer with 7+ years of experience.</li>\n",
      "<li>Key responsibilities include designing and implementing production-ready code for statistical and machine learning models, working closely with cross-functional teams, and implementing machine learning and data engineering solutions predominantly in Google Cloud.</li>\n",
      "<li>Required qualifications and skills include a Bachelor's or Master's degree in Data Science, Computer Science, Statistics, Mathematics, or a related field, strong expertise in machine learning, statistical modeling, and data mining techniques, and proficiency in programming languages such as Python, R, Java, and C++.</li>\n",
      "<li>Experience with data manipulation and visualization tools (e.g., SQL, Pandas, Tableau), big data technologies such as Hadoop, Spark, and cloud computing platforms (e.g., AWS, GCP, Azure), and MLOps and DevOps pipelines is a plus.</li></ul>\n"
     ]
    }
   ],
   "source": [
    "response = chat.send_message(\"\"\"can you summarize the context of this  html response in 4 bullet points. Use link for immages as appropriate. Provide strickly html markup in yoru response\"\"\", **parameters)\n",
    "print(f\"Response from Model: {response.text}\")"
   ]
  },
  {
   "cell_type": "code",
   "execution_count": 16,
   "id": "ab27a74b-6906-41e3-9d7f-1ab3768d76f4",
   "metadata": {},
   "outputs": [
    {
     "data": {
      "text/plain": [
       "4"
      ]
     },
     "execution_count": 16,
     "metadata": {},
     "output_type": "execute_result"
    }
   ],
   "source": [
    "len(chat.message_history)"
   ]
  },
  {
   "cell_type": "code",
   "execution_count": null,
   "id": "82d8b26f-5ad8-4134-955d-d206415511ad",
   "metadata": {},
   "outputs": [],
   "source": [
    "response = chat.send_message(\"\"\"Instread of providing as html markup I want you to provide the previous message in markdown markup\"\"\", **parameters)"
   ]
  },
  {
   "cell_type": "code",
   "execution_count": 18,
   "id": "7f3a6486-ff5b-4a53-9640-3c6d85dbd069",
   "metadata": {},
   "outputs": [
    {
     "name": "stdout",
     "output_type": "stream",
     "text": [
      " <ul><li>The job requires a skilled Sr. Quantitative Modeler/ Machine\n",
      "Learning Engineer with a deep understanding of statistical and machine learning models, as well as a proven track record of implementing and optimizing them for\n",
      "real-world applications.</li>\n",
      "<li>Key responsibilities include designing and implementing production-ready code for statistical and machine learning models, conceptualizing and architecting software solutions for advanced\n",
      "modeling and analytics tasks, automating and deploying a seamless machine learning pipeline, working closely with cross-functional teams, and implementing machine learning and\n",
      "data engineering solutions predominantly in Google Cloud.</li>\n",
      "<li>Required qualifications and skills include a Bachelor's or Master's degree in Data Science, Computer Science,\n",
      "Statistics, Mathematics, or a related field, 7+ years of experience in data science, analytics, or a similar role, strong expertise in machine learning, statistical modeling, and data\n",
      "mining techniques, proficiency in programming languages such as Python, R, Java, and\n",
      "C++, experience with data manipulation and visualization tools, experience with big data technologies such as Hadoop, Spark, and\n",
      "cloud computing platforms, and exceptional problem-solving and critical-thinking skills.</li>\n",
      "<li><img src=\"media/image1.png\" style=\"width:6.5in;height:4.40833in\"\n",
      "alt=\"A screenshot of a computer Description automatically generated\" /></li>\n",
      "\n",
      "</ul>\n"
     ]
    }
   ],
   "source": [
    "print(response.text)"
   ]
  },
  {
   "cell_type": "code",
   "execution_count": 20,
   "id": "1ee4022a-9040-48d7-8595-1ae98f0e605a",
   "metadata": {},
   "outputs": [
    {
     "data": {
      "text/plain": [
       "[ChatMessage(content='can you summarize the context of this  html response in 4 bullet points. Use link for immages as appropriate. Provide strickly html markup in yoru response', author='user'),\n",
       " ChatMessage(content=' <ul><li>The job requires a skilled Sr. Quantitative Modeler/ Machine\\nLearning Engineer with a deep understanding of statistical and machine learning models, as well as a proven track record of implementing and optimizing them for\\nreal-world applications.</li>\\n<li>Key responsibilities include designing and implementing production-ready code for statistical and machine learning models, conceptualizing and architecting software solutions for advanced\\nmodeling and analytics tasks, automating and deploying a seamless machine learning pipeline, working closely with cross-functional teams, and implementing machine learning and\\ndata engineering solutions predominantly in Google Cloud.</li>\\n<li>Required qualifications and skills include a Bachelor\\'s or Master\\'s degree in Data Science, Computer Science,\\nStatistics, Mathematics, or a related field, 7+ years of experience in data science, analytics, or a similar role, strong expertise in machine learning, statistical modeling, and data\\nmining techniques, proficiency in programming languages such as Python, R, Java, and\\nC++, experience with data manipulation and visualization tools, experience with big data technologies such as Hadoop, Spark, and\\ncloud computing platforms, and exceptional problem-solving and critical-thinking skills.</li>\\n<li><img src=\"media/image1.png\" style=\"width:6.5in;height:4.40833in\"\\nalt=\"A screenshot of a computer Description automatically generated\" /></li>\\n\\n</ul>', author='bot'),\n",
       " ChatMessage(content='Provide it in markdown', author='user'),\n",
       " ChatMessage(content=' <ul><li>The job requires a skilled Sr. Quantitative Modeler/ Machine\\nLearning Engineer with a deep understanding of statistical and machine learning models, as well as a proven track record of implementing and optimizing them for\\nreal-world applications.</li>\\n<li>Key responsibilities include designing and implementing production-ready code for statistical and machine learning models, conceptualizing and architecting software solutions for advanced\\nmodeling and analytics tasks, automating and deploying a seamless machine learning pipeline, working closely with cross-functional teams, and implementing machine learning and\\ndata engineering solutions predominantly in Google Cloud.</li>\\n<li>Required qualifications and skills include a Bachelor\\'s or Master\\'s degree in Data Science, Computer Science,\\nStatistics, Mathematics, or a related field, 7+ years of experience in data science, analytics, or a similar role, strong expertise in machine learning, statistical modeling, and data\\nmining techniques, proficiency in programming languages such as Python, R, Java, and\\nC++, experience with data manipulation and visualization tools, experience with big data technologies such as Hadoop, Spark, and\\ncloud computing platforms, and exceptional problem-solving and critical-thinking skills.</li>\\n<li><img src=\"media/image1.png\" style=\"width:6.5in;height:4.40833in\"\\nalt=\"A screenshot of a computer Description automatically generated\" /></li>\\n\\n</ul>', author='bot'),\n",
       " ChatMessage(content='Instread of providing as html markup I want you to provide the previous message in markdown markup', author='user'),\n",
       " ChatMessage(content=' <ul><li>The job requires a skilled Sr. Quantitative Modeler/ Machine\\nLearning Engineer with a deep understanding of statistical and machine learning models, as well as a proven track record of implementing and optimizing them for\\nreal-world applications.</li>\\n<li>Key responsibilities include designing and implementing production-ready code for statistical and machine learning models, conceptualizing and architecting software solutions for advanced\\nmodeling and analytics tasks, automating and deploying a seamless machine learning pipeline, working closely with cross-functional teams, and implementing machine learning and\\ndata engineering solutions predominantly in Google Cloud.</li>\\n<li>Required qualifications and skills include a Bachelor\\'s or Master\\'s degree in Data Science, Computer Science,\\nStatistics, Mathematics, or a related field, 7+ years of experience in data science, analytics, or a similar role, strong expertise in machine learning, statistical modeling, and data\\nmining techniques, proficiency in programming languages such as Python, R, Java, and\\nC++, experience with data manipulation and visualization tools, experience with big data technologies such as Hadoop, Spark, and\\ncloud computing platforms, and exceptional problem-solving and critical-thinking skills.</li>\\n<li><img src=\"media/image1.png\" style=\"width:6.5in;height:4.40833in\"\\nalt=\"A screenshot of a computer Description automatically generated\" /></li>\\n\\n</ul>', author='bot')]"
      ]
     },
     "execution_count": 20,
     "metadata": {},
     "output_type": "execute_result"
    }
   ],
   "source": [
    "chat.message_history"
   ]
  },
  {
   "cell_type": "code",
   "execution_count": 3,
   "id": "3cde3d14-7275-4133-8364-3af0131ec4a6",
   "metadata": {},
   "outputs": [
    {
     "data": {
      "text/plain": [
       "0.025"
      ]
     },
     "execution_count": 3,
     "metadata": {},
     "output_type": "execute_result"
    }
   ],
   "source": [
    "0.0005 * 48000/1000 + 0.0005 * 2000/1000"
   ]
  },
  {
   "cell_type": "markdown",
   "id": "c9c39e09-53ff-42e0-8773-278a6fccc262",
   "metadata": {},
   "source": [
    "# Using 32k model for summary"
   ]
  },
  {
   "cell_type": "code",
   "execution_count": 9,
   "id": "ac8c0973-c80d-4e46-8105-868ad32de461",
   "metadata": {},
   "outputs": [],
   "source": [
    "from vertexai.language_models import TextGenerationModel\n"
   ]
  },
  {
   "cell_type": "code",
   "execution_count": 6,
   "id": "fc3682ea-c332-4740-a987-8069fe14bae2",
   "metadata": {},
   "outputs": [],
   "source": [
    "from pdfminer.high_level import extract_text\n",
    "textpdf = extract_text('documents/2022 Annual Letter - Chamath Palihapitiya.pdf')"
   ]
  },
  {
   "cell_type": "code",
   "execution_count": null,
   "id": "8e5aed68-971e-40b9-9a78-3551fcaf72f1",
   "metadata": {},
   "outputs": [],
   "source": [
    "# vertexai.init(project=\"llm-project-401322\", location=\"us-central1\")\n",
    "chat_model = ChatModel.from_pretrained(\"chat-bison\")"
   ]
  },
  {
   "cell_type": "code",
   "execution_count": 95,
   "id": "8df48438-ca23-4bc3-af05-86676ffbf470",
   "metadata": {},
   "outputs": [],
   "source": [
    "\n"
   ]
  },
  {
   "cell_type": "code",
   "execution_count": 22,
   "id": "107a8b3d-6792-4ecc-a708-c5f0fc391666",
   "metadata": {},
   "outputs": [],
   "source": [
    "parameters = {\n",
    "    \"max_output_tokens\": 2000,\n",
    "    \"temperature\": 0.2,\n",
    "    \"top_p\": 0.8,\n",
    "    \"top_k\": 40\n",
    "}"
   ]
  },
  {
   "cell_type": "code",
   "execution_count": 197,
   "id": "7e02864b-446d-4e4b-98e3-7248b927ae33",
   "metadata": {},
   "outputs": [],
   "source": [
    "def chunk_text(text, char_limit):\n",
    "    words = text.split(' ')\n",
    "    chunks = []\n",
    "    current_chunk = ''\n",
    "    \n",
    "    for word in words:\n",
    "        if len(current_chunk + word) <= char_limit:\n",
    "            current_chunk += ' ' + word\n",
    "        else:\n",
    "            chunks.append(current_chunk)\n",
    "            current_chunk = word\n",
    "    chunks.append(current_chunk)  # add the last chunk\n",
    "    \n",
    "    return chunks\n",
    "\n",
    " \n",
    "def overlapping_chunks(text, chunk_size, overlap_size):\n",
    "    chunks = []\n",
    "    text_length = len(text)\n",
    "    \n",
    "    # Starting index for the next chunk\n",
    "    idx = 0\n",
    "    \n",
    "    while idx < text_length:\n",
    "        # Calculate the end index for the current chunk\n",
    "        end_idx = min(idx + chunk_size, text_length)\n",
    "        \n",
    "        chunks.append(text[idx:end_idx])\n",
    "        \n",
    "        # Move the starting index for the next chunk, considering the overlap\n",
    "        idx += chunk_size - overlap_size\n",
    "        \n",
    "    return chunks\n",
    "\n",
    "def summarize_chunks(text, model, parameters):\n",
    "    CHAR_LIMIT = 24000  # well below the max to ensure we don't exceed the token limit\n",
    "    chunks = chunk_text(text, CHAR_LIMIT)\n",
    "    \n",
    "    summarized_chunks = []\n",
    "    for chunk in chunks:\n",
    "        chat = model.start_chat(context=f\"Summarize the following text into a concise format:\")\n",
    "        response = chat.send_message(chunk, **parameters)\n",
    "        summarized_chunks.append(response.text)  # appending summarized content for each chunk\n",
    "    \n",
    "    return ' '.join(summarized_chunks)\n",
    "\n"
   ]
  },
  {
   "cell_type": "code",
   "execution_count": 196,
   "id": "5ce8bf37-604d-4a40-a7c3-c68f2b65bee8",
   "metadata": {},
   "outputs": [],
   "source": [
    "# chunks[2]"
   ]
  },
  {
   "cell_type": "code",
   "execution_count": 12,
   "id": "c237426e-eab8-4277-8313-a2070a9c84e4",
   "metadata": {},
   "outputs": [],
   "source": [
    "chat = chat_model.start_chat(context=f\"Summarize the following text into a concise format:\")\n"
   ]
  },
  {
   "cell_type": "code",
   "execution_count": null,
   "id": "51a50e63-149c-4503-8de8-fd2fa6ba2206",
   "metadata": {},
   "outputs": [],
   "source": [
    "text = textpdf\n",
    "CHAR_LIMIT = 12000  # well below the max to ensure we don't exceed the token limit\n",
    "chunks = overlapping_chunks(text, CHAR_LIMIT, overlap_size = 4000)\n",
    "chunks"
   ]
  },
  {
   "cell_type": "code",
   "execution_count": 80,
   "id": "d771e2d1-d37f-4499-b546-9ab131e58995",
   "metadata": {},
   "outputs": [],
   "source": [
    "\n",
    "# summarized_chunks = []\n",
    "# for chunk in chunks:\n",
    "#     response = chat.send_message(chunk, **parameters)\n",
    "#     summarized_chunks.append(response.text)  # appending summarized content for each chunk\n",
    "    "
   ]
  },
  {
   "cell_type": "code",
   "execution_count": 88,
   "id": "b27c4780-c5bf-4d77-8465-cf7efaf97f7b",
   "metadata": {},
   "outputs": [
    {
     "data": {
      "text/plain": [
       "3285"
      ]
     },
     "execution_count": 88,
     "metadata": {},
     "output_type": "execute_result"
    }
   ],
   "source": [
    "texttosummarize = \"\"\"\n",
    "\"8/11/23, 6:36 PM\\n\\n2022 Annual Letter - Chamath Palihapitiya\\n\\n2022 Annual Letter\\n\\nCHAMATH PALIHAPITIYA\\n\\nAPR 4, 2023\\n\\n23\\n\\n1\\n\\nShare\\n\\nSocial Capital Performance Summary\\n\\nTo the supporters and friends of Social Capital:\\n\\nhttps://chamath.substack.com/p/2022-annual-letter#footnote-anchor-4-108054412\\n\\n1/27\\n\\n\\x0c8/11/23, 6:36 PM\\n\\n2022 Annual Letter - Chamath Palihapitiya\\n\\nThis is the fifth of our annual letters in which we discuss our observations and\\n\\nreflections of the year passed, how they’ve shaped our investment views, and\\n\\nother ideas on technology, markets, and our mission to build the future.\\n\\nSince we started Social Capital in 2011, our work has touched many different parts\\n\\nof the technology ecosystem, from investing in Bitcoin and SaaS in the early 2010s\\n\\nto our more recent bets in deep tech, life sciences, and energy transition.\\n\\nAs an organization, we have tried to be flexible in how we allocate and deploy\\n\\ncapital, whether it’s investing across stages from seed to growth, funding strategic\\n\\nacquisitions and seeking M&A opportunities for our portfolio, anchoring IPOs and\\n\\nmaking public market investments, or enabling access to the public markets via\\n\\nSPACs.\\n\\nWith each opportunity we weigh the risks with the information at the time, and if\\n\\nwe believe an opportunity is priced correctly, we take the risk. At times this has\\n\\nmeant forging our own path and investing across stages and asset classes, which\\n\\ncan sometimes be a lonely road. But we’ve also tried to create room for others to\\n\\neither partner alongside us or copy something that works. Ultimately, our\\n\\ninvestments are judged on whether they worked or not from time of entry to time\\n\\nof exit.\\n\\nAll of this said, while this approach has led us to explore different areas of\\n\\ntechnology and a range of capital raising tools, we believe there has been a\\n\\ncommon theme that has defined our work over the past 12 years: partnering with\\n\\nambitious, independent thinkers who as founders are building companies from\\n\\nfirst principles. Ideally, when everything converges, we have historically been able\\n\\nto achieve both meaningful societal progress and meaningful commercial\\n\\noutcomes.\\n\\nBuilding companies in an age of austerity\\n\\nCurrently, we find ourselves navigating one of the most complicated environments\\n\\nof the past 20\\x00 years of technology investing.\\n\\nhttps://chamath.substack.com/p/2022-annual-letter#footnote-anchor-4-108054412\\n\\n2/27\\n\\n\\x0c8/11/23, 6:36 PM\\n\\n2022 Annual Letter - Chamath Palihapitiya\\n\\nIn our 2021 annual letter, we wrote that the formula for successful technology\\n\\ninvesting must include founders who have the discipline to be hyper-focused on\\n\\nthe things that will help their businesses succeed, balanced with the ability to\\n\\nignore noise and distractions, no matter how difficult or unpopular. When done\\n\\nwell, these specific founders have shown great ability to deliver outsized\\n\\noutcomes for their customers, employees, and investors.\\n\\nHowever, on the cusp of a generation-defining economic regime change, many of\\n\\nus hadn’t adequately considered a key factor, which up until 2022 has been often\\n\\nforgotten or overlooked: austerity.\\n\\nAs we enter a sustained period of non-zero interest rates, discipline of mission\\n\\nmust now also intersect with discipline of management and operation.\n",
    "\"\"\"\n",
    "len(texttosummarize)\n"
   ]
  },
  {
   "cell_type": "code",
   "execution_count": 81,
   "id": "bab58319-7757-4f00-b1a0-13d8d8830f43",
   "metadata": {},
   "outputs": [],
   "source": [
    "chat = chat_model.start_chat(**parameters)"
   ]
  },
  {
   "cell_type": "markdown",
   "id": "b96ddd2e-f0ae-4e09-83e2-59ba2147fc45",
   "metadata": {},
   "source": [
    "# Option 1"
   ]
  },
  {
   "cell_type": "code",
   "execution_count": 125,
   "id": "016fbb83-362f-4b56-86e5-dc7e7ceafa3b",
   "metadata": {},
   "outputs": [],
   "source": [
    "chat_model = TextGenerationModel.from_pretrained(\"text-bison\")\n",
    "\n",
    "response = chat_model.predict(\n",
    "     f\"\"\"Summarize  the following  text. Explain it to non-business audience and add context where need to clarify concepts. Do not use more then  500 words:\n",
    "                context: {chunks[0]}\"\"\" , **parameters\n",
    ")"
   ]
  },
  {
   "cell_type": "code",
   "execution_count": 163,
   "id": "f0073de0-f519-413a-9508-bdfbf814f9fe",
   "metadata": {},
   "outputs": [],
   "source": [
    "# print(response.text) "
   ]
  },
  {
   "cell_type": "markdown",
   "id": "1af4a844-3568-433c-b204-9b12eb2f6455",
   "metadata": {},
   "source": [
    "# Option 2"
   ]
  },
  {
   "cell_type": "code",
   "execution_count": null,
   "id": "1fb6f237-de58-4cb4-89d4-b2e8629ee0a2",
   "metadata": {},
   "outputs": [],
   "source": [
    "chat_model = TextGenerationModel.from_pretrained(\"text-bison\")"
   ]
  },
  {
   "cell_type": "code",
   "execution_count": null,
   "id": "99d2d151-bd73-40f8-a5b3-0e7b3c2e6629",
   "metadata": {},
   "outputs": [],
   "source": [
    "response = chat_model.predict(\n",
    "     f\"\"\"You are financial and economics analyst. Provide the summary of the following text:\n",
    "     \n",
    "                context: {chunks[0]}\"\"\" , **parameters\n",
    ")"
   ]
  },
  {
   "cell_type": "code",
   "execution_count": 177,
   "id": "8cb46a4b-3e73-4b77-aaf5-b2a68b76cfe6",
   "metadata": {},
   "outputs": [],
   "source": [
    " # \n",
    "parameters = {\n",
    "    \"max_output_tokens\": 2000,\n",
    "    \"temperature\": 0.2,\n",
    "    \"top_p\": 0.8,\n",
    "    \"top_k\": 40\n",
    "}"
   ]
  },
  {
   "cell_type": "markdown",
   "id": "1754d17a-1864-4303-860b-4b4b77cdd255",
   "metadata": {},
   "source": [
    " \n",
    "* f\"\"\"You are financial and economics analyst. Provide the detailed summary of the following text:\"\"\" \n",
    "* f\"\"\"You are financial and economics analyst. Provide the summary of the following text:\"\"\" # Good\n",
    "* f\"\"\"You are financial and economics analyst. Explain and elaborate on the following text:\"\"\"\n",
    "* f\"\"\"You are financial and economics analyst. Explain and elaborate on the following text:\"\"\"\n",
    "* Condense and refine the following summarized text.\n",
    "* Provide a detailed review-style summary of the following article, mentioning key points the author makes: # good summary but it gets cut in the second step a lot"
   ]
  },
  {
   "cell_type": "code",
   "execution_count": 254,
   "id": "e0205f78-45d2-4785-9bb6-d6a536b3a8d0",
   "metadata": {},
   "outputs": [],
   "source": [
    "text = textpdf\n",
    "CHAR_LIMIT = 18000  # well below the max to ensure we don't exceed the token limit\n",
    "chunks = overlapping_chunks(text, CHAR_LIMIT, overlap_size=6000)\n",
    "\n",
    "summarized_chunks = []\n",
    "for chunk in chunks:\n",
    " \n",
    "    response = chat_model.predict(f\"\"\"You are financial and economics analyst. You are financial and economics analyst. Provide the summary of the following text:\\n{chunk}\"\"\" , **parameters)\n",
    "    summarized_chunks.append(response.text)"
   ]
  },
  {
   "cell_type": "code",
   "execution_count": 200,
   "id": "27ed639d-d1b2-4992-8ad1-6948feeab1b5",
   "metadata": {},
   "outputs": [],
   "source": [
    "summary = \"\\n\".join(summarized_chunks)\n",
    "response = chat_model.predict(f\"\"\"Curate the following text as you are writing an article. Add section headers for each logical section. Provide the response in HTML markup:{summary}\"\"\" , **parameters)"
   ]
  },
  {
   "cell_type": "code",
   "execution_count": 248,
   "id": "7c6c807f-5de7-4a5c-95eb-d1cca8d264f7",
   "metadata": {},
   "outputs": [],
   "source": [
    "parameters = {\n",
    "    \"max_output_tokens\": 2000,\n",
    "    \"temperature\": 0.7,\n",
    "    \"top_p\": 0.6,\n",
    "    \"top_k\": 40\n",
    "}"
   ]
  },
  {
   "cell_type": "code",
   "execution_count": 249,
   "id": "786b3db2-1da0-4d97-a5bf-ce947aa9433f",
   "metadata": {},
   "outputs": [],
   "source": [
    "summary = \"\\n\".join(summarized_chunks)\n",
    "response = chat_model.predict(f\"\"\"The following text is the combination of the individual summaries for a large article. Use bullet point where needed to improve readability.  Every piece of information is important.\n",
    "                                    Organize the following text into logical sections, making sure that no information is lost in the process. \n",
    "                                    Add headers for each section and provide the response in HTML markup:\n",
    "                                    \n",
    "                                    {summary}\"\"\" , **parameters)"
   ]
  },
  {
   "cell_type": "markdown",
   "id": "5e90ac03-5787-4007-a1c8-373e5bc6b6d5",
   "metadata": {},
   "source": [
    "# Bullet point format \n",
    "\n",
    "I like it"
   ]
  },
  {
   "cell_type": "code",
   "execution_count": 255,
   "id": "a90cbe95-ae1a-4715-82b0-902cf59a80ed",
   "metadata": {},
   "outputs": [],
   "source": [
    "summary = \"\\n\".join(summarized_chunks)\n",
    "response = chat_model.predict(f\"\"\"The following text is the combination of the individual summaries for a large article. Every piece of information is important.\n",
    "                                    Organize the following text into logical sections and add header to each section. Use bullet point format in this summary. \n",
    "                                    Provide the response in HTML markup:\n",
    "                                    \n",
    "                                    {summary}\"\"\" , **parameters)"
   ]
  },
  {
   "cell_type": "code",
   "execution_count": 258,
   "id": "93c5f4e5-98f0-4bb1-bfea-9ffa8bd15f8a",
   "metadata": {},
   "outputs": [
    {
     "data": {
      "text/plain": [
       " <!DOCTYPE html>\n",
       "<html>\n",
       "<head>\n",
       "  <title>2022 Annual Letter - Chamath Palihapitiya</title>\n",
       "</head>\n",
       "\n",
       "<body>\n",
       "  <h1>2022 Annual Letter - Chamath Palihapitiya</h1>\n",
       "\n",
       "  <h2>Economic Climate and Outlook for 2023</h2>\n",
       "  <ul>\n",
       "    <li>The Federal Reserve has raised interest rates in an effort to combat inflation.</li>\n",
       "    <li>This has led to a decline in stock prices and a slowdown in economic growth.</li>\n",
       "    <li>The author believes that the economy is likely to enter a recession in 2023.</li>\n",
       "    <li>This will lead to further declines in stock prices.</li>\n",
       "    <li>However, the author also believes that there are some bright spots in the economy, such as the continued growth of the technology sector.</li>\n",
       "  </ul>\n",
       "\n",
       "  <h2>Advice to Investors</h2>\n",
       "  <ul>\n",
       "    <li>Focus on companies with strong fundamentals.</li>\n",
       "    <li>Avoid investing in companies that are overvalued.</li>\n",
       "  </ul>\n",
       "\n",
       "  <h2>Recent Bets</h2>\n",
       "  <ul>\n",
       "    <li>Palmetto: A company that is developing a new type of solar panel.</li>\n",
       "    <li>Mitra Chem: A company that is developing a new type of battery.</li>\n",
       "    <li>Swarm: A company that is developing a new type of drone.</li>\n",
       "    <li>Saildrone: A company that is developing a new type of autonomous sailboat.</li>\n",
       "    <li>Early Is Good: A company that is developing a new type of cancer treatment.</li>\n",
       "  </ul>\n",
       "\n",
       "  <h2>Conclusion</h2>\n",
       "  <ul>\n",
       "    <li>Palihapitiya is focused and grinding everyday.</li>\n",
       "    <li>He is excited to see what the future holds.</li>\n",
       "  </ul>\n",
       "\n",
       "  <h2>Email from Emmanuel Gunaratnam to Chamath Palihapitiya</h2>\n",
       "  <ul>\n",
       "    <li>Gunaratnam expresses his admiration for Palihapitiya.</li>\n",
       "    <li>He mentions that he had previously written to Palihapitiya about the economic crisis in Sri Lanka.</li>\n",
       "    <li>He also mentions that he had tried to contact Palihapitiya when he brought the Google Loon project to Sri Lanka, but that it was too late.</li>\n",
       "    <li>Gunaratnam then offers his services as a retired career banker and current employee of the Consulate of Iceland in Sri Lanka.</li>\n",
       "  </ul>\n",
       "</body>\n",
       "</html>"
      ]
     },
     "execution_count": 258,
     "metadata": {},
     "output_type": "execute_result"
    }
   ],
   "source": [
    "response"
   ]
  },
  {
   "cell_type": "code",
   "execution_count": 256,
   "id": "0a8d74b7-4baa-4cc4-96b2-a6c1d8908c3a",
   "metadata": {},
   "outputs": [
    {
     "name": "stdout",
     "output_type": "stream",
     "text": [
      "2045\n",
      "3065\n"
     ]
    }
   ],
   "source": [
    "print(len(response.text))\n",
    "print(len(summary))\n",
    "# print(summary)"
   ]
  },
  {
   "cell_type": "code",
   "execution_count": 257,
   "id": "b45079c3-8374-4fc0-983e-3264874bdeff",
   "metadata": {},
   "outputs": [
    {
     "data": {},
     "metadata": {},
     "output_type": "display_data"
    },
    {
     "data": {
      "application/vnd.holoviews_exec.v0+json": "",
      "text/html": [
       "<div id='451f4c14-98be-4fa4-9991-e20a3ce8d82a'>\n",
       "  <div id=\"d63499f6-d018-4667-ab5d-854e882b45fe\" data-root-id=\"451f4c14-98be-4fa4-9991-e20a3ce8d82a\" style=\"display: contents;\"></div>\n",
       "</div>\n",
       "<script type=\"application/javascript\">(function(root) {\n",
       "  var docs_json = {\"c9f7a061-a658-46df-832a-d964a3e7e73f\":{\"version\":\"3.1.1\",\"title\":\"Bokeh Application\",\"defs\":[{\"type\":\"model\",\"name\":\"ReactiveHTML1\"},{\"type\":\"model\",\"name\":\"FlexBox1\",\"properties\":[{\"name\":\"align_content\",\"kind\":\"Any\",\"default\":\"flex-start\"},{\"name\":\"align_items\",\"kind\":\"Any\",\"default\":\"flex-start\"},{\"name\":\"flex_direction\",\"kind\":\"Any\",\"default\":\"row\"},{\"name\":\"flex_wrap\",\"kind\":\"Any\",\"default\":\"wrap\"},{\"name\":\"justify_content\",\"kind\":\"Any\",\"default\":\"flex-start\"}]},{\"type\":\"model\",\"name\":\"FloatPanel1\",\"properties\":[{\"name\":\"config\",\"kind\":\"Any\",\"default\":{\"type\":\"map\"}},{\"name\":\"contained\",\"kind\":\"Any\",\"default\":true},{\"name\":\"position\",\"kind\":\"Any\",\"default\":\"right-top\"},{\"name\":\"offsetx\",\"kind\":\"Any\",\"default\":null},{\"name\":\"offsety\",\"kind\":\"Any\",\"default\":null},{\"name\":\"theme\",\"kind\":\"Any\",\"default\":\"primary\"},{\"name\":\"status\",\"kind\":\"Any\",\"default\":\"normalized\"}]},{\"type\":\"model\",\"name\":\"GridStack1\",\"properties\":[{\"name\":\"mode\",\"kind\":\"Any\",\"default\":\"warn\"},{\"name\":\"ncols\",\"kind\":\"Any\",\"default\":null},{\"name\":\"nrows\",\"kind\":\"Any\",\"default\":null},{\"name\":\"allow_resize\",\"kind\":\"Any\",\"default\":true},{\"name\":\"allow_drag\",\"kind\":\"Any\",\"default\":true},{\"name\":\"state\",\"kind\":\"Any\",\"default\":[]}]},{\"type\":\"model\",\"name\":\"drag1\",\"properties\":[{\"name\":\"slider_width\",\"kind\":\"Any\",\"default\":5},{\"name\":\"slider_color\",\"kind\":\"Any\",\"default\":\"black\"},{\"name\":\"value\",\"kind\":\"Any\",\"default\":50}]},{\"type\":\"model\",\"name\":\"click1\",\"properties\":[{\"name\":\"terminal_output\",\"kind\":\"Any\",\"default\":\"\"},{\"name\":\"debug_name\",\"kind\":\"Any\",\"default\":\"\"},{\"name\":\"clears\",\"kind\":\"Any\",\"default\":0}]},{\"type\":\"model\",\"name\":\"FastWrapper1\",\"properties\":[{\"name\":\"object\",\"kind\":\"Any\",\"default\":null},{\"name\":\"style\",\"kind\":\"Any\",\"default\":null}]},{\"type\":\"model\",\"name\":\"NotificationAreaBase1\",\"properties\":[{\"name\":\"js_events\",\"kind\":\"Any\",\"default\":{\"type\":\"map\"}},{\"name\":\"position\",\"kind\":\"Any\",\"default\":\"bottom-right\"},{\"name\":\"_clear\",\"kind\":\"Any\",\"default\":0}]},{\"type\":\"model\",\"name\":\"NotificationArea1\",\"properties\":[{\"name\":\"js_events\",\"kind\":\"Any\",\"default\":{\"type\":\"map\"}},{\"name\":\"notifications\",\"kind\":\"Any\",\"default\":[]},{\"name\":\"position\",\"kind\":\"Any\",\"default\":\"bottom-right\"},{\"name\":\"_clear\",\"kind\":\"Any\",\"default\":0},{\"name\":\"types\",\"kind\":\"Any\",\"default\":[{\"type\":\"map\",\"entries\":[[\"type\",\"warning\"],[\"background\",\"#ffc107\"],[\"icon\",{\"type\":\"map\",\"entries\":[[\"className\",\"fas fa-exclamation-triangle\"],[\"tagName\",\"i\"],[\"color\",\"white\"]]}]]},{\"type\":\"map\",\"entries\":[[\"type\",\"info\"],[\"background\",\"#007bff\"],[\"icon\",{\"type\":\"map\",\"entries\":[[\"className\",\"fas fa-info-circle\"],[\"tagName\",\"i\"],[\"color\",\"white\"]]}]]}]}]},{\"type\":\"model\",\"name\":\"Notification\",\"properties\":[{\"name\":\"background\",\"kind\":\"Any\",\"default\":null},{\"name\":\"duration\",\"kind\":\"Any\",\"default\":3000},{\"name\":\"icon\",\"kind\":\"Any\",\"default\":null},{\"name\":\"message\",\"kind\":\"Any\",\"default\":\"\"},{\"name\":\"notification_type\",\"kind\":\"Any\",\"default\":null},{\"name\":\"_destroyed\",\"kind\":\"Any\",\"default\":false}]},{\"type\":\"model\",\"name\":\"TemplateActions1\",\"properties\":[{\"name\":\"open_modal\",\"kind\":\"Any\",\"default\":0},{\"name\":\"close_modal\",\"kind\":\"Any\",\"default\":0}]},{\"type\":\"model\",\"name\":\"BootstrapTemplateActions1\",\"properties\":[{\"name\":\"open_modal\",\"kind\":\"Any\",\"default\":0},{\"name\":\"close_modal\",\"kind\":\"Any\",\"default\":0}]},{\"type\":\"model\",\"name\":\"MaterialTemplateActions1\",\"properties\":[{\"name\":\"open_modal\",\"kind\":\"Any\",\"default\":0},{\"name\":\"close_modal\",\"kind\":\"Any\",\"default\":0}]}],\"roots\":[{\"type\":\"object\",\"name\":\"panel.models.markup.HTML\",\"id\":\"451f4c14-98be-4fa4-9991-e20a3ce8d82a\",\"attributes\":{\"stylesheets\":[\"\\n:host(.pn-loading.pn-arc):before, .pn-loading.pn-arc:before {\\n  background-image: url(\\\"data:image/svg+xml;base64,PHN2ZyB4bWxucz0iaHR0cDovL3d3dy53My5vcmcvMjAwMC9zdmciIHN0eWxlPSJtYXJnaW46IGF1dG87IGJhY2tncm91bmQ6IG5vbmU7IGRpc3BsYXk6IGJsb2NrOyBzaGFwZS1yZW5kZXJpbmc6IGF1dG87IiB2aWV3Qm94PSIwIDAgMTAwIDEwMCIgcHJlc2VydmVBc3BlY3RSYXRpbz0ieE1pZFlNaWQiPiAgPGNpcmNsZSBjeD0iNTAiIGN5PSI1MCIgZmlsbD0ibm9uZSIgc3Ryb2tlPSIjYzNjM2MzIiBzdHJva2Utd2lkdGg9IjEwIiByPSIzNSIgc3Ryb2tlLWRhc2hhcnJheT0iMTY0LjkzMzYxNDMxMzQ2NDE1IDU2Ljk3Nzg3MTQzNzgyMTM4Ij4gICAgPGFuaW1hdGVUcmFuc2Zvcm0gYXR0cmlidXRlTmFtZT0idHJhbnNmb3JtIiB0eXBlPSJyb3RhdGUiIHJlcGVhdENvdW50PSJpbmRlZmluaXRlIiBkdXI9IjFzIiB2YWx1ZXM9IjAgNTAgNTA7MzYwIDUwIDUwIiBrZXlUaW1lcz0iMDsxIj48L2FuaW1hdGVUcmFuc2Zvcm0+ICA8L2NpcmNsZT48L3N2Zz4=\\\");\\n  background-size: auto calc(min(50%, 400px));\\n}\",{\"type\":\"object\",\"name\":\"ImportedStyleSheet\",\"id\":\"687f6820-2969-49a4-ab89-0e50f0f9f747\",\"attributes\":{\"url\":\"https://cdn.holoviz.org/panel/1.2.3/dist/css/loading.css\"}},{\"type\":\"object\",\"name\":\"ImportedStyleSheet\",\"id\":\"b2f7dc68-1389-4f7f-a9e1-8f4a02814f4c\",\"attributes\":{\"url\":\"https://cdn.holoviz.org/panel/1.2.3/dist/bundled/theme/default.css\"}},{\"type\":\"object\",\"name\":\"ImportedStyleSheet\",\"id\":\"07733ed7-1466-4704-aade-c540e4dffa07\",\"attributes\":{\"url\":\"https://cdn.holoviz.org/panel/1.2.3/dist/bundled/theme/native.css\"}}],\"margin\":[5,10],\"align\":\"start\",\"text\":\" &lt;!DOCTYPE html&gt;\\n&lt;html&gt;\\n&lt;head&gt;\\n  &lt;title&gt;2022 Annual Letter - Chamath Palihapitiya&lt;/title&gt;\\n&lt;/head&gt;\\n\\n&lt;body&gt;\\n  &lt;h1&gt;2022 Annual Letter - Chamath Palihapitiya&lt;/h1&gt;\\n\\n  &lt;h2&gt;Economic Climate and Outlook for 2023&lt;/h2&gt;\\n  &lt;ul&gt;\\n    &lt;li&gt;The Federal Reserve has raised interest rates in an effort to combat inflation.&lt;/li&gt;\\n    &lt;li&gt;This has led to a decline in stock prices and a slowdown in economic growth.&lt;/li&gt;\\n    &lt;li&gt;The author believes that the economy is likely to enter a recession in 2023.&lt;/li&gt;\\n    &lt;li&gt;This will lead to further declines in stock prices.&lt;/li&gt;\\n    &lt;li&gt;However, the author also believes that there are some bright spots in the economy, such as the continued growth of the technology sector.&lt;/li&gt;\\n  &lt;/ul&gt;\\n\\n  &lt;h2&gt;Advice to Investors&lt;/h2&gt;\\n  &lt;ul&gt;\\n    &lt;li&gt;Focus on companies with strong fundamentals.&lt;/li&gt;\\n    &lt;li&gt;Avoid investing in companies that are overvalued.&lt;/li&gt;\\n  &lt;/ul&gt;\\n\\n  &lt;h2&gt;Recent Bets&lt;/h2&gt;\\n  &lt;ul&gt;\\n    &lt;li&gt;Palmetto: A company that is developing a new type of solar panel.&lt;/li&gt;\\n    &lt;li&gt;Mitra Chem: A company that is developing a new type of battery.&lt;/li&gt;\\n    &lt;li&gt;Swarm: A company that is developing a new type of drone.&lt;/li&gt;\\n    &lt;li&gt;Saildrone: A company that is developing a new type of autonomous sailboat.&lt;/li&gt;\\n    &lt;li&gt;Early Is Good: A company that is developing a new type of cancer treatment.&lt;/li&gt;\\n  &lt;/ul&gt;\\n\\n  &lt;h2&gt;Conclusion&lt;/h2&gt;\\n  &lt;ul&gt;\\n    &lt;li&gt;Palihapitiya is focused and grinding everyday.&lt;/li&gt;\\n    &lt;li&gt;He is excited to see what the future holds.&lt;/li&gt;\\n  &lt;/ul&gt;\\n\\n  &lt;h2&gt;Email from Emmanuel Gunaratnam to Chamath Palihapitiya&lt;/h2&gt;\\n  &lt;ul&gt;\\n    &lt;li&gt;Gunaratnam expresses his admiration for Palihapitiya.&lt;/li&gt;\\n    &lt;li&gt;He mentions that he had previously written to Palihapitiya about the economic crisis in Sri Lanka.&lt;/li&gt;\\n    &lt;li&gt;He also mentions that he had tried to contact Palihapitiya when he brought the Google Loon project to Sri Lanka, but that it was too late.&lt;/li&gt;\\n    &lt;li&gt;Gunaratnam then offers his services as a retired career banker and current employee of the Consulate of Iceland in Sri Lanka.&lt;/li&gt;\\n  &lt;/ul&gt;\\n&lt;/body&gt;\\n&lt;/html&gt;\",\"disable_math\":true}},{\"type\":\"object\",\"name\":\"panel.models.comm_manager.CommManager\",\"id\":\"3f92af3b-affe-48f8-8237-01182e5f666a\",\"attributes\":{\"plot_id\":\"451f4c14-98be-4fa4-9991-e20a3ce8d82a\",\"comm_id\":\"2de42ac8ee5c477fb972f277fcd508f7\",\"client_comm_id\":\"a697270b5ec54653bb1188a297b50207\"}}],\"callbacks\":{\"type\":\"map\"}}};\n",
       "  var render_items = [{\"docid\":\"c9f7a061-a658-46df-832a-d964a3e7e73f\",\"roots\":{\"451f4c14-98be-4fa4-9991-e20a3ce8d82a\":\"d63499f6-d018-4667-ab5d-854e882b45fe\"},\"root_ids\":[\"451f4c14-98be-4fa4-9991-e20a3ce8d82a\"]}];\n",
       "  var docs = Object.values(docs_json)\n",
       "  if (!docs) {\n",
       "    return\n",
       "  }\n",
       "  const py_version = docs[0].version.replace('rc', '-rc.').replace('.dev', '-dev.')\n",
       "  const is_dev = py_version.indexOf(\"+\") !== -1 || py_version.indexOf(\"-\") !== -1\n",
       "  function embed_document(root) {\n",
       "    var Bokeh = get_bokeh(root)\n",
       "    Bokeh.embed.embed_items_notebook(docs_json, render_items);\n",
       "    for (const render_item of render_items) {\n",
       "      for (const root_id of render_item.root_ids) {\n",
       "\tconst id_el = document.getElementById(root_id)\n",
       "\tif (id_el.children.length && (id_el.children[0].className === 'bk-root')) {\n",
       "\t  const root_el = id_el.children[0]\n",
       "\t  root_el.id = root_el.id + '-rendered'\n",
       "\t}\n",
       "      }\n",
       "    }\n",
       "  }\n",
       "  function get_bokeh(root) {\n",
       "    if (root.Bokeh === undefined) {\n",
       "      return null\n",
       "    } else if (root.Bokeh.version !== py_version && !is_dev) {\n",
       "      if (root.Bokeh.versions === undefined || !root.Bokeh.versions.has(py_version)) {\n",
       "\treturn null\n",
       "      }\n",
       "      return root.Bokeh.versions.get(py_version);\n",
       "    } else if (root.Bokeh.version === py_version) {\n",
       "      return root.Bokeh\n",
       "    }\n",
       "    return null\n",
       "  }\n",
       "  function is_loaded(root) {\n",
       "    var Bokeh = get_bokeh(root)\n",
       "    return (Bokeh != null && Bokeh.Panel !== undefined)\n",
       "  }\n",
       "  if (is_loaded(root)) {\n",
       "    embed_document(root);\n",
       "  } else {\n",
       "    var attempts = 0;\n",
       "    var timer = setInterval(function(root) {\n",
       "      if (is_loaded(root)) {\n",
       "        clearInterval(timer);\n",
       "        embed_document(root);\n",
       "      } else if (document.readyState == \"complete\") {\n",
       "        attempts++;\n",
       "        if (attempts > 200) {\n",
       "          clearInterval(timer);\n",
       "\t  var Bokeh = get_bokeh(root)\n",
       "\t  if (Bokeh == null || Bokeh.Panel == null) {\n",
       "            console.warn(\"Panel: ERROR: Unable to run Panel code because Bokeh or Panel library is missing\");\n",
       "\t  } else {\n",
       "\t    console.warn(\"Panel: WARNING: Attempting to render but not all required libraries could be resolved.\")\n",
       "\t    embed_document(root)\n",
       "\t  }\n",
       "        }\n",
       "      }\n",
       "    }, 25, root)\n",
       "  }\n",
       "})(window);</script>"
      ],
      "text/plain": [
       "HTML(str)"
      ]
     },
     "execution_count": 257,
     "metadata": {
      "application/vnd.holoviews_exec.v0+json": {
       "id": "451f4c14-98be-4fa4-9991-e20a3ce8d82a"
      }
     },
     "output_type": "execute_result"
    }
   ],
   "source": [
    "# import panel as pn\n",
    "# pn.extension()\n",
    "pn.pane.HTML(response.text)"
   ]
  },
  {
   "cell_type": "code",
   "execution_count": 238,
   "id": "375c0b5f-2f68-468e-876c-fff752a0f681",
   "metadata": {},
   "outputs": [
    {
     "data": {},
     "metadata": {},
     "output_type": "display_data"
    },
    {
     "data": {
      "application/vnd.holoviews_exec.v0+json": "",
      "text/html": [
       "<div id='581b6cdb-156b-4d77-b631-20a18fc839cd'>\n",
       "  <div id=\"efc2eaa4-a7dd-4c0c-97f8-107e60973d05\" data-root-id=\"581b6cdb-156b-4d77-b631-20a18fc839cd\" style=\"display: contents;\"></div>\n",
       "</div>\n",
       "<script type=\"application/javascript\">(function(root) {\n",
       "  var docs_json = {\"79022006-f0a3-4137-9ec1-f60bd06cc97a\":{\"version\":\"3.1.1\",\"title\":\"Bokeh Application\",\"defs\":[{\"type\":\"model\",\"name\":\"ReactiveHTML1\"},{\"type\":\"model\",\"name\":\"FlexBox1\",\"properties\":[{\"name\":\"align_content\",\"kind\":\"Any\",\"default\":\"flex-start\"},{\"name\":\"align_items\",\"kind\":\"Any\",\"default\":\"flex-start\"},{\"name\":\"flex_direction\",\"kind\":\"Any\",\"default\":\"row\"},{\"name\":\"flex_wrap\",\"kind\":\"Any\",\"default\":\"wrap\"},{\"name\":\"justify_content\",\"kind\":\"Any\",\"default\":\"flex-start\"}]},{\"type\":\"model\",\"name\":\"FloatPanel1\",\"properties\":[{\"name\":\"config\",\"kind\":\"Any\",\"default\":{\"type\":\"map\"}},{\"name\":\"contained\",\"kind\":\"Any\",\"default\":true},{\"name\":\"position\",\"kind\":\"Any\",\"default\":\"right-top\"},{\"name\":\"offsetx\",\"kind\":\"Any\",\"default\":null},{\"name\":\"offsety\",\"kind\":\"Any\",\"default\":null},{\"name\":\"theme\",\"kind\":\"Any\",\"default\":\"primary\"},{\"name\":\"status\",\"kind\":\"Any\",\"default\":\"normalized\"}]},{\"type\":\"model\",\"name\":\"GridStack1\",\"properties\":[{\"name\":\"mode\",\"kind\":\"Any\",\"default\":\"warn\"},{\"name\":\"ncols\",\"kind\":\"Any\",\"default\":null},{\"name\":\"nrows\",\"kind\":\"Any\",\"default\":null},{\"name\":\"allow_resize\",\"kind\":\"Any\",\"default\":true},{\"name\":\"allow_drag\",\"kind\":\"Any\",\"default\":true},{\"name\":\"state\",\"kind\":\"Any\",\"default\":[]}]},{\"type\":\"model\",\"name\":\"drag1\",\"properties\":[{\"name\":\"slider_width\",\"kind\":\"Any\",\"default\":5},{\"name\":\"slider_color\",\"kind\":\"Any\",\"default\":\"black\"},{\"name\":\"value\",\"kind\":\"Any\",\"default\":50}]},{\"type\":\"model\",\"name\":\"click1\",\"properties\":[{\"name\":\"terminal_output\",\"kind\":\"Any\",\"default\":\"\"},{\"name\":\"debug_name\",\"kind\":\"Any\",\"default\":\"\"},{\"name\":\"clears\",\"kind\":\"Any\",\"default\":0}]},{\"type\":\"model\",\"name\":\"FastWrapper1\",\"properties\":[{\"name\":\"object\",\"kind\":\"Any\",\"default\":null},{\"name\":\"style\",\"kind\":\"Any\",\"default\":null}]},{\"type\":\"model\",\"name\":\"NotificationAreaBase1\",\"properties\":[{\"name\":\"js_events\",\"kind\":\"Any\",\"default\":{\"type\":\"map\"}},{\"name\":\"position\",\"kind\":\"Any\",\"default\":\"bottom-right\"},{\"name\":\"_clear\",\"kind\":\"Any\",\"default\":0}]},{\"type\":\"model\",\"name\":\"NotificationArea1\",\"properties\":[{\"name\":\"js_events\",\"kind\":\"Any\",\"default\":{\"type\":\"map\"}},{\"name\":\"notifications\",\"kind\":\"Any\",\"default\":[]},{\"name\":\"position\",\"kind\":\"Any\",\"default\":\"bottom-right\"},{\"name\":\"_clear\",\"kind\":\"Any\",\"default\":0},{\"name\":\"types\",\"kind\":\"Any\",\"default\":[{\"type\":\"map\",\"entries\":[[\"type\",\"warning\"],[\"background\",\"#ffc107\"],[\"icon\",{\"type\":\"map\",\"entries\":[[\"className\",\"fas fa-exclamation-triangle\"],[\"tagName\",\"i\"],[\"color\",\"white\"]]}]]},{\"type\":\"map\",\"entries\":[[\"type\",\"info\"],[\"background\",\"#007bff\"],[\"icon\",{\"type\":\"map\",\"entries\":[[\"className\",\"fas fa-info-circle\"],[\"tagName\",\"i\"],[\"color\",\"white\"]]}]]}]}]},{\"type\":\"model\",\"name\":\"Notification\",\"properties\":[{\"name\":\"background\",\"kind\":\"Any\",\"default\":null},{\"name\":\"duration\",\"kind\":\"Any\",\"default\":3000},{\"name\":\"icon\",\"kind\":\"Any\",\"default\":null},{\"name\":\"message\",\"kind\":\"Any\",\"default\":\"\"},{\"name\":\"notification_type\",\"kind\":\"Any\",\"default\":null},{\"name\":\"_destroyed\",\"kind\":\"Any\",\"default\":false}]},{\"type\":\"model\",\"name\":\"TemplateActions1\",\"properties\":[{\"name\":\"open_modal\",\"kind\":\"Any\",\"default\":0},{\"name\":\"close_modal\",\"kind\":\"Any\",\"default\":0}]},{\"type\":\"model\",\"name\":\"BootstrapTemplateActions1\",\"properties\":[{\"name\":\"open_modal\",\"kind\":\"Any\",\"default\":0},{\"name\":\"close_modal\",\"kind\":\"Any\",\"default\":0}]},{\"type\":\"model\",\"name\":\"MaterialTemplateActions1\",\"properties\":[{\"name\":\"open_modal\",\"kind\":\"Any\",\"default\":0},{\"name\":\"close_modal\",\"kind\":\"Any\",\"default\":0}]}],\"roots\":[{\"type\":\"object\",\"name\":\"panel.models.markup.HTML\",\"id\":\"581b6cdb-156b-4d77-b631-20a18fc839cd\",\"attributes\":{\"stylesheets\":[\"\\n:host(.pn-loading.pn-arc):before, .pn-loading.pn-arc:before {\\n  background-image: url(\\\"data:image/svg+xml;base64,PHN2ZyB4bWxucz0iaHR0cDovL3d3dy53My5vcmcvMjAwMC9zdmciIHN0eWxlPSJtYXJnaW46IGF1dG87IGJhY2tncm91bmQ6IG5vbmU7IGRpc3BsYXk6IGJsb2NrOyBzaGFwZS1yZW5kZXJpbmc6IGF1dG87IiB2aWV3Qm94PSIwIDAgMTAwIDEwMCIgcHJlc2VydmVBc3BlY3RSYXRpbz0ieE1pZFlNaWQiPiAgPGNpcmNsZSBjeD0iNTAiIGN5PSI1MCIgZmlsbD0ibm9uZSIgc3Ryb2tlPSIjYzNjM2MzIiBzdHJva2Utd2lkdGg9IjEwIiByPSIzNSIgc3Ryb2tlLWRhc2hhcnJheT0iMTY0LjkzMzYxNDMxMzQ2NDE1IDU2Ljk3Nzg3MTQzNzgyMTM4Ij4gICAgPGFuaW1hdGVUcmFuc2Zvcm0gYXR0cmlidXRlTmFtZT0idHJhbnNmb3JtIiB0eXBlPSJyb3RhdGUiIHJlcGVhdENvdW50PSJpbmRlZmluaXRlIiBkdXI9IjFzIiB2YWx1ZXM9IjAgNTAgNTA7MzYwIDUwIDUwIiBrZXlUaW1lcz0iMDsxIj48L2FuaW1hdGVUcmFuc2Zvcm0+ICA8L2NpcmNsZT48L3N2Zz4=\\\");\\n  background-size: auto calc(min(50%, 400px));\\n}\",{\"type\":\"object\",\"name\":\"ImportedStyleSheet\",\"id\":\"61ed356a-6d26-4833-9641-d4f55082f0e0\",\"attributes\":{\"url\":\"https://cdn.holoviz.org/panel/1.2.3/dist/css/loading.css\"}},{\"type\":\"object\",\"name\":\"ImportedStyleSheet\",\"id\":\"9842770f-4556-4557-8a94-b51bf51bf75b\",\"attributes\":{\"url\":\"https://cdn.holoviz.org/panel/1.2.3/dist/bundled/theme/default.css\"}},{\"type\":\"object\",\"name\":\"ImportedStyleSheet\",\"id\":\"1aca1ca1-4336-4292-83c8-22aaf4f1b741\",\"attributes\":{\"url\":\"https://cdn.holoviz.org/panel/1.2.3/dist/bundled/theme/native.css\"}}],\"margin\":[5,10],\"align\":\"start\",\"text\":\"\\n&lt;!DOCTYPE html&gt;\\n&lt;html lang=&quot;en&quot;&gt;\\n&lt;head&gt;\\n    &lt;meta charset=&quot;UTF-8&quot;&gt;\\n    &lt;title&gt;Summary of Chamath Palihapitiya&#x27;s 2022 Annual Letter&lt;/title&gt;\\n&lt;/head&gt;\\n&lt;body&gt;\\n\\n&lt;h1&gt;Chamath Palihapitiya&#x27;s 2022 Annual Letter&lt;/h1&gt;\\n\\n&lt;h2&gt;Economic and Technological Landscape&lt;/h2&gt;\\n&lt;ul&gt;\\n    &lt;li&gt;End of the zero-interest-rate policy (ZIRP) era.&lt;/li&gt;\\n    &lt;li&gt;Impact of the war in Ukraine on energy markets.&lt;/li&gt;\\n    &lt;li&gt;Resurgence of &quot;value&quot; stocks over &quot;growth&quot; stocks.&lt;/li&gt;\\n    &lt;li&gt;Decline in valuations for growth assets like tech, biotech, SPACs, and other negative cash flow businesses due to higher discount rates and downward earnings revisions.&lt;/li&gt;\\n    &lt;li&gt;Incremental returns on technology are higher in an inflationary environment.&lt;/li&gt;\\n&lt;/ul&gt;\\n\\n&lt;h2&gt;Future Trends and Themes&lt;/h2&gt;\\n&lt;ul&gt;\\n    &lt;li&gt;Two core themes for the 2020s: marginal cost of energy and compute going to zero.&lt;/li&gt;\\n    &lt;li&gt;Potential of solar energy, wind, and natural gas as abundant and affordable energy sources.&lt;/li&gt;\\n    &lt;li&gt;Shift from Moore&#x27;s Law and CPUs to parallelism powered by GPUs, ASICs, and FPGAs as key drivers of innovation.&lt;/li&gt;\\n&lt;/ul&gt;\\n\\n&lt;h2&gt;Market Conditions and Predictions&lt;/h2&gt;\\n&lt;ul&gt;\\n    &lt;li&gt;&quot;Perfect storm&quot; factors leading to 2022&#x27;s market downturn.&lt;/li&gt;\\n    &lt;li&gt;Potential further decline if the U.S. enters a recession.&lt;/li&gt;\\n    &lt;li&gt;Upcoming decade to be defined by applications of computer science in energy and life sciences.&lt;/li&gt;\\n    &lt;li&gt;Unprecedented opportunities due to costs of energy and compute trending towards zero.&lt;/li&gt;\\n&lt;/ul&gt;\\n\\n&lt;h2&gt;Investment Focus and Highlights&lt;/h2&gt;\\n&lt;ul&gt;\\n    &lt;li&gt;Emphasis on profitability and cost-cutting in challenging tech landscape.&lt;/li&gt;\\n    &lt;li&gt;Need for venture capitalists to actively support portfolio companies.&lt;/li&gt;\\n    &lt;li&gt;Discussion on recent investments including Palmetto, Mitra Chem, Swarm, Saildrone, and Early Is Good.&lt;/li&gt;\\n    &lt;li&gt;Alignment with energy transition, life sciences, and deep tech focus.&lt;/li&gt;\\n&lt;/ul&gt;\\n\\n&lt;h2&gt;Performance of Social Capital Investment Firm&lt;/h2&gt;\\n&lt;ul&gt;\\n    &lt;li&gt;Challenges faced in 2022, including global economic downturn and tech company collapses.&lt;/li&gt;\\n    &lt;li&gt;Positive returns achieved despite challenges.&lt;/li&gt;\\n    &lt;li&gt;Success attributed to long-term investing and risk-taking with early-stage companies.&lt;/li&gt;\\n    &lt;li&gt;Successful investments in OpenAI, SpaceX, and SoFi highlighted.&lt;/li&gt;\\n    &lt;li&gt;Future focus on artificial intelligence and emerging technologies.&lt;/li&gt;\\n    &lt;li&gt;Gratitude expressed to investors and employees, with optimism for future success.&lt;/li&gt;\\n&lt;/ul&gt;\\n\\n&lt;h2&gt;Economy, Technology, and Society Insights&lt;/h2&gt;\\n&lt;ul&gt;\\n    &lt;li&gt;Current economic system viewed as &quot;rigged&quot; against the middle class.&lt;/li&gt;\\n    &lt;li&gt;Emphasis on investing in technology for financial security.&lt;/li&gt;\\n    &lt;li&gt;Potential dangers and regulatory needs for artificial intelligence.&lt;/li&gt;\\n    &lt;li&gt;Argument that society is in a time of &quot;mass delusion&quot; with a need for independent thought.&lt;/li&gt;\\n&lt;/ul&gt;\\n\\n&lt;/body&gt;\\n&lt;/html&gt;\\n\\n\",\"disable_math\":true}},{\"type\":\"object\",\"name\":\"panel.models.comm_manager.CommManager\",\"id\":\"1ca823ba-4aff-4f74-a285-3bb4f7ecd69d\",\"attributes\":{\"plot_id\":\"581b6cdb-156b-4d77-b631-20a18fc839cd\",\"comm_id\":\"b40ef89f3181414db8a44100c480ad3b\",\"client_comm_id\":\"3796b782b4844be1a434269b1dc686bc\"}}],\"callbacks\":{\"type\":\"map\"}}};\n",
       "  var render_items = [{\"docid\":\"79022006-f0a3-4137-9ec1-f60bd06cc97a\",\"roots\":{\"581b6cdb-156b-4d77-b631-20a18fc839cd\":\"efc2eaa4-a7dd-4c0c-97f8-107e60973d05\"},\"root_ids\":[\"581b6cdb-156b-4d77-b631-20a18fc839cd\"]}];\n",
       "  var docs = Object.values(docs_json)\n",
       "  if (!docs) {\n",
       "    return\n",
       "  }\n",
       "  const py_version = docs[0].version.replace('rc', '-rc.').replace('.dev', '-dev.')\n",
       "  const is_dev = py_version.indexOf(\"+\") !== -1 || py_version.indexOf(\"-\") !== -1\n",
       "  function embed_document(root) {\n",
       "    var Bokeh = get_bokeh(root)\n",
       "    Bokeh.embed.embed_items_notebook(docs_json, render_items);\n",
       "    for (const render_item of render_items) {\n",
       "      for (const root_id of render_item.root_ids) {\n",
       "\tconst id_el = document.getElementById(root_id)\n",
       "\tif (id_el.children.length && (id_el.children[0].className === 'bk-root')) {\n",
       "\t  const root_el = id_el.children[0]\n",
       "\t  root_el.id = root_el.id + '-rendered'\n",
       "\t}\n",
       "      }\n",
       "    }\n",
       "  }\n",
       "  function get_bokeh(root) {\n",
       "    if (root.Bokeh === undefined) {\n",
       "      return null\n",
       "    } else if (root.Bokeh.version !== py_version && !is_dev) {\n",
       "      if (root.Bokeh.versions === undefined || !root.Bokeh.versions.has(py_version)) {\n",
       "\treturn null\n",
       "      }\n",
       "      return root.Bokeh.versions.get(py_version);\n",
       "    } else if (root.Bokeh.version === py_version) {\n",
       "      return root.Bokeh\n",
       "    }\n",
       "    return null\n",
       "  }\n",
       "  function is_loaded(root) {\n",
       "    var Bokeh = get_bokeh(root)\n",
       "    return (Bokeh != null && Bokeh.Panel !== undefined)\n",
       "  }\n",
       "  if (is_loaded(root)) {\n",
       "    embed_document(root);\n",
       "  } else {\n",
       "    var attempts = 0;\n",
       "    var timer = setInterval(function(root) {\n",
       "      if (is_loaded(root)) {\n",
       "        clearInterval(timer);\n",
       "        embed_document(root);\n",
       "      } else if (document.readyState == \"complete\") {\n",
       "        attempts++;\n",
       "        if (attempts > 200) {\n",
       "          clearInterval(timer);\n",
       "\t  var Bokeh = get_bokeh(root)\n",
       "\t  if (Bokeh == null || Bokeh.Panel == null) {\n",
       "            console.warn(\"Panel: ERROR: Unable to run Panel code because Bokeh or Panel library is missing\");\n",
       "\t  } else {\n",
       "\t    console.warn(\"Panel: WARNING: Attempting to render but not all required libraries could be resolved.\")\n",
       "\t    embed_document(root)\n",
       "\t  }\n",
       "        }\n",
       "      }\n",
       "    }, 25, root)\n",
       "  }\n",
       "})(window);</script>"
      ],
      "text/plain": [
       "HTML(str)"
      ]
     },
     "execution_count": 238,
     "metadata": {
      "application/vnd.holoviews_exec.v0+json": {
       "id": "581b6cdb-156b-4d77-b631-20a18fc839cd"
      }
     },
     "output_type": "execute_result"
    }
   ],
   "source": [
    "chatGPTResponse = \"\"\"\n",
    "<!DOCTYPE html>\n",
    "<html lang=\"en\">\n",
    "<head>\n",
    "    <meta charset=\"UTF-8\">\n",
    "    <title>Summary of Chamath Palihapitiya's 2022 Annual Letter</title>\n",
    "</head>\n",
    "<body>\n",
    "\n",
    "<h1>Chamath Palihapitiya's 2022 Annual Letter</h1>\n",
    "\n",
    "<h2>Economic and Technological Landscape</h2>\n",
    "<ul>\n",
    "    <li>End of the zero-interest-rate policy (ZIRP) era.</li>\n",
    "    <li>Impact of the war in Ukraine on energy markets.</li>\n",
    "    <li>Resurgence of \"value\" stocks over \"growth\" stocks.</li>\n",
    "    <li>Decline in valuations for growth assets like tech, biotech, SPACs, and other negative cash flow businesses due to higher discount rates and downward earnings revisions.</li>\n",
    "    <li>Incremental returns on technology are higher in an inflationary environment.</li>\n",
    "</ul>\n",
    "\n",
    "<h2>Future Trends and Themes</h2>\n",
    "<ul>\n",
    "    <li>Two core themes for the 2020s: marginal cost of energy and compute going to zero.</li>\n",
    "    <li>Potential of solar energy, wind, and natural gas as abundant and affordable energy sources.</li>\n",
    "    <li>Shift from Moore's Law and CPUs to parallelism powered by GPUs, ASICs, and FPGAs as key drivers of innovation.</li>\n",
    "</ul>\n",
    "\n",
    "<h2>Market Conditions and Predictions</h2>\n",
    "<ul>\n",
    "    <li>\"Perfect storm\" factors leading to 2022's market downturn.</li>\n",
    "    <li>Potential further decline if the U.S. enters a recession.</li>\n",
    "    <li>Upcoming decade to be defined by applications of computer science in energy and life sciences.</li>\n",
    "    <li>Unprecedented opportunities due to costs of energy and compute trending towards zero.</li>\n",
    "</ul>\n",
    "\n",
    "<h2>Investment Focus and Highlights</h2>\n",
    "<ul>\n",
    "    <li>Emphasis on profitability and cost-cutting in challenging tech landscape.</li>\n",
    "    <li>Need for venture capitalists to actively support portfolio companies.</li>\n",
    "    <li>Discussion on recent investments including Palmetto, Mitra Chem, Swarm, Saildrone, and Early Is Good.</li>\n",
    "    <li>Alignment with energy transition, life sciences, and deep tech focus.</li>\n",
    "</ul>\n",
    "\n",
    "<h2>Performance of Social Capital Investment Firm</h2>\n",
    "<ul>\n",
    "    <li>Challenges faced in 2022, including global economic downturn and tech company collapses.</li>\n",
    "    <li>Positive returns achieved despite challenges.</li>\n",
    "    <li>Success attributed to long-term investing and risk-taking with early-stage companies.</li>\n",
    "    <li>Successful investments in OpenAI, SpaceX, and SoFi highlighted.</li>\n",
    "    <li>Future focus on artificial intelligence and emerging technologies.</li>\n",
    "    <li>Gratitude expressed to investors and employees, with optimism for future success.</li>\n",
    "</ul>\n",
    "\n",
    "<h2>Economy, Technology, and Society Insights</h2>\n",
    "<ul>\n",
    "    <li>Current economic system viewed as \"rigged\" against the middle class.</li>\n",
    "    <li>Emphasis on investing in technology for financial security.</li>\n",
    "    <li>Potential dangers and regulatory needs for artificial intelligence.</li>\n",
    "    <li>Argument that society is in a time of \"mass delusion\" with a need for independent thought.</li>\n",
    "</ul>\n",
    "\n",
    "</body>\n",
    "</html>\n",
    "\n",
    "\"\"\"\n",
    "pn.pane.HTML(chatGPTResponse)"
   ]
  },
  {
   "cell_type": "code",
   "execution_count": null,
   "id": "16e32d38-a35e-4bc9-a34f-43abcd6cc3f1",
   "metadata": {},
   "outputs": [],
   "source": []
  },
  {
   "cell_type": "code",
   "execution_count": 102,
   "id": "6ab6e5d0-bef1-4926-bd5c-7e55495d4551",
   "metadata": {},
   "outputs": [
    {
     "data": {
      "text/plain": [
       "1399"
      ]
     },
     "execution_count": 102,
     "metadata": {},
     "output_type": "execute_result"
    }
   ],
   "source": [
    " "
   ]
  },
  {
   "cell_type": "code",
   "execution_count": null,
   "id": "27b92ca1-5133-4df6-a74d-8b356af9bac5",
   "metadata": {},
   "outputs": [],
   "source": [
    " summarize_chunks(text_to_summarize, chat_model, parameters)"
   ]
  },
  {
   "cell_type": "code",
   "execution_count": null,
   "id": "6b92a946-c725-424e-b07a-0c049bf66eca",
   "metadata": {},
   "outputs": [],
   "source": [
    " \n",
    "\n",
    " \n",
    "response = chat.send_message(\"\"\"Here is the text response\"\"\", **parameters)\n",
    "print(f\"Response from Model: {response.text}\")"
   ]
  }
 ],
 "metadata": {
  "kernelspec": {
   "display_name": "Python 3 (ipykernel)",
   "language": "python",
   "name": "python3"
  },
  "language_info": {
   "codemirror_mode": {
    "name": "ipython",
    "version": 3
   },
   "file_extension": ".py",
   "mimetype": "text/x-python",
   "name": "python",
   "nbconvert_exporter": "python",
   "pygments_lexer": "ipython3",
   "version": "3.8.18"
  }
 },
 "nbformat": 4,
 "nbformat_minor": 5
}
